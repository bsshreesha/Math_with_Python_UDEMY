{
 "cells": [
  {
   "cell_type": "markdown",
   "id": "178ed10c",
   "metadata": {},
   "source": [
    "# ALL THE CODES IN THE COURSE\n",
    "\n",
    "## CODING MATHEMATICS WITH PYTHON\n",
    "## INSTRUCTOR: MIKE X COHEN\n",
    "## PLATFORM: UDEMY\n",
    "## B S SHREESHA"
   ]
  },
  {
   "cell_type": "code",
   "execution_count": 1,
   "id": "42f8aa0a",
   "metadata": {},
   "outputs": [
    {
     "data": {
      "text/plain": [
       "8"
      ]
     },
     "execution_count": 1,
     "metadata": {},
     "output_type": "execute_result"
    }
   ],
   "source": [
    "3+5"
   ]
  },
  {
   "cell_type": "code",
   "execution_count": 2,
   "id": "f2cafc58",
   "metadata": {},
   "outputs": [
    {
     "data": {
      "text/plain": [
       "17"
      ]
     },
     "execution_count": 2,
     "metadata": {},
     "output_type": "execute_result"
    }
   ],
   "source": [
    "22-5"
   ]
  },
  {
   "cell_type": "code",
   "execution_count": 3,
   "id": "8af3c8c9",
   "metadata": {},
   "outputs": [
    {
     "data": {
      "text/plain": [
       "640"
      ]
     },
     "execution_count": 3,
     "metadata": {},
     "output_type": "execute_result"
    }
   ],
   "source": [
    "20*32"
   ]
  },
  {
   "cell_type": "code",
   "execution_count": 4,
   "id": "37d26cb2",
   "metadata": {},
   "outputs": [
    {
     "data": {
      "text/plain": [
       "5"
      ]
     },
     "execution_count": 4,
     "metadata": {},
     "output_type": "execute_result"
    }
   ],
   "source": [
    "3*3+1-5"
   ]
  },
  {
   "cell_type": "code",
   "execution_count": 5,
   "id": "ffbb84f8",
   "metadata": {},
   "outputs": [
    {
     "data": {
      "text/plain": [
       "18"
      ]
     },
     "execution_count": 5,
     "metadata": {},
     "output_type": "execute_result"
    }
   ],
   "source": [
    "5*4-2"
   ]
  },
  {
   "cell_type": "code",
   "execution_count": 6,
   "id": "ad4299cd",
   "metadata": {},
   "outputs": [
    {
     "data": {
      "text/plain": [
       "1.0"
      ]
     },
     "execution_count": 6,
     "metadata": {},
     "output_type": "execute_result"
    }
   ],
   "source": [
    "(1+3)/4"
   ]
  },
  {
   "cell_type": "code",
   "execution_count": 7,
   "id": "eea1a04a",
   "metadata": {},
   "outputs": [
    {
     "data": {
      "text/plain": [
       "4.7"
      ]
     },
     "execution_count": 7,
     "metadata": {},
     "output_type": "execute_result"
    }
   ],
   "source": [
    "5-(2/4)*(3/5)"
   ]
  },
  {
   "cell_type": "code",
   "execution_count": 9,
   "id": "4cf9cab8",
   "metadata": {},
   "outputs": [
    {
     "data": {
      "text/plain": [
       "-0.030303030303030304"
      ]
     },
     "execution_count": 9,
     "metadata": {},
     "output_type": "execute_result"
    }
   ],
   "source": [
    "(4-5)/(3+5*6)"
   ]
  },
  {
   "cell_type": "code",
   "execution_count": 11,
   "id": "1bcd7448",
   "metadata": {},
   "outputs": [
    {
     "data": {
      "text/plain": [
       "4"
      ]
     },
     "execution_count": 11,
     "metadata": {},
     "output_type": "execute_result"
    }
   ],
   "source": [
    "x = 4\n",
    "x"
   ]
  },
  {
   "cell_type": "code",
   "execution_count": 12,
   "id": "2b68dbac",
   "metadata": {},
   "outputs": [
    {
     "data": {
      "text/plain": [
       "2"
      ]
     },
     "execution_count": 12,
     "metadata": {},
     "output_type": "execute_result"
    }
   ],
   "source": [
    "x - 2"
   ]
  },
  {
   "cell_type": "code",
   "execution_count": 13,
   "id": "6f93434b",
   "metadata": {},
   "outputs": [
    {
     "data": {
      "text/plain": [
       "18"
      ]
     },
     "execution_count": 13,
     "metadata": {},
     "output_type": "execute_result"
    }
   ],
   "source": [
    "x + 14"
   ]
  },
  {
   "cell_type": "code",
   "execution_count": 18,
   "id": "4b5376f1",
   "metadata": {},
   "outputs": [
    {
     "data": {
      "text/plain": [
       "5"
      ]
     },
     "execution_count": 18,
     "metadata": {},
     "output_type": "execute_result"
    }
   ],
   "source": [
    "x = 15\n",
    "x = x-2*5\n",
    "x"
   ]
  },
  {
   "cell_type": "code",
   "execution_count": 20,
   "id": "14b11940",
   "metadata": {},
   "outputs": [
    {
     "name": "stdout",
     "output_type": "stream",
     "text": [
      "805\n",
      "29.193548387096776\n"
     ]
    }
   ],
   "source": [
    "x = 30\n",
    "y = 25\n",
    "z = 31\n",
    "\n",
    "print(x+y*z)\n",
    "print(x-y/z)"
   ]
  },
  {
   "cell_type": "code",
   "execution_count": 31,
   "id": "0dca8493",
   "metadata": {},
   "outputs": [
    {
     "name": "stdout",
     "output_type": "stream",
     "text": [
      "42\n",
      "0.0\n"
     ]
    }
   ],
   "source": [
    "x = 7\n",
    "y = -2\n",
    "z = 5\n",
    "print(3*x*(4+y))\n",
    "print(-y-(x+3)/z)"
   ]
  },
  {
   "cell_type": "code",
   "execution_count": 4,
   "id": "ac23134a",
   "metadata": {},
   "outputs": [
    {
     "data": {
      "text/plain": [
       "'4 + 3 = 7'"
      ]
     },
     "metadata": {},
     "output_type": "display_data"
    }
   ],
   "source": [
    "from IPython.display import display, Math\n",
    "display(\"4 + 3 = 7\")"
   ]
  },
  {
   "cell_type": "code",
   "execution_count": 8,
   "id": "17d34f5f",
   "metadata": {},
   "outputs": [
    {
     "data": {
      "text/plain": [
       "'4 + 3 = 7'"
      ]
     },
     "metadata": {},
     "output_type": "display_data"
    },
    {
     "data": {
      "text/plain": [
       "'4 + 3 = 7'"
      ]
     },
     "metadata": {},
     "output_type": "display_data"
    }
   ],
   "source": [
    "from IPython.display import display, Math\n",
    "display(\"4 + 3 = 7\")\n",
    "display(\"4 + 3 = \" + str(4+3))"
   ]
  },
  {
   "cell_type": "code",
   "execution_count": 9,
   "id": "c7f8e4c6",
   "metadata": {},
   "outputs": [
    {
     "data": {
      "text/plain": [
       "'4 + 3 = 7'"
      ]
     },
     "metadata": {},
     "output_type": "display_data"
    },
    {
     "data": {
      "text/plain": [
       "'4 + 3 = '"
      ]
     },
     "metadata": {},
     "output_type": "display_data"
    },
    {
     "data": {
      "text/plain": [
       "7"
      ]
     },
     "metadata": {},
     "output_type": "display_data"
    }
   ],
   "source": [
    "from IPython.display import display, Math\n",
    "display(\"4 + 3 = 7\")\n",
    "display(\"4 + 3 = \",4+3)"
   ]
  },
  {
   "cell_type": "code",
   "execution_count": 11,
   "id": "53f80433",
   "metadata": {},
   "outputs": [
    {
     "data": {
      "text/latex": [
       "$\\displaystyle 4 + 3 = 7$"
      ],
      "text/plain": [
       "<IPython.core.display.Math object>"
      ]
     },
     "metadata": {},
     "output_type": "display_data"
    }
   ],
   "source": [
    "display(Math(\"4 + 3 = 7\")) #LaTeX formatted code"
   ]
  },
  {
   "cell_type": "code",
   "execution_count": 16,
   "id": "b7fae17e",
   "metadata": {},
   "outputs": [
    {
     "data": {
      "text/latex": [
       "$\\displaystyle 108$"
      ],
      "text/plain": [
       "<IPython.core.display.Math object>"
      ]
     },
     "metadata": {},
     "output_type": "display_data"
    }
   ],
   "source": [
    "x = 10\n",
    "y = 8\n",
    "#Concatenated the 2 functions\n",
    "display(Math(str(x) + str(y)))"
   ]
  },
  {
   "cell_type": "code",
   "execution_count": 22,
   "id": "7662d0fa",
   "metadata": {},
   "outputs": [
    {
     "data": {
      "text/latex": [
       "$\\displaystyle 10+8=18$"
      ],
      "text/plain": [
       "<IPython.core.display.Math object>"
      ]
     },
     "metadata": {},
     "output_type": "display_data"
    }
   ],
   "source": [
    "x = 10\n",
    "y = 8\n",
    "#Addition\n",
    "display(Math(str(x) + \"+\"  + str(y) + \"=\" + str(x+y)))"
   ]
  },
  {
   "cell_type": "code",
   "execution_count": 26,
   "id": "eea906dd",
   "metadata": {},
   "outputs": [
    {
     "data": {
      "text/latex": [
       "$\\displaystyle 10 + 8 = 18$"
      ],
      "text/plain": [
       "<IPython.core.display.Math object>"
      ]
     },
     "metadata": {},
     "output_type": "display_data"
    }
   ],
   "source": [
    "display(Math(\"%g + %g = %g\" %(x,y,x+y))) #Initialising with the help of variables instead of numbers"
   ]
  },
  {
   "cell_type": "code",
   "execution_count": 32,
   "id": "aa1f096a",
   "metadata": {},
   "outputs": [
    {
     "data": {
      "text/latex": [
       "$\\displaystyle 4/5 = 0.8$"
      ],
      "text/plain": [
       "<IPython.core.display.Math object>"
      ]
     },
     "metadata": {},
     "output_type": "display_data"
    },
    {
     "data": {
      "text/latex": [
       "$\\displaystyle \\frac{4}{5} = 0.8$"
      ],
      "text/plain": [
       "<IPython.core.display.Math object>"
      ]
     },
     "metadata": {},
     "output_type": "display_data"
    }
   ],
   "source": [
    "display(Math(\"4/5 = 0.8\"))\n",
    "display(Math(\"\\\\frac{4}{5} = 0.8\"))"
   ]
  },
  {
   "cell_type": "code",
   "execution_count": 33,
   "id": "ed1c52bd",
   "metadata": {},
   "outputs": [
    {
     "data": {
      "text/latex": [
       "$\\displaystyle 3.4 \\times 17 = 57.8$"
      ],
      "text/plain": [
       "<IPython.core.display.Math object>"
      ]
     },
     "metadata": {},
     "output_type": "display_data"
    }
   ],
   "source": [
    "x = 3.4\n",
    "y = 17\n",
    "\n",
    "display(Math(\"%g \\\\times %g = %g\" %(x,y,x*y)))"
   ]
  },
  {
   "cell_type": "code",
   "execution_count": 4,
   "id": "aa584bc9",
   "metadata": {},
   "outputs": [
    {
     "name": "stdout",
     "output_type": "stream",
     "text": [
      "42\n"
     ]
    },
    {
     "data": {
      "text/latex": [
       "$\\displaystyle 3x(4+y)=42$"
      ],
      "text/plain": [
       "<IPython.core.display.Math object>"
      ]
     },
     "metadata": {},
     "output_type": "display_data"
    },
    {
     "data": {
      "text/latex": [
       "$\\displaystyle 3 \\times 7(4+(-2)) = 42$"
      ],
      "text/plain": [
       "<IPython.core.display.Math object>"
      ]
     },
     "metadata": {},
     "output_type": "display_data"
    }
   ],
   "source": [
    "x = 7\n",
    "y = -2\n",
    "z = 5\n",
    "print(3*x*(4+y))\n",
    "ans = 3*x*(4+y)\n",
    "display(Math(\"3x(4+y)=%g\" %ans))\n",
    "display(Math(\"3 \\\\times %g(4+(%g)) = %g\" %(x,y,ans)))"
   ]
  },
  {
   "cell_type": "code",
   "execution_count": 77,
   "id": "22595c3e",
   "metadata": {},
   "outputs": [
    {
     "data": {
      "text/latex": [
       "$\\displaystyle -y -\\frac{x+3}{z} = 0$"
      ],
      "text/plain": [
       "<IPython.core.display.Math object>"
      ]
     },
     "metadata": {},
     "output_type": "display_data"
    },
    {
     "data": {
      "text/latex": [
       "$\\displaystyle -(-2) -\\frac{7+3}{5} = 0$"
      ],
      "text/plain": [
       "<IPython.core.display.Math object>"
      ]
     },
     "metadata": {},
     "output_type": "display_data"
    }
   ],
   "source": [
    "x = 7\n",
    "y = -2\n",
    "z = 5\n",
    "ans = -y-(x+3)/z\n",
    "display(Math(\"-y -\\\\frac{x+3}{z} = %g\" %ans))\n",
    "display(Math(\"-(%g) -\\\\frac{%g+3}{%g} = %g\" %(y,x,z,ans)))"
   ]
  },
  {
   "cell_type": "code",
   "execution_count": 2,
   "id": "daf0155e",
   "metadata": {},
   "outputs": [
    {
     "name": "stdout",
     "output_type": "stream",
     "text": [
      "8\n"
     ]
    }
   ],
   "source": [
    "# y = 15 --This is a comment\n",
    "x = 8\n",
    "print(x)"
   ]
  },
  {
   "cell_type": "code",
   "execution_count": 2,
   "id": "68df33f6",
   "metadata": {},
   "outputs": [
    {
     "data": {
      "text/plain": [
       "9"
      ]
     },
     "execution_count": 2,
     "metadata": {},
     "output_type": "execute_result"
    }
   ],
   "source": [
    "3**2"
   ]
  },
  {
   "cell_type": "code",
   "execution_count": 4,
   "id": "6ecf56eb",
   "metadata": {},
   "outputs": [
    {
     "data": {
      "text/plain": [
       "8"
      ]
     },
     "execution_count": 4,
     "metadata": {},
     "output_type": "execute_result"
    }
   ],
   "source": [
    "pow(2,3)"
   ]
  },
  {
   "cell_type": "code",
   "execution_count": 5,
   "id": "cbc97f1c",
   "metadata": {},
   "outputs": [
    {
     "name": "stdout",
     "output_type": "stream",
     "text": [
      "729\n"
     ]
    }
   ],
   "source": [
    "print(3**2 * 3**4)"
   ]
  },
  {
   "cell_type": "code",
   "execution_count": 6,
   "id": "e904cc9f",
   "metadata": {},
   "outputs": [
    {
     "data": {
      "text/plain": [
       "8"
      ]
     },
     "execution_count": 6,
     "metadata": {},
     "output_type": "execute_result"
    }
   ],
   "source": [
    "x = 3\n",
    "2**x"
   ]
  },
  {
   "cell_type": "code",
   "execution_count": 7,
   "id": "246f1db6",
   "metadata": {},
   "outputs": [
    {
     "name": "stdout",
     "output_type": "stream",
     "text": [
      "729\n",
      "729\n"
     ]
    }
   ],
   "source": [
    "print(3**2 * 3**4)\n",
    "print(3**(2+4))"
   ]
  },
  {
   "cell_type": "code",
   "execution_count": 12,
   "id": "9359cfb9",
   "metadata": {},
   "outputs": [
    {
     "data": {
      "text/plain": [
       "2.0"
      ]
     },
     "execution_count": 12,
     "metadata": {},
     "output_type": "execute_result"
    }
   ],
   "source": [
    "4**(1/2)"
   ]
  },
  {
   "cell_type": "code",
   "execution_count": 13,
   "id": "4134d236",
   "metadata": {},
   "outputs": [
    {
     "data": {
      "text/plain": [
       "1.4422495703074083"
      ]
     },
     "execution_count": 13,
     "metadata": {},
     "output_type": "execute_result"
    }
   ],
   "source": [
    "3**(1/3)"
   ]
  },
  {
   "cell_type": "code",
   "execution_count": 18,
   "id": "89d3c746",
   "metadata": {},
   "outputs": [
    {
     "data": {
      "text/latex": [
       "$\\displaystyle 2 ^ {2} = 4$"
      ],
      "text/plain": [
       "<IPython.core.display.Math object>"
      ]
     },
     "metadata": {},
     "output_type": "display_data"
    }
   ],
   "source": [
    "from IPython.display import display,Math\n",
    "display(Math(\"2 ^ {2} = 4\"))"
   ]
  },
  {
   "cell_type": "code",
   "execution_count": 20,
   "id": "91032819",
   "metadata": {},
   "outputs": [
    {
     "data": {
      "text/latex": [
       "$\\displaystyle 3^2 \\times 3^4 = 3^{2+4}$"
      ],
      "text/plain": [
       "<IPython.core.display.Math object>"
      ]
     },
     "metadata": {},
     "output_type": "display_data"
    }
   ],
   "source": [
    "display(Math(\"3^2 \\\\times 3^4 = 3^{2+4}\"))"
   ]
  },
  {
   "cell_type": "code",
   "execution_count": 24,
   "id": "e6481893",
   "metadata": {},
   "outputs": [
    {
     "name": "stdout",
     "output_type": "stream",
     "text": [
      "3933.086147822751\n",
      "0.007355576930579584\n",
      "10\n"
     ]
    }
   ],
   "source": [
    "x = 5\n",
    "y = 5.1\n",
    "print(x**(3/4) * 4**(y))\n",
    "print(3**(3)/x**(y))\n",
    "print(10**(x-4))"
   ]
  },
  {
   "cell_type": "code",
   "execution_count": 47,
   "id": "fb7fae91",
   "metadata": {},
   "outputs": [
    {
     "data": {
      "text/latex": [
       "$\\displaystyle x^{3/4} \\times 4^{y} = 3933.09 $"
      ],
      "text/plain": [
       "<IPython.core.display.Math object>"
      ]
     },
     "metadata": {},
     "output_type": "display_data"
    },
    {
     "data": {
      "text/latex": [
       "$\\displaystyle  \\frac {3^3} {x^{y}} = 0.00735558 $"
      ],
      "text/plain": [
       "<IPython.core.display.Math object>"
      ]
     },
     "metadata": {},
     "output_type": "display_data"
    },
    {
     "data": {
      "text/latex": [
       "$\\displaystyle 10^{x-4} = 10 $"
      ],
      "text/plain": [
       "<IPython.core.display.Math object>"
      ]
     },
     "metadata": {},
     "output_type": "display_data"
    }
   ],
   "source": [
    "x = 5\n",
    "y = 5.1\n",
    "from IPython.display import display,Math\n",
    "ans = (x**(3/4) * 4**(y))\n",
    "ans1 = (3**(3))/x**(y)\n",
    "ans2 = 10**(x-4)\n",
    "display(Math(\"x^{3/4} \\\\times 4^{y} = %g \" %ans))\n",
    "display(Math(\" \\\\frac {3^3} {x^{y}} = %g \" %ans1))\n",
    "display(Math(\"10^{x-4} = %g \" %ans2))"
   ]
  },
  {
   "cell_type": "code",
   "execution_count": 1,
   "id": "8605c731",
   "metadata": {},
   "outputs": [
    {
     "name": "stdout",
     "output_type": "stream",
     "text": [
      "0\n",
      "1\n",
      "2\n",
      "3\n"
     ]
    }
   ],
   "source": [
    "for i in [0,1,2,3]:\n",
    "    print(i)"
   ]
  },
  {
   "cell_type": "code",
   "execution_count": 2,
   "id": "d115fd75",
   "metadata": {},
   "outputs": [
    {
     "name": "stdout",
     "output_type": "stream",
     "text": [
      "0\n",
      "2\n",
      "4\n",
      "6\n",
      "8\n"
     ]
    }
   ],
   "source": [
    "for i in [0,1,2,3,4]:\n",
    "    print(i*2)"
   ]
  },
  {
   "cell_type": "code",
   "execution_count": 4,
   "id": "7c33c8b5",
   "metadata": {},
   "outputs": [
    {
     "name": "stdout",
     "output_type": "stream",
     "text": [
      "0\n",
      "1\n",
      "2\n"
     ]
    }
   ],
   "source": [
    "for i in range(0,3):\n",
    "    print(i)"
   ]
  },
  {
   "cell_type": "code",
   "execution_count": 5,
   "id": "cd04d948",
   "metadata": {},
   "outputs": [
    {
     "name": "stdout",
     "output_type": "stream",
     "text": [
      "0\n",
      "1\n",
      "8\n",
      "27\n",
      "64\n"
     ]
    }
   ],
   "source": [
    "for t in range(0,5):\n",
    "    num = t**3\n",
    "    print(num)"
   ]
  },
  {
   "cell_type": "code",
   "execution_count": 10,
   "id": "8c02cf4a",
   "metadata": {},
   "outputs": [
    {
     "name": "stdout",
     "output_type": "stream",
     "text": [
      "2 to the power of 0 is 1\n",
      "2 to the power of 1 is 2\n",
      "2 to the power of 2 is 4\n",
      "2 to the power of 3 is 8\n",
      "2 to the power of 4 is 16\n",
      "2 to the power of 5 is 32\n",
      "2 to the power of 6 is 64\n",
      "2 to the power of 7 is 128\n",
      "2 to the power of 8 is 256\n",
      "2 to the power of 9 is 512\n"
     ]
    }
   ],
   "source": [
    "for t in range(0,10):\n",
    "    print(\"2 to the power of %g is %g\" %(t,2**t) )"
   ]
  },
  {
   "cell_type": "code",
   "execution_count": 11,
   "id": "decffdf8",
   "metadata": {},
   "outputs": [
    {
     "name": "stdout",
     "output_type": "stream",
     "text": [
      "2 to the power of 0 is 1\n",
      "2 to the power of 1 is 2\n",
      "2 to the power of 2 is 4\n",
      "2 to the power of 3 is 8\n",
      "2 to the power of 4 is 16\n",
      "2 to the power of 5 is 32\n",
      "2 to the power of 6 is 64\n",
      "2 to the power of 7 is 128\n",
      "2 to the power of 8 is 256\n",
      "2 to the power of 9 is 512\n"
     ]
    }
   ],
   "source": [
    "base = 2\n",
    "\n",
    "for t in range(0,10):\n",
    "    print(\"%g to the power of %g is %g\" %(base,t,base**t) )"
   ]
  },
  {
   "cell_type": "code",
   "execution_count": 13,
   "id": "e4c27f59",
   "metadata": {},
   "outputs": [
    {
     "name": "stdout",
     "output_type": "stream",
     "text": [
      "8 to the power of 0 is 1\n",
      "8 to the power of 1 is 8\n",
      "8 to the power of 2 is 64\n",
      "8 to the power of 3 is 512\n",
      "8 to the power of 4 is 4096\n",
      "8 to the power of 5 is 32768\n",
      "8 to the power of 6 is 262144\n",
      "8 to the power of 7 is 2.09715e+06\n",
      "8 to the power of 8 is 1.67772e+07\n",
      "8 to the power of 9 is 1.34218e+08\n"
     ]
    }
   ],
   "source": [
    "base = 8\n",
    "\n",
    "for t in range(0,10):\n",
    "    print(\"%g to the power of %g is %g\" %(base,t,base**t) )"
   ]
  },
  {
   "cell_type": "code",
   "execution_count": 15,
   "id": "e6403178",
   "metadata": {},
   "outputs": [
    {
     "name": "stdout",
     "output_type": "stream",
     "text": [
      "9\n"
     ]
    }
   ],
   "source": [
    "print(4+(3*2)-1)"
   ]
  },
  {
   "cell_type": "code",
   "execution_count": 19,
   "id": "801e14f8",
   "metadata": {},
   "outputs": [
    {
     "name": "stdout",
     "output_type": "stream",
     "text": [
      "7\n"
     ]
    }
   ],
   "source": [
    "print((4+3)*(2-1))"
   ]
  },
  {
   "cell_type": "code",
   "execution_count": 21,
   "id": "3aeaf427",
   "metadata": {},
   "outputs": [
    {
     "name": "stdout",
     "output_type": "stream",
     "text": [
      "2.0\n"
     ]
    }
   ],
   "source": [
    "print((4*5)/(7+3))"
   ]
  },
  {
   "cell_type": "code",
   "execution_count": 26,
   "id": "b292c145",
   "metadata": {},
   "outputs": [
    {
     "name": "stdout",
     "output_type": "stream",
     "text": [
      "0.0\n"
     ]
    }
   ],
   "source": [
    "print(9/(3+6)-1)"
   ]
  },
  {
   "cell_type": "code",
   "execution_count": 1,
   "id": "09d03d22",
   "metadata": {},
   "outputs": [
    {
     "data": {
      "text/plain": [
       "True"
      ]
     },
     "execution_count": 1,
     "metadata": {},
     "output_type": "execute_result"
    }
   ],
   "source": [
    "4 < 8"
   ]
  },
  {
   "cell_type": "code",
   "execution_count": 2,
   "id": "854d610b",
   "metadata": {},
   "outputs": [
    {
     "data": {
      "text/plain": [
       "False"
      ]
     },
     "execution_count": 2,
     "metadata": {},
     "output_type": "execute_result"
    }
   ],
   "source": [
    "4 > 6"
   ]
  },
  {
   "cell_type": "code",
   "execution_count": 12,
   "id": "4a2d4cbc",
   "metadata": {},
   "outputs": [
    {
     "name": "stdout",
     "output_type": "stream",
     "text": [
      "<class 'bool'>\n"
     ]
    }
   ],
   "source": [
    "b = 10 > 3*3\n",
    "print(type(b))"
   ]
  },
  {
   "cell_type": "code",
   "execution_count": 15,
   "id": "c490d678",
   "metadata": {},
   "outputs": [
    {
     "name": "stdout",
     "output_type": "stream",
     "text": [
      "False\n"
     ]
    }
   ],
   "source": [
    "b = 10 > 3*3.33333333334\n",
    "print(b)"
   ]
  },
  {
   "cell_type": "code",
   "execution_count": 18,
   "id": "26d8ebdf",
   "metadata": {},
   "outputs": [
    {
     "data": {
      "text/plain": [
       "True"
      ]
     },
     "execution_count": 18,
     "metadata": {},
     "output_type": "execute_result"
    }
   ],
   "source": [
    "5 <= 2+2+1"
   ]
  },
  {
   "cell_type": "code",
   "execution_count": 19,
   "id": "d723c5fd",
   "metadata": {},
   "outputs": [
    {
     "data": {
      "text/plain": [
       "True"
      ]
     },
     "execution_count": 19,
     "metadata": {},
     "output_type": "execute_result"
    }
   ],
   "source": [
    "4 == 2+2"
   ]
  },
  {
   "cell_type": "code",
   "execution_count": 35,
   "id": "1eea2884",
   "metadata": {},
   "outputs": [
    {
     "data": {
      "text/plain": [
       "True"
      ]
     },
     "execution_count": 35,
     "metadata": {},
     "output_type": "execute_result"
    }
   ],
   "source": [
    "x = 2\n",
    "#x = 3\n",
    "#x = 4\n",
    "4*x + 3 < 17 - x**2"
   ]
  },
  {
   "cell_type": "code",
   "execution_count": 39,
   "id": "a904e199",
   "metadata": {},
   "outputs": [
    {
     "data": {
      "text/plain": [
       "True"
      ]
     },
     "execution_count": 39,
     "metadata": {},
     "output_type": "execute_result"
    }
   ],
   "source": [
    "x = 2\n",
    "x = 3\n",
    "x = 4\n",
    "8*x - 2 <=  -3*x + 42"
   ]
  },
  {
   "cell_type": "code",
   "execution_count": 43,
   "id": "c83985c6",
   "metadata": {},
   "outputs": [
    {
     "name": "stdout",
     "output_type": "stream",
     "text": [
      "False\n"
     ]
    }
   ],
   "source": [
    "if 4+2 == 8:\n",
    "    print(\"true\")\n",
    "else:\n",
    "    print(\"False\")"
   ]
  },
  {
   "cell_type": "code",
   "execution_count": 52,
   "id": "9f8e10a3",
   "metadata": {},
   "outputs": [
    {
     "name": "stdout",
     "output_type": "stream",
     "text": [
      "8 is equal to 8\n"
     ]
    }
   ],
   "source": [
    "x1 = 8\n",
    "x2 = 8\n",
    "if(x1 > x2):\n",
    "    print(\"%g is greater than %g\"%(x1,x2))\n",
    "elif(x1 == x2):\n",
    "    print(\"%g is equal to %g\"%(x1,x2))\n",
    "else:\n",
    "    print(\"%g is lesser than %g\"%(x1,x2))"
   ]
  },
  {
   "cell_type": "code",
   "execution_count": 63,
   "id": "df2ca05e",
   "metadata": {},
   "outputs": [
    {
     "data": {
      "text/latex": [
       "$\\displaystyle 1^{-1} = 1$"
      ],
      "text/plain": [
       "<IPython.core.display.Math object>"
      ]
     },
     "metadata": {},
     "output_type": "display_data"
    },
    {
     "data": {
      "text/latex": [
       "$\\displaystyle 1^{-2} = 1$"
      ],
      "text/plain": [
       "<IPython.core.display.Math object>"
      ]
     },
     "metadata": {},
     "output_type": "display_data"
    },
    {
     "data": {
      "text/latex": [
       "$\\displaystyle 1^{-3} = 1$"
      ],
      "text/plain": [
       "<IPython.core.display.Math object>"
      ]
     },
     "metadata": {},
     "output_type": "display_data"
    },
    {
     "data": {
      "text/latex": [
       "$\\displaystyle 1^{-4} = 1$"
      ],
      "text/plain": [
       "<IPython.core.display.Math object>"
      ]
     },
     "metadata": {},
     "output_type": "display_data"
    },
    {
     "data": {
      "text/latex": [
       "$\\displaystyle 2^{-1} = 0.5$"
      ],
      "text/plain": [
       "<IPython.core.display.Math object>"
      ]
     },
     "metadata": {},
     "output_type": "display_data"
    },
    {
     "data": {
      "text/latex": [
       "$\\displaystyle 2^{-2} = 0.25$"
      ],
      "text/plain": [
       "<IPython.core.display.Math object>"
      ]
     },
     "metadata": {},
     "output_type": "display_data"
    },
    {
     "data": {
      "text/latex": [
       "$\\displaystyle 2^{-3} = 0.125$"
      ],
      "text/plain": [
       "<IPython.core.display.Math object>"
      ]
     },
     "metadata": {},
     "output_type": "display_data"
    },
    {
     "data": {
      "text/latex": [
       "$\\displaystyle 2^{-4} = 0.0625$"
      ],
      "text/plain": [
       "<IPython.core.display.Math object>"
      ]
     },
     "metadata": {},
     "output_type": "display_data"
    },
    {
     "data": {
      "text/latex": [
       "$\\displaystyle 3^{-1} = 0.333333$"
      ],
      "text/plain": [
       "<IPython.core.display.Math object>"
      ]
     },
     "metadata": {},
     "output_type": "display_data"
    },
    {
     "data": {
      "text/latex": [
       "$\\displaystyle 3^{-2} = 0.111111$"
      ],
      "text/plain": [
       "<IPython.core.display.Math object>"
      ]
     },
     "metadata": {},
     "output_type": "display_data"
    },
    {
     "data": {
      "text/latex": [
       "$\\displaystyle 3^{-3} = 0.037037$"
      ],
      "text/plain": [
       "<IPython.core.display.Math object>"
      ]
     },
     "metadata": {},
     "output_type": "display_data"
    },
    {
     "data": {
      "text/latex": [
       "$\\displaystyle 3^{-4} = 0.0123457$"
      ],
      "text/plain": [
       "<IPython.core.display.Math object>"
      ]
     },
     "metadata": {},
     "output_type": "display_data"
    }
   ],
   "source": [
    "from IPython.display import display,Math\n",
    "for i in range(0,4):\n",
    "    for j in range(0,5):\n",
    "        if(i>0 and j>0):\n",
    "            display(Math(\"%g^{-%g} = %g\" %(i,j,i**-j)))"
   ]
  },
  {
   "cell_type": "code",
   "execution_count": 3,
   "id": "80d3cd54",
   "metadata": {},
   "outputs": [
    {
     "data": {
      "text/plain": [
       "22"
      ]
     },
     "execution_count": 3,
     "metadata": {},
     "output_type": "execute_result"
    }
   ],
   "source": [
    "abs(-22)"
   ]
  },
  {
   "cell_type": "code",
   "execution_count": 8,
   "id": "12d9f5cf",
   "metadata": {},
   "outputs": [
    {
     "data": {
      "text/plain": [
       "(-8, 8)"
      ]
     },
     "execution_count": 8,
     "metadata": {},
     "output_type": "execute_result"
    }
   ],
   "source": [
    "a = -8\n",
    "b = abs(a)\n",
    "a,b"
   ]
  },
  {
   "cell_type": "code",
   "execution_count": 12,
   "id": "6df24114",
   "metadata": {},
   "outputs": [
    {
     "data": {
      "text/latex": [
       "$\\displaystyle |-8.2| = 8.2$"
      ],
      "text/plain": [
       "<IPython.core.display.Math object>"
      ]
     },
     "metadata": {},
     "output_type": "display_data"
    }
   ],
   "source": [
    "from IPython.display import display,Math\n",
    "x = -8.2\n",
    "display(Math('|%g| = %g'%(x,abs(x))))"
   ]
  },
  {
   "cell_type": "code",
   "execution_count": 16,
   "id": "99fa29c5",
   "metadata": {},
   "outputs": [
    {
     "name": "stdout",
     "output_type": "stream",
     "text": [
      "-4 was not tested\n",
      "The absolute value of 6 is 6\n",
      "-1 was not tested\n",
      "The absolute value of 43 is 43\n",
      "The absolute value of -18 is 18\n",
      "2 was not tested\n",
      "0 was not tested\n"
     ]
    }
   ],
   "source": [
    "x = [-4, 6, -1, 43, -18 , 2, 0]\n",
    "#for loop\n",
    "for xi in x:\n",
    "    if(xi<-5 or xi>2):\n",
    "        print(\"The absolute value of %g is %g\"%(xi, abs(xi)))\n",
    "    else:\n",
    "        print(\"%g was not tested\"%(xi))"
   ]
  },
  {
   "cell_type": "code",
   "execution_count": 6,
   "id": "159532f5",
   "metadata": {},
   "outputs": [
    {
     "name": "stdout",
     "output_type": "stream",
     "text": [
      "Enter a number8\n",
      "The number is even\n"
     ]
    }
   ],
   "source": [
    "a = int(input(\"Enter a number\"))\n",
    "if(a%2) == 0:\n",
    "    print(\"The number is even\")\n",
    "else:\n",
    "    print(\"The number is odd\")"
   ]
  },
  {
   "cell_type": "code",
   "execution_count": 7,
   "id": "a7399146",
   "metadata": {},
   "outputs": [
    {
     "data": {
      "text/plain": [
       "0"
      ]
     },
     "execution_count": 7,
     "metadata": {},
     "output_type": "execute_result"
    }
   ],
   "source": [
    "a = 10\n",
    "b = 5\n",
    "int(a%b)"
   ]
  },
  {
   "cell_type": "code",
   "execution_count": 9,
   "id": "c78e6ec6",
   "metadata": {},
   "outputs": [
    {
     "name": "stdout",
     "output_type": "stream",
     "text": [
      "3 goes into 8, 2.66667 times with 2\n"
     ]
    }
   ],
   "source": [
    "a = 8\n",
    "b = 3 \n",
    "divis = a/b\n",
    "remainder = a%b\n",
    "print(\"%g goes into %g, %g times with %g\"%(b,a,divis,remainder))"
   ]
  },
  {
   "cell_type": "code",
   "execution_count": 19,
   "id": "de879ed2",
   "metadata": {},
   "outputs": [
    {
     "name": "stdout",
     "output_type": "stream",
     "text": [
      "-5 is an odd  number\n",
      "-4 is an even number\n",
      "-3 is an odd  number\n",
      "-2 is an even number\n",
      "-1 is an odd  number\n",
      " 0 is an even number\n",
      " 1 is an odd  number\n",
      " 2 is an even number\n",
      " 3 is an odd  number\n",
      " 4 is an even number\n",
      " 5 is an odd  number\n"
     ]
    }
   ],
   "source": [
    "num = range(-5,6)\n",
    "for i in num:\n",
    "    firstchar = \" \"\n",
    "    if(i < 0):\n",
    "        firstchar = \"\"\n",
    "    if(i%2) == 0:\n",
    "        print(\"%s%g is an even number\"%(firstchar,i))\n",
    "    else:\n",
    "        print(\"%s%g is an odd  number\"%(firstchar,i))"
   ]
  },
  {
   "cell_type": "code",
   "execution_count": 1,
   "id": "6b30a606",
   "metadata": {},
   "outputs": [
    {
     "name": "stdout",
     "output_type": "stream",
     "text": [
      "Hello world\n"
     ]
    }
   ],
   "source": [
    "def myfunction():\n",
    "    print(\"Hello world\")\n",
    "myfunction()"
   ]
  },
  {
   "cell_type": "code",
   "execution_count": 2,
   "id": "c5c98677",
   "metadata": {},
   "outputs": [
    {
     "data": {
      "text/plain": [
       "8"
      ]
     },
     "execution_count": 2,
     "metadata": {},
     "output_type": "execute_result"
    }
   ],
   "source": [
    "int(8.8)"
   ]
  },
  {
   "cell_type": "code",
   "execution_count": 4,
   "id": "c76f0a21",
   "metadata": {},
   "outputs": [
    {
     "name": "stdout",
     "output_type": "stream",
     "text": [
      "Hello B S Shreesha\n"
     ]
    }
   ],
   "source": [
    "def myfunction(name):\n",
    "    print(\"Hello %s\"%name)\n",
    "myfunction(\"B S Shreesha\")"
   ]
  },
  {
   "cell_type": "code",
   "execution_count": 10,
   "id": "af538ab9",
   "metadata": {},
   "outputs": [
    {
     "name": "stdout",
     "output_type": "stream",
     "text": [
      "8 goes into 100, 12 times with a remainder of 4\n"
     ]
    }
   ],
   "source": [
    "def computeremainder(x,y):\n",
    "    div = int(x/y)\n",
    "    remain = x%y\n",
    "    print(\"%g goes into %g, %g times with a remainder of %g\"%(y,x,div,remain))\n",
    "computeremainder(100,8)"
   ]
  },
  {
   "cell_type": "code",
   "execution_count": 17,
   "id": "fdc37448",
   "metadata": {},
   "outputs": [
    {
     "name": "stdout",
     "output_type": "stream",
     "text": [
      "Input the numerator:10.4\n",
      "Input the denominator:8.33333\n",
      "8.33333 goes into 10.4, 1 times with a remainder of 2.06667\n"
     ]
    }
   ],
   "source": [
    "def divisionwithInput():\n",
    "    x = float(input(\"Input the numerator:\"))\n",
    "    y = float(input(\"Input the denominator:\"))\n",
    "    div = int(x/y)\n",
    "    remain = x%y\n",
    "    print(\"%g goes into %g, %g times with a remainder of %g\"%(y,x,div,remain))\n",
    "divisionwithInput()"
   ]
  },
  {
   "cell_type": "code",
   "execution_count": 38,
   "id": "04ddfbbc",
   "metadata": {},
   "outputs": [
    {
     "name": "stdout",
     "output_type": "stream",
     "text": [
      "Enter a number:8.33\n",
      "Enter another number2.4\n"
     ]
    },
    {
     "data": {
      "text/latex": [
       "$\\displaystyle \\text {Press '1' to compute }8.33^{2.4}\\text{or Press '2' to compute }\\frac {8.33} {2.4}$"
      ],
      "text/plain": [
       "<IPython.core.display.Math object>"
      ]
     },
     "metadata": {},
     "output_type": "display_data"
    },
    {
     "name": "stdout",
     "output_type": "stream",
     "text": [
      "1\n"
     ]
    },
    {
     "data": {
      "text/latex": [
       "$\\displaystyle 8.33^{2.4} = 162.012 $"
      ],
      "text/plain": [
       "<IPython.core.display.Math object>"
      ]
     },
     "metadata": {},
     "output_type": "display_data"
    }
   ],
   "source": [
    "from IPython.display import Math,display\n",
    "def powers(x,y):\n",
    "    display(Math(\"%g^{%g} = %g \"%(x,y,x**y)))\n",
    "\n",
    "def division(x,y):\n",
    "    display(Math(\" \\\\frac {%g} {%g} = %g \"%(x,y,x/y)))\n",
    "\n",
    "def mainfunction():\n",
    "    x = float(input(\"Enter a number:\"))\n",
    "    y = float(input(\"Enter another number\"))\n",
    "    \n",
    "    display(Math(\"\\\\text {Press '1' to compute }%g^{%g}\\\\text{or Press '2' to compute }\\\\frac {%g} {%g}\" %(x,y,x,y)))\n",
    "    switch = input('')\n",
    "    \n",
    "    if switch == \"1\":\n",
    "        powers(x,y)\n",
    "    elif switch == \"2\":\n",
    "        division(x,y)\n",
    "    else:\n",
    "        print(\"Invalid Selection\")\n",
    "mainfunction()"
   ]
  },
  {
   "cell_type": "code",
   "execution_count": 53,
   "id": "ac2350ca",
   "metadata": {},
   "outputs": [
    {
     "name": "stdout",
     "output_type": "stream",
     "text": [
      "Guess the number44\n",
      "Guess Higher\n",
      "Guess again85\n",
      "Guess lower\n",
      "Guess again78\n",
      "Guess lower\n",
      "Guess again65\n",
      "Guess lower\n",
      "Guess again50\n",
      "Guess Higher\n",
      "Guess again55\n",
      "Guess Higher\n",
      "Guess again62\n",
      "Guess lower\n",
      "Guess again61\n",
      "Guess lower\n",
      "Guess again58\n",
      "Guess lower\n",
      "Guess again55\n",
      "Guess Higher\n",
      "Guess again56\n",
      "YES!!! You guessed it right\n"
     ]
    }
   ],
   "source": [
    "from numpy import random\n",
    "def guesstheNumber():\n",
    "    num2guess = random.randint(0,100)\n",
    "    userguess = float(input(\"Guess the number\"))\n",
    "    \n",
    "    while userguess != num2guess:\n",
    "        if userguess < num2guess:\n",
    "            print(\"Guess Higher\")\n",
    "        elif userguess > num2guess:\n",
    "            print(\"Guess lower\")\n",
    "            \n",
    "        userguess = float(input(\"Guess again\"))\n",
    "    \n",
    "    print(\"YES!!! You guessed it right\")\n",
    "guesstheNumber()"
   ]
  },
  {
   "cell_type": "code",
   "execution_count": 5,
   "id": "63e475b5",
   "metadata": {},
   "outputs": [
    {
     "name": "stdout",
     "output_type": "stream",
     "text": [
      "x y\n"
     ]
    }
   ],
   "source": [
    "import sympy as sym\n",
    "x,y = sym.symbols(\"x,y\")\n",
    "print(x,y)"
   ]
  },
  {
   "cell_type": "code",
   "execution_count": 9,
   "id": "b221f537",
   "metadata": {},
   "outputs": [
    {
     "data": {
      "image/png": "[encoded data removed]",
      "text/latex": [
       "$\\displaystyle y + 4$"
      ],
      "text/plain": [
       "y + 4"
      ]
     },
     "execution_count": 9,
     "metadata": {},
     "output_type": "execute_result"
    }
   ],
   "source": [
    "import sympy as sym\n",
    "sym.init_printing()\n",
    "y + 4"
   ]
  },
  {
   "cell_type": "code",
   "execution_count": 11,
   "id": "11a5244a",
   "metadata": {},
   "outputs": [
    {
     "data": {
      "image/png": "[encoded data removed]",
      "text/latex": [
       "$\\displaystyle x^{4}$"
      ],
      "text/plain": [
       " 4\n",
       "x "
      ]
     },
     "metadata": {},
     "output_type": "display_data"
    },
    {
     "data": {
      "image/png": "[encoded data removed]",
      "text/latex": [
       "$\\displaystyle \\frac{x}{y}$"
      ],
      "text/plain": [
       "x\n",
       "─\n",
       "y"
      ]
     },
     "metadata": {},
     "output_type": "display_data"
    }
   ],
   "source": [
    "import sympy as sym\n",
    "sym.init_printing()\n",
    "from IPython.display import Math,display\n",
    "display(x**4)\n",
    "display(x/y)"
   ]
  },
  {
   "cell_type": "code",
   "execution_count": 13,
   "id": "20d573e4",
   "metadata": {},
   "outputs": [
    {
     "data": {
      "image/png": "[encoded data removed]",
      "text/latex": [
       "$\\displaystyle 1.4142135623731$"
      ],
      "text/plain": [
       "1.4142135623730951"
      ]
     },
     "metadata": {},
     "output_type": "display_data"
    },
    {
     "data": {
      "image/png": "[encoded data removed]",
      "text/latex": [
       "$\\displaystyle \\sqrt{2}$"
      ],
      "text/plain": [
       "√2"
      ]
     },
     "metadata": {},
     "output_type": "display_data"
    }
   ],
   "source": [
    "import sympy as sym\n",
    "import numpy as np\n",
    "sym.init_printing()\n",
    "from IPython.display import Math,display\n",
    "display(np.sqrt(2))\n",
    "display(sym.sqrt(2))"
   ]
  },
  {
   "cell_type": "code",
   "execution_count": 25,
   "id": "4b4449d8",
   "metadata": {},
   "outputs": [
    {
     "data": {
      "image/png": "[encoded data removed]",
      "text/latex": [
       "$\\displaystyle x^{2} y$"
      ],
      "text/plain": [
       " 2  \n",
       "x ⋅y"
      ]
     },
     "metadata": {},
     "output_type": "display_data"
    },
    {
     "data": {
      "image/png": "[encoded data removed]",
      "text/latex": [
       "$\\displaystyle 2 x$"
      ],
      "text/plain": [
       "2⋅x"
      ]
     },
     "metadata": {},
     "output_type": "display_data"
    },
    {
     "data": {
      "image/png": "[encoded data removed]",
      "text/latex": [
       "$\\displaystyle x$"
      ],
      "text/plain": [
       "x"
      ]
     },
     "metadata": {},
     "output_type": "display_data"
    }
   ],
   "source": [
    "import sympy as sym\n",
    "import numpy as np\n",
    "sym.init_printing()\n",
    "from IPython.display import Math,display\n",
    "display(y*(x**2))\n",
    "display(sym.sqrt(4)*x)\n",
    "display(sym.sqrt(x)*sym.sqrt(x))"
   ]
  },
  {
   "cell_type": "code",
   "execution_count": 3,
   "id": "b1a392eb",
   "metadata": {},
   "outputs": [
    {
     "data": {
      "text/latex": [
       "$\\displaystyle 4 + 3 = 7$"
      ],
      "text/plain": [
       "<IPython.core.display.Math object>"
      ]
     },
     "metadata": {},
     "output_type": "display_data"
    }
   ],
   "source": [
    "from IPython.display import Math,display\n",
    "display(Math(\"4 + 3 = 7\"))"
   ]
  },
  {
   "cell_type": "code",
   "execution_count": 13,
   "id": "e9a5b4a4",
   "metadata": {},
   "outputs": [
    {
     "data": {
      "text/latex": [
       "$\\displaystyle \\sigma = \\mu \\times \\sqrt{5x+3z-17u}$"
      ],
      "text/plain": [
       "<IPython.core.display.Math object>"
      ]
     },
     "metadata": {},
     "output_type": "display_data"
    }
   ],
   "source": [
    "from IPython.display import Math,display\n",
    "display(Math(\"\\\\sigma = \\\\mu \\\\times \\\\sqrt{5x+3z-17u}\"))"
   ]
  },
  {
   "cell_type": "code",
   "execution_count": 10,
   "id": "b6453a31",
   "metadata": {},
   "outputs": [
    {
     "data": {
      "text/latex": [
       "$\\displaystyle \\int {4x} dx$"
      ],
      "text/plain": [
       "<IPython.core.display.Math object>"
      ]
     },
     "metadata": {},
     "output_type": "display_data"
    }
   ],
   "source": [
    "from IPython.display import Math,display\n",
    "display(Math(\"\\\\int {4x} dx\"))"
   ]
  },
  {
   "cell_type": "code",
   "execution_count": 20,
   "id": "d389d32a",
   "metadata": {},
   "outputs": [
    {
     "data": {
      "text/latex": [
       "$\\displaystyle x_{mm} + y^{n+2k-15}$"
      ],
      "text/plain": [
       "<IPython.core.display.Math object>"
      ]
     },
     "metadata": {},
     "output_type": "display_data"
    },
    {
     "data": {
      "text/latex": [
       "$\\displaystyle \\text{The answer to this equation is }\\frac{1 + x}{2v - s^{t+4r}}$"
      ],
      "text/plain": [
       "<IPython.core.display.Math object>"
      ]
     },
     "metadata": {},
     "output_type": "display_data"
    }
   ],
   "source": [
    "from IPython.display import Math,display\n",
    "display(Math(\"x_{mm} + y^{n+2k-15}\"))\n",
    "display(Math(\"\\\\text{The answer to this equation is }\\\\frac{1 + x}{2v - s^{t+4r}}\"))"
   ]
  },
  {
   "cell_type": "code",
   "execution_count": 21,
   "id": "4a320429",
   "metadata": {},
   "outputs": [
    {
     "data": {
      "text/latex": [
       "$\\displaystyle \\text{The Binomial Theorem Formula is = } (a + b)^n = ^nC_0a^{n} + ^nC_1a^{n-1} b +  ^nC_2a^{n-2} b^{2} + ...$"
      ],
      "text/plain": [
       "<IPython.core.display.Math object>"
      ]
     },
     "metadata": {},
     "output_type": "display_data"
    }
   ],
   "source": [
    "from IPython.display import Math,display\n",
    "display(Math(\"\\\\text{The Binomial Theorem Formula is = } (a + b)^n = ^nC_0a^{n} + ^nC_1a^{n-1} b +  ^nC_2a^{n-2} b^{2} + ...\"))"
   ]
  },
  {
   "cell_type": "markdown",
   "id": "be85a090",
   "metadata": {},
   "source": [
    "## This is a Markdown Cell\n",
    "\n",
    "This cell is not for running actual python code\n",
    "$$\\frac{1 + x}{2v - s^{t+4r}}$$"
   ]
  },
  {
   "cell_type": "code",
   "execution_count": 29,
   "id": "937f4f99",
   "metadata": {},
   "outputs": [
    {
     "data": {
      "text/latex": [
       "$\\displaystyle 4x + 5y - 8z = 17$"
      ],
      "text/plain": [
       "<IPython.core.display.Math object>"
      ]
     },
     "metadata": {},
     "output_type": "display_data"
    },
    {
     "data": {
      "text/latex": [
       "$\\displaystyle \\sin(2\\pi ft + \\theta)$"
      ],
      "text/plain": [
       "<IPython.core.display.Math object>"
      ]
     },
     "metadata": {},
     "output_type": "display_data"
    },
    {
     "data": {
      "text/latex": [
       "$\\displaystyle e = mc^2$"
      ],
      "text/plain": [
       "<IPython.core.display.Math object>"
      ]
     },
     "metadata": {},
     "output_type": "display_data"
    },
    {
     "data": {
      "text/latex": [
       "$\\displaystyle \\frac{4 + 5x^2}{(1+x)(1-x)}$"
      ],
      "text/plain": [
       "<IPython.core.display.Math object>"
      ]
     },
     "metadata": {},
     "output_type": "display_data"
    }
   ],
   "source": [
    "from IPython.display import Math,display\n",
    "display(Math(\"4x + 5y - 8z = 17\"))\n",
    "display(Math(\"\\\\sin(2\\\\pi ft + \\\\theta)\"))\n",
    "display(Math(\"e = mc^2\"))\n",
    "display(Math(\"\\\\frac{4 + 5x^2}{(1+x)(1-x)}\"))"
   ]
  },
  {
   "cell_type": "code",
   "execution_count": 37,
   "id": "556c879b",
   "metadata": {},
   "outputs": [
    {
     "data": {
      "image/png": "[encoded data removed]",
      "text/latex": [
       "$\\displaystyle e^{\\frac{\\left(- \\alpha + \\mu\\right)^{2}}{2 \\sigma^{2}}}$"
      ],
      "text/plain": [
       "         2\n",
       " (-α + μ) \n",
       " ─────────\n",
       "       2  \n",
       "    2⋅σ   \n",
       "ℯ         "
      ]
     },
     "execution_count": 37,
     "metadata": {},
     "output_type": "execute_result"
    }
   ],
   "source": [
    "import sympy as sym\n",
    "from IPython.display import Math,display\n",
    "sym.init_printing()\n",
    "mu,alpha,sigma = sym.symbols(\"mu,alpha,sigma\")\n",
    "sym.exp((mu - alpha)**2 / (2*sigma**2))"
   ]
  },
  {
   "cell_type": "code",
   "execution_count": 39,
   "id": "93df342f",
   "metadata": {},
   "outputs": [
    {
     "data": {
      "image/png": "[encoded data removed]",
      "text/latex": [
       "$\\displaystyle \\frac{x}{3}$"
      ],
      "text/plain": [
       "x\n",
       "─\n",
       "3"
      ]
     },
     "execution_count": 39,
     "metadata": {},
     "output_type": "execute_result"
    }
   ],
   "source": [
    "import sympy as sym\n",
    "from IPython.display import Math,display\n",
    "sym.init_printing()\n",
    "x = sym.symbols(\"x\")\n",
    "x / 3"
   ]
  },
  {
   "cell_type": "code",
   "execution_count": 49,
   "id": "c0809047",
   "metadata": {},
   "outputs": [
    {
     "data": {
      "image/png": "[encoded data removed]",
      "text/latex": [
       "$\\displaystyle -6$"
      ],
      "text/plain": [
       "-6"
      ]
     },
     "execution_count": 49,
     "metadata": {},
     "output_type": "execute_result"
    }
   ],
   "source": [
    "import sympy as sym\n",
    "from IPython.display import Math,display\n",
    "sym.init_printing()\n",
    "x, y = sym.symbols(\"x,y\")\n",
    "expr = x + 4 - 2*y\n",
    "expr.subs({x:-4, y:3})"
   ]
  },
  {
   "cell_type": "code",
   "execution_count": 51,
   "id": "a9054229",
   "metadata": {
    "scrolled": true
   },
   "outputs": [
    {
     "data": {
      "text/latex": [
       "$\\displaystyle \\frac{88}{x}$"
      ],
      "text/plain": [
       "<IPython.core.display.Math object>"
      ]
     },
     "metadata": {},
     "output_type": "display_data"
    }
   ],
   "source": [
    "from IPython.display import Math,display\n",
    "expr = 88/x\n",
    "display(Math(sym.latex(expr)))"
   ]
  },
  {
   "cell_type": "code",
   "execution_count": 52,
   "id": "62fdbcac",
   "metadata": {},
   "outputs": [
    {
     "data": {
      "text/plain": [
       "'\\\\frac{88}{x}'"
      ]
     },
     "execution_count": 52,
     "metadata": {},
     "output_type": "execute_result"
    }
   ],
   "source": [
    "from IPython.display import Math,display\n",
    "expr = 88/x\n",
    "sym.latex(expr)"
   ]
  },
  {
   "cell_type": "code",
   "execution_count": 53,
   "id": "d146baed",
   "metadata": {},
   "outputs": [
    {
     "data": {
      "text/plain": [
       "'2.0'"
      ]
     },
     "execution_count": 53,
     "metadata": {},
     "output_type": "execute_result"
    }
   ],
   "source": [
    "from IPython.display import Math,display\n",
    "sym.latex(88/44)"
   ]
  },
  {
   "cell_type": "code",
   "execution_count": 63,
   "id": "35e8ae2b",
   "metadata": {},
   "outputs": [
    {
     "data": {
      "text/latex": [
       "$\\displaystyle \\frac{3}{4}$"
      ],
      "text/plain": [
       "<IPython.core.display.Math object>"
      ]
     },
     "metadata": {},
     "output_type": "display_data"
    }
   ],
   "source": [
    "from IPython.display import Math,display\n",
    "expr = 3/x\n",
    "display(Math(sym.latex(sym.sympify(\"3/4\"))))"
   ]
  },
  {
   "cell_type": "code",
   "execution_count": 70,
   "id": "f832f3d9",
   "metadata": {},
   "outputs": [
    {
     "data": {
      "text/latex": [
       "$\\displaystyle 8$"
      ],
      "text/plain": [
       "<IPython.core.display.Math object>"
      ]
     },
     "metadata": {},
     "output_type": "display_data"
    },
    {
     "data": {
      "text/latex": [
       "$\\displaystyle 5$"
      ],
      "text/plain": [
       "<IPython.core.display.Math object>"
      ]
     },
     "metadata": {},
     "output_type": "display_data"
    },
    {
     "data": {
      "text/latex": [
       "$\\displaystyle 4$"
      ],
      "text/plain": [
       "<IPython.core.display.Math object>"
      ]
     },
     "metadata": {},
     "output_type": "display_data"
    },
    {
     "data": {
      "text/latex": [
       "$\\displaystyle 5$"
      ],
      "text/plain": [
       "<IPython.core.display.Math object>"
      ]
     },
     "metadata": {},
     "output_type": "display_data"
    },
    {
     "data": {
      "text/latex": [
       "$\\displaystyle 8$"
      ],
      "text/plain": [
       "<IPython.core.display.Math object>"
      ]
     },
     "metadata": {},
     "output_type": "display_data"
    }
   ],
   "source": [
    "import sympy as sym\n",
    "from IPython.display import Math,display\n",
    "sym.init_printing()\n",
    "x, y = sym.symbols(\"x,y\")\n",
    "expr = x**2 + 4\n",
    "display(Math(sym.latex(sym.sympify((-2)**2 + 4 ))))\n",
    "display(Math(sym.latex(sym.sympify((-1)**2 + 4 ))))\n",
    "display(Math(sym.latex(sym.sympify((-0)**2 + 4 ))))\n",
    "display(Math(sym.latex(sym.sympify((1)**2 + 4 ))))\n",
    "display(Math(sym.latex(sym.sympify((2)**2 + 4 ))))"
   ]
  },
  {
   "cell_type": "code",
   "execution_count": 81,
   "id": "e4477317",
   "metadata": {},
   "outputs": [
    {
     "data": {
      "text/latex": [
       "$\\displaystyle \\text{With } x = -2, x^2 + 4 \\quad \\Rightarrow \\quad -2^2 + 4 = 8$"
      ],
      "text/plain": [
       "<IPython.core.display.Math object>"
      ]
     },
     "metadata": {},
     "output_type": "display_data"
    },
    {
     "data": {
      "text/latex": [
       "$\\displaystyle \\text{With } x = -1, x^2 + 4 \\quad \\Rightarrow \\quad -1^2 + 4 = 5$"
      ],
      "text/plain": [
       "<IPython.core.display.Math object>"
      ]
     },
     "metadata": {},
     "output_type": "display_data"
    },
    {
     "data": {
      "text/latex": [
       "$\\displaystyle \\text{With } x = 0, x^2 + 4 \\quad \\Rightarrow \\quad 0^2 + 4 = 4$"
      ],
      "text/plain": [
       "<IPython.core.display.Math object>"
      ]
     },
     "metadata": {},
     "output_type": "display_data"
    },
    {
     "data": {
      "text/latex": [
       "$\\displaystyle \\text{With } x = 1, x^2 + 4 \\quad \\Rightarrow \\quad 1^2 + 4 = 5$"
      ],
      "text/plain": [
       "<IPython.core.display.Math object>"
      ]
     },
     "metadata": {},
     "output_type": "display_data"
    },
    {
     "data": {
      "text/latex": [
       "$\\displaystyle \\text{With } x = 2, x^2 + 4 \\quad \\Rightarrow \\quad 2^2 + 4 = 8$"
      ],
      "text/plain": [
       "<IPython.core.display.Math object>"
      ]
     },
     "metadata": {},
     "output_type": "display_data"
    }
   ],
   "source": [
    "import sympy as sym\n",
    "from IPython.display import Math,display\n",
    "sym.init_printing()\n",
    "x, y = sym.symbols(\"x,y\")\n",
    "expr = x**2 + 4\n",
    "for i in range(-2,3):\n",
    "    display(Math(\"\\\\text{With } x = %g, x^2 + 4 \\\\quad \\\\Rightarrow \\\\quad %g^2 + 4 = %g\" %(i,i,expr.subs(x,i))))"
   ]
  },
  {
   "cell_type": "code",
   "execution_count": 84,
   "id": "9382763d",
   "metadata": {},
   "outputs": [
    {
     "data": {
      "text/latex": [
       "$\\displaystyle \\text{With } x = -2, x^2 + 4 \\quad \\Rightarrow \\quad -2^2 + 4 = 8$"
      ],
      "text/plain": [
       "<IPython.core.display.Math object>"
      ]
     },
     "metadata": {},
     "output_type": "display_data"
    },
    {
     "data": {
      "text/latex": [
       "$\\displaystyle \\text{With } x = -1, x^2 + 4 \\quad \\Rightarrow \\quad -1^2 + 4 = 5$"
      ],
      "text/plain": [
       "<IPython.core.display.Math object>"
      ]
     },
     "metadata": {},
     "output_type": "display_data"
    },
    {
     "data": {
      "text/latex": [
       "$\\displaystyle \\text{With } x = 0, x^2 + 4 \\quad \\Rightarrow \\quad 0^2 + 4 = 4$"
      ],
      "text/plain": [
       "<IPython.core.display.Math object>"
      ]
     },
     "metadata": {},
     "output_type": "display_data"
    },
    {
     "data": {
      "text/latex": [
       "$\\displaystyle \\text{With } x = 1, x^2 + 4 \\quad \\Rightarrow \\quad 1^2 + 4 = 5$"
      ],
      "text/plain": [
       "<IPython.core.display.Math object>"
      ]
     },
     "metadata": {},
     "output_type": "display_data"
    },
    {
     "data": {
      "text/latex": [
       "$\\displaystyle \\text{With } x = 2, x^2 + 4 \\quad \\Rightarrow \\quad 2^2 + 4 = 8$"
      ],
      "text/plain": [
       "<IPython.core.display.Math object>"
      ]
     },
     "metadata": {},
     "output_type": "display_data"
    }
   ],
   "source": [
    "import sympy as sym\n",
    "from IPython.display import Math,display\n",
    "sym.init_printing()\n",
    "x, y = sym.symbols(\"x,y\")\n",
    "for i in range(-2,3):\n",
    "    ans = (x**2+4).subs(x,i)\n",
    "    display(Math(\"\\\\text{With } x = %g, x^2 + 4 \\\\quad \\\\Rightarrow \\\\quad %g^2 + 4 = %g\" %(i,i,ans)))"
   ]
  },
  {
   "cell_type": "code",
   "execution_count": 4,
   "id": "e5f43e9c",
   "metadata": {},
   "outputs": [
    {
     "name": "stdout",
     "output_type": "stream",
     "text": [
      "Hi my name is Shreesha and I eat 8 chocolates everyday\n"
     ]
    }
   ],
   "source": [
    "import sympy as sym\n",
    "from IPython.display import Math,display\n",
    "svar = \"Shreesha\"\n",
    "nvar = 8\n",
    "print(f\"Hi my name is {svar} and I eat {nvar} chocolates everyday\")"
   ]
  },
  {
   "cell_type": "code",
   "execution_count": 9,
   "id": "6b3b9c26",
   "metadata": {},
   "outputs": [
    {
     "data": {
      "text/latex": [
       "$\\displaystyle \\frac{x}{y}$"
      ],
      "text/plain": [
       "<IPython.core.display.Math object>"
      ]
     },
     "metadata": {},
     "output_type": "display_data"
    }
   ],
   "source": [
    "import sympy as sym\n",
    "from IPython.display import Math,display\n",
    "x,y = sym.symbols(\"x,y\")\n",
    "display(Math(f\"\\\\frac{{x}}{{y}}\"))"
   ]
  },
  {
   "cell_type": "code",
   "execution_count": 15,
   "id": "053bb5b2",
   "metadata": {},
   "outputs": [
    {
     "data": {
      "text/latex": [
       "$\\displaystyle \\frac{\\frac{3}{x}}{y}$"
      ],
      "text/plain": [
       "<IPython.core.display.Math object>"
      ]
     },
     "metadata": {},
     "output_type": "display_data"
    },
    {
     "data": {
      "text/latex": [
       "$\\displaystyle \\frac{\\frac{3}{x}}{y}$"
      ],
      "text/plain": [
       "<IPython.core.display.Math object>"
      ]
     },
     "metadata": {},
     "output_type": "display_data"
    }
   ],
   "source": [
    "import sympy as sym\n",
    "from IPython.display import Math,display\n",
    "x,y = sym.symbols(\"x,y\")\n",
    "expr = 3/x\n",
    "display(Math(f\"\\\\frac{{{sym.latex(expr)}}}{{y}}\"))\n",
    "display(Math(\"\\\\frac{%s}{%s}\"%(sym.latex(expr),y)))"
   ]
  },
  {
   "cell_type": "code",
   "execution_count": 4,
   "id": "aebfe1d4",
   "metadata": {},
   "outputs": [
    {
     "data": {
      "text/latex": [
       "$\\displaystyle x^{y} x^{z}$"
      ],
      "text/plain": [
       "<IPython.core.display.Math object>"
      ]
     },
     "metadata": {},
     "output_type": "display_data"
    },
    {
     "data": {
      "image/png": "[encoded data removed]",
      "text/latex": [
       "$\\displaystyle x^{y + z}$"
      ],
      "text/plain": [
       " y + z\n",
       "x     "
      ]
     },
     "metadata": {},
     "output_type": "display_data"
    }
   ],
   "source": [
    "import sympy as sym\n",
    "from IPython.display import Math,display\n",
    "sym.init_printing()\n",
    "x,y,z = sym.symbols(\"x,y,z\")\n",
    "ex = x**y * x**z\n",
    "display(Math(sym.latex(ex)))\n",
    "display(sym.simplify(ex))"
   ]
  },
  {
   "cell_type": "code",
   "execution_count": 5,
   "id": "01d94c7e",
   "metadata": {},
   "outputs": [
    {
     "data": {
      "text/latex": [
       "$\\displaystyle x^{y} y^{z}$"
      ],
      "text/plain": [
       "<IPython.core.display.Math object>"
      ]
     },
     "metadata": {},
     "output_type": "display_data"
    },
    {
     "data": {
      "image/png": "[encoded data removed]",
      "text/latex": [
       "$\\displaystyle x^{y} y^{z}$"
      ],
      "text/plain": [
       " y  z\n",
       "x ⋅y "
      ]
     },
     "metadata": {},
     "output_type": "display_data"
    }
   ],
   "source": [
    "import sympy as sym\n",
    "from IPython.display import Math,display\n",
    "sym.init_printing()\n",
    "x,y,z = sym.symbols(\"x,y,z\")\n",
    "ex = x**y * y**z\n",
    "display(Math(sym.latex(ex)))\n",
    "display(sym.simplify(ex))"
   ]
  },
  {
   "cell_type": "code",
   "execution_count": 10,
   "id": "b7a2c908",
   "metadata": {},
   "outputs": [
    {
     "data": {
      "text/latex": [
       "$\\displaystyle x^{y} x^{z} = x^{y + z}$"
      ],
      "text/plain": [
       "<IPython.core.display.Math object>"
      ]
     },
     "metadata": {},
     "output_type": "display_data"
    },
    {
     "data": {
      "text/latex": [
       "$\\displaystyle x^{y} x^{- z} = x^{y - z}$"
      ],
      "text/plain": [
       "<IPython.core.display.Math object>"
      ]
     },
     "metadata": {},
     "output_type": "display_data"
    },
    {
     "data": {
      "text/latex": [
       "$\\displaystyle x^{y} y^{z} = x^{y} y^{z}$"
      ],
      "text/plain": [
       "<IPython.core.display.Math object>"
      ]
     },
     "metadata": {},
     "output_type": "display_data"
    }
   ],
   "source": [
    "import sympy as sym\n",
    "from IPython.display import Math,display\n",
    "sym.init_printing()\n",
    "x,y,z = sym.symbols(\"x,y,z\")\n",
    "ex1 = x**y * x**z\n",
    "ex2 = x**y / x**z\n",
    "ex3 = x**y * y**z\n",
    "display(Math(\"%s = %s\" %(sym.latex(ex1),sym.latex(sym.simplify(ex1)))))\n",
    "display(Math(\"%s = %s\" %(sym.latex(ex2),sym.latex(sym.simplify(ex2)))))\n",
    "display(Math(\"%s = %s\" %(sym.latex(ex3),sym.latex(sym.simplify(ex3)))))"
   ]
  },
  {
   "cell_type": "code",
   "execution_count": 13,
   "id": "d3b74d05",
   "metadata": {},
   "outputs": [
    {
     "data": {
      "text/latex": [
       "$\\displaystyle \\text{True}$"
      ],
      "text/plain": [
       "True"
      ]
     },
     "execution_count": 13,
     "metadata": {},
     "output_type": "execute_result"
    }
   ],
   "source": [
    "sym.Eq(8,4+4)"
   ]
  },
  {
   "cell_type": "code",
   "execution_count": 14,
   "id": "42726b66",
   "metadata": {},
   "outputs": [
    {
     "data": {
      "text/latex": [
       "$\\displaystyle \\text{True}$"
      ],
      "text/plain": [
       "True"
      ]
     },
     "execution_count": 14,
     "metadata": {},
     "output_type": "execute_result"
    }
   ],
   "source": [
    "lhs = 4\n",
    "rhs = 6-2\n",
    "sym.Eq(lhs,rhs)"
   ]
  },
  {
   "cell_type": "code",
   "execution_count": 1,
   "id": "1cc398d2",
   "metadata": {},
   "outputs": [
    {
     "name": "stderr",
     "output_type": "stream",
     "text": [
      "C:\\Users\\bsshr\\AppData\\Local\\Temp\\ipykernel_1948\\229932408.py:8: SymPyDeprecationWarning: \n",
      "\n",
      "Eq(expr) with a single argument with the right-hand side\n",
      "defaulting to 0 is deprecated. Use Eq(expr, 0) instead.\n",
      "\n",
      "See https://docs.sympy.org/latest/explanation/active-deprecations.html#deprecated-eq-expr\n",
      "for details.\n",
      "\n",
      "This has been deprecated since SymPy version 1.5. It\n",
      "will be removed in a future version of SymPy.\n",
      "\n",
      "  sym.Eq(sym.expand(ex1-sym.simplify(ex1)))\n"
     ]
    },
    {
     "data": {
      "text/latex": [
       "$\\displaystyle \\text{True}$"
      ],
      "text/plain": [
       "True"
      ]
     },
     "execution_count": 1,
     "metadata": {},
     "output_type": "execute_result"
    }
   ],
   "source": [
    "import sympy as sym\n",
    "from IPython.display import Math,display\n",
    "sym.init_printing()\n",
    "x,y,z = sym.symbols(\"x,y,z\")\n",
    "ex1 = x**y * x**z\n",
    "ex2 = x**y / x**z\n",
    "ex3 = x**y * y**z\n",
    "sym.Eq(sym.expand(ex1-sym.simplify(ex1)))"
   ]
  },
  {
   "cell_type": "code",
   "execution_count": 26,
   "id": "2454c4e8",
   "metadata": {},
   "outputs": [
    {
     "data": {
      "image/png": "[encoded data removed]",
      "text/latex": [
       "$\\displaystyle x^{y + z}$"
      ],
      "text/plain": [
       " y + z\n",
       "x     "
      ]
     },
     "metadata": {},
     "output_type": "display_data"
    }
   ],
   "source": [
    "import sympy as sym\n",
    "from IPython.display import Math,display\n",
    "sym.init_printing()\n",
    "x,y,z = sym.symbols(\"x,y,z\")\n",
    "ex1 = x**y * x**z\n",
    "ex2 = x**y / x**z\n",
    "ex3 = x**y * y**z\n",
    "display(sym.powsimp(ex1))"
   ]
  },
  {
   "cell_type": "code",
   "execution_count": 6,
   "id": "2f5832f7",
   "metadata": {},
   "outputs": [
    {
     "name": "stdout",
     "output_type": "stream",
     "text": [
      "7 7.0\n",
      "<class 'int'>\n",
      "<class 'float'>\n",
      "0\n",
      "1\n",
      "2\n",
      "3\n",
      "4\n",
      "5\n",
      "6\n"
     ]
    }
   ],
   "source": [
    "import numpy as np\n",
    "c = 7\n",
    "d = 7.0\n",
    "print(c,d)\n",
    "print(type(c))\n",
    "print(type(d))\n",
    "for i in range(0,c):\n",
    "    print(i)"
   ]
  },
  {
   "cell_type": "code",
   "execution_count": 18,
   "id": "44046da0",
   "metadata": {},
   "outputs": [
    {
     "name": "stdout",
     "output_type": "stream",
     "text": [
      "14.0\n",
      "49.0\n"
     ]
    }
   ],
   "source": [
    "print(c + d)\n",
    "print(c * d)"
   ]
  },
  {
   "cell_type": "code",
   "execution_count": 19,
   "id": "72faded6",
   "metadata": {},
   "outputs": [
    {
     "name": "stdout",
     "output_type": "stream",
     "text": [
      "ShreeshaSheshachala\n",
      "ShreeshaShreeshaShreesha\n"
     ]
    }
   ],
   "source": [
    "firstName = \"Shreesha\"\n",
    "lastName = \"Sheshachala\"\n",
    "print(firstName + lastName)\n",
    "print(firstName * 3)"
   ]
  },
  {
   "cell_type": "code",
   "execution_count": 20,
   "id": "6cc99b32",
   "metadata": {},
   "outputs": [
    {
     "name": "stdout",
     "output_type": "stream",
     "text": [
      "Variable    Type        Data/Info\n",
      "---------------------------------\n",
      "Math        type        <class 'IPython.core.display.Math'>\n",
      "c           int         7\n",
      "d           float       7.0\n",
      "display     function    <function display at 0x000001F9115FDFC0>\n",
      "ex1         Mul         x**y*x**z\n",
      "ex2         Mul         x**y/x**z\n",
      "ex3         Mul         x**y*y**z\n",
      "firstName   str         Shreesha\n",
      "i           int         6\n",
      "lastName    str         Sheshachala\n",
      "np          module      <module 'numpy' from 'C:\\<...>ges\\\\numpy\\\\__init__.py'>\n",
      "sym         module      <module 'sympy' from 'C:\\<...>ges\\\\sympy\\\\__init__.py'>\n",
      "x           Symbol      x\n",
      "y           Symbol      y\n",
      "z           Symbol      z\n"
     ]
    }
   ],
   "source": [
    "%whos"
   ]
  },
  {
   "cell_type": "code",
   "execution_count": 40,
   "id": "b99d1c20",
   "metadata": {},
   "outputs": [
    {
     "name": "stdout",
     "output_type": "stream",
     "text": [
      "4\n",
      "4\n",
      "<class 'int'>\n",
      "<class 'float'>\n",
      "4.0\n",
      "4.7\n",
      "<class 'float'>\n",
      "<class 'float'>\n",
      "5\n",
      "5.8\n",
      "<class 'str'>\n",
      "<class 'str'>\n"
     ]
    },
    {
     "data": {
      "text/plain": [
       "'5.85.8'"
      ]
     },
     "execution_count": 40,
     "metadata": {},
     "output_type": "execute_result"
    }
   ],
   "source": [
    "#Exercises!\n",
    "#Convert across datatypes\n",
    "s1 = \"4\"\n",
    "s2 = \"4.7\"\n",
    "n1 = 5\n",
    "n2 = 5.8\n",
    "\n",
    "#Convert Strings to Integers\n",
    "print(int(s1))\n",
    "print(int(float(s2)))\n",
    "print(type(int(s1)))\n",
    "print(type(float(s2)))\n",
    "\n",
    "#Convert Strings to Float\n",
    "print(float(s1))\n",
    "print(float(s2))\n",
    "print(type(float(s1)))\n",
    "print(type(float(s2)))\n",
    "\n",
    "#Convert Numbers to String\n",
    "print(str(n1))\n",
    "print(str(n2))\n",
    "print(type(str(n1)))\n",
    "print(type(str(n2)))\n",
    "str(n2) * 2"
   ]
  },
  {
   "cell_type": "code",
   "execution_count": 41,
   "id": "f1cc0db9",
   "metadata": {},
   "outputs": [
    {
     "name": "stdout",
     "output_type": "stream",
     "text": [
      "[0, 1, 2, 3, 8]\n"
     ]
    }
   ],
   "source": [
    "import numpy as np\n",
    "aList = [0,1,2,3,8]\n",
    "print(aList)"
   ]
  },
  {
   "cell_type": "code",
   "execution_count": 45,
   "id": "a02c7e76",
   "metadata": {},
   "outputs": [
    {
     "name": "stdout",
     "output_type": "stream",
     "text": [
      "[3, ['3', '4', '5'], 58.8, [4, 9, 8]]\n"
     ]
    }
   ],
   "source": [
    "listlist = [\n",
    "    3,                #a number\n",
    "    [\"3\",\"4\",\"5\"],    #a list of strings\n",
    "    58.8,             #another float number\n",
    "    [4,9,8]\n",
    "    ]\n",
    "print(listlist)"
   ]
  },
  {
   "cell_type": "code",
   "execution_count": 50,
   "id": "62fc1b7b",
   "metadata": {
    "scrolled": true
   },
   "outputs": [
    {
     "name": "stdout",
     "output_type": "stream",
     "text": [
      "[0, 1, 2, 3, 8]\n",
      "['0', '1', '2', '3', '4', '5']\n",
      "[0, 1, 2, 3, 8, '0', '1', '2', '3', '4', '5']\n",
      "['0', '1', '2', '3', '4', '5', '0', '1', '2', '3', '4', '5', '0', '1', '2', '3', '4', '5']\n",
      "[0, 1, 2, 3, 8, 0, 1, 2, 3, 8, 0, 1, 2, 3, 8, 0, 1, 2, 3, 8, 0, 1, 2, 3, 8, 0, 1, 2, 3, 8, 0, 1, 2, 3, 8, 0, 1, 2, 3, 8]\n"
     ]
    }
   ],
   "source": [
    "aList = [0,1,2,3,8]\n",
    "sList = [\"0\",\"1\",\"2\",\"3\",\"4\",\"5\"]\n",
    "print(aList)\n",
    "print(sList)\n",
    "print(aList + sList)\n",
    "print(sList * 3)\n",
    "print(aList * 8)"
   ]
  },
  {
   "cell_type": "code",
   "execution_count": 66,
   "id": "001836bf",
   "metadata": {},
   "outputs": [
    {
     "name": "stdout",
     "output_type": "stream",
     "text": [
      "0 S\n",
      "1 h\n",
      "2 r\n",
      "3 e\n",
      "4 e\n",
      "5 s\n",
      "6 h\n",
      "7 a\n"
     ]
    }
   ],
   "source": [
    "s = \"Shreesha\"\n",
    "for i,letter in enumerate(s):\n",
    "    print(i,letter)"
   ]
  },
  {
   "cell_type": "code",
   "execution_count": 54,
   "id": "de1243a3",
   "metadata": {},
   "outputs": [
    {
     "name": "stdout",
     "output_type": "stream",
     "text": [
      "[0, 1, 2, 3, 8]\n",
      "[0 1 2 3 8]\n",
      "[ 0  8 16 24 64]\n"
     ]
    }
   ],
   "source": [
    "aList_numpy = np.array(aList)\n",
    "print((aList))\n",
    "print((aList_numpy))\n",
    "print(aList_numpy * 8)"
   ]
  },
  {
   "cell_type": "code",
   "execution_count": 55,
   "id": "29903a20",
   "metadata": {},
   "outputs": [
    {
     "name": "stdout",
     "output_type": "stream",
     "text": [
      "[0, 1, 2, 3, 8]\n",
      "[0 1 2 3 8]\n",
      "[ 8  9 10 11 16]\n"
     ]
    }
   ],
   "source": [
    "aList_numpy = np.array(aList)\n",
    "print((aList))\n",
    "print((aList_numpy))\n",
    "print(aList_numpy + 8)"
   ]
  },
  {
   "cell_type": "code",
   "execution_count": 64,
   "id": "1b679edf",
   "metadata": {},
   "outputs": [
    {
     "name": "stdout",
     "output_type": "stream",
     "text": [
      "List element is 0 is 3 and is of type <class 'int'>\n",
      "List element is 1 is ['3', '4', '5'] and is of type <class 'int'>\n",
      "List element is 2 is 58.8 and is of type <class 'int'>\n",
      "List element is 3 is [4, 9, 8] and is of type <class 'int'>\n"
     ]
    }
   ],
   "source": [
    "listlist = [3, [\"3\",\"4\",\"5\"], 58.8, [4,9,8]]\n",
    "for i in range(len(listlist)):\n",
    "    print(f\"List element is {i} is {listlist[i]} and is of type {type(i)}\")"
   ]
  },
  {
   "cell_type": "code",
   "execution_count": 69,
   "id": "cc933457",
   "metadata": {},
   "outputs": [
    {
     "name": "stdout",
     "output_type": "stream",
     "text": [
      "List element is 0 is 3 and is of type <class 'int'>\n",
      "List element is 1 is ['3', '4', '5'] and is of type <class 'list'>\n",
      "List element is 2 is 58.8 and is of type <class 'float'>\n",
      "List element is 3 is [4, 9, 8] and is of type <class 'list'>\n"
     ]
    }
   ],
   "source": [
    "listlist = [3, [\"3\",\"4\",\"5\"], 58.8, [4,9,8]]\n",
    "for idx,i in enumerate(listlist):\n",
    "    print(f\"List element is {idx} is {i} and is of type {type(i)}\")"
   ]
  },
  {
   "cell_type": "code",
   "execution_count": 70,
   "id": "1b426bf9",
   "metadata": {
    "scrolled": true
   },
   "outputs": [
    {
     "name": "stdout",
     "output_type": "stream",
     "text": [
      "List element is 0 is 3 and is of type <class 'int'>\n",
      "List element is 1 is ['3', '4', '5'] and is of type <class 'list'>\n",
      "List element is 2 is 58.8 and is of type <class 'float'>\n",
      "List element is 3 is [4, 9, 8] and is of type <class 'list'>\n"
     ]
    }
   ],
   "source": [
    "listlist = [3, [\"3\",\"4\",\"5\"], 58.8, [4,9,8]]\n",
    "for idx,i in enumerate(listlist):\n",
    "    t = type(i)\n",
    "    print(f\"List element is {idx} is {i} and is of type {t}\")"
   ]
  },
  {
   "cell_type": "code",
   "execution_count": 71,
   "id": "229a22c3",
   "metadata": {},
   "outputs": [
    {
     "name": "stdout",
     "output_type": "stream",
     "text": [
      "List element is 0 is 3 and is of type <class 'int'>\n",
      "List element is 1 is ['3', '4', '5'] and is of type <class 'list'>\n",
      "List element is 2 is 58.8 and is of type <class 'float'>\n",
      "List element is 3 is [4, 9, 8] and is of type <class 'list'>\n"
     ]
    }
   ],
   "source": [
    "listlist = [3, [\"3\",\"4\",\"5\"], 58.8, [4,9,8]]\n",
    "for idx,i in enumerate(listlist):\n",
    "    t = str(type(i))\n",
    "    print(f\"List element is {idx} is {i} and is of type {t}\")"
   ]
  },
  {
   "cell_type": "code",
   "execution_count": 106,
   "id": "738c6089",
   "metadata": {},
   "outputs": [
    {
     "name": "stdout",
     "output_type": "stream",
     "text": [
      "List element is 0 is 3 and is of type int.\n",
      "List element is 1 is ['3', '4', '5'] and is of type list.\n",
      "List element is 2 is 58.8 and is of type float.\n",
      "List element is 3 is [4, 9, 8] and is of type list.\n"
     ]
    }
   ],
   "source": [
    "listlist = [3, [\"3\",\"4\",\"5\"], 58.8, [4,9,8]]\n",
    "for idx,i in enumerate(listlist):\n",
    "    t = str(type(i))[8:]\n",
    "    apost = t.find(\"'\")\n",
    "    print(f\"List element is {idx} is {i} and is of type {t[:apost]}.\")"
   ]
  },
  {
   "cell_type": "code",
   "execution_count": 99,
   "id": "c8671e46",
   "metadata": {},
   "outputs": [
    {
     "name": "stdout",
     "output_type": "stream",
     "text": [
      "list'>\n",
      "4\n"
     ]
    }
   ],
   "source": [
    "t[8:]\n",
    "print(t)\n",
    "apost = t.find(\"'\")\n",
    "print(apost)"
   ]
  },
  {
   "cell_type": "markdown",
   "id": "16d5ef31",
   "metadata": {},
   "source": [
    "## ALGEBRA "
   ]
  },
  {
   "cell_type": "code",
   "execution_count": 4,
   "id": "2ed31e92",
   "metadata": {},
   "outputs": [
    {
     "data": {
      "text/plain": [
       "[5/2]"
      ]
     },
     "execution_count": 4,
     "metadata": {},
     "output_type": "execute_result"
    }
   ],
   "source": [
    "import sympy as sym\n",
    "from IPython.display import display,Math\n",
    "x = sym.symbols(\"x\")\n",
    "expr = 2*x + 4 - 9\n",
    "sym.solve(expr)"
   ]
  },
  {
   "cell_type": "code",
   "execution_count": 9,
   "id": "34cf00a0",
   "metadata": {},
   "outputs": [
    {
     "data": {
      "text/latex": [
       "$\\displaystyle \\text{The solution is } 2 x - 5  \\text{ is x = }[5/2]$"
      ],
      "text/plain": [
       "<IPython.core.display.Math object>"
      ]
     },
     "metadata": {},
     "output_type": "display_data"
    }
   ],
   "source": [
    "import sympy as sym\n",
    "from IPython.display import display,Math\n",
    "x = sym.symbols(\"x\")\n",
    "expr = 2*x + 4 - 9\n",
    "display(Math(\"\\\\text{The solution is } %s  \\\\text{ is x = }%s\" %(sym.latex(expr),sym.solve(expr))))"
   ]
  },
  {
   "cell_type": "code",
   "execution_count": 13,
   "id": "9f3e4268",
   "metadata": {},
   "outputs": [
    {
     "data": {
      "text/latex": [
       "$\\displaystyle \\text{The solution is } 2 x - 5  \\text{ is x = }2.5$"
      ],
      "text/plain": [
       "<IPython.core.display.Math object>"
      ]
     },
     "metadata": {},
     "output_type": "display_data"
    }
   ],
   "source": [
    "import sympy as sym\n",
    "from IPython.display import display,Math\n",
    "x = sym.symbols(\"x\")\n",
    "expr = 2*x + 4 - 9\n",
    "display(Math(\"\\\\text{The solution is } %s  \\\\text{ is x = }%g\" %(sym.latex(expr),sym.solve(expr)[0])))"
   ]
  },
  {
   "cell_type": "code",
   "execution_count": 22,
   "id": "5a9bea56",
   "metadata": {},
   "outputs": [
    {
     "name": "stdout",
     "output_type": "stream",
     "text": [
      "-2\n"
     ]
    }
   ],
   "source": [
    "sol = sym.solve(x**2 - 4)\n",
    "type(sol)\n",
    "len(sol)\n",
    "print(sol[0])"
   ]
  },
  {
   "cell_type": "code",
   "execution_count": 26,
   "id": "28dfebdf",
   "metadata": {},
   "outputs": [
    {
     "name": "stdout",
     "output_type": "stream",
     "text": [
      "Solution #1 is -2\n",
      "Solution #2 is 2\n"
     ]
    }
   ],
   "source": [
    "expr = x**2 - 4\n",
    "sol = sym.solve(expr)\n",
    "for i in range(0,len(sol)):\n",
    "    print(\"Solution #\"  +str(i + 1)+  \" is \"  +str(sol[i]))"
   ]
  },
  {
   "cell_type": "code",
   "execution_count": 28,
   "id": "fa6c7006",
   "metadata": {},
   "outputs": [
    {
     "data": {
      "text/plain": [
       "[(x + 20)/(4*x)]"
      ]
     },
     "execution_count": 28,
     "metadata": {},
     "output_type": "execute_result"
    }
   ],
   "source": [
    "y = sym.symbols(\"y\")\n",
    "expr = x/4 - x*y + 5\n",
    "sym.solve(expr,y)"
   ]
  },
  {
   "cell_type": "code",
   "execution_count": 16,
   "id": "d7393074",
   "metadata": {},
   "outputs": [
    {
     "data": {
      "text/latex": [
       "$\\displaystyle - 2 q + 2 + \\frac{3}{q}$"
      ],
      "text/plain": [
       "<IPython.core.display.Math object>"
      ]
     },
     "metadata": {},
     "output_type": "display_data"
    },
    {
     "data": {
      "text/latex": [
       "$\\displaystyle q = \\left[ \\frac{1}{2} - \\frac{\\sqrt{7}}{2}, \\  \\frac{1}{2} + \\frac{\\sqrt{7}}{2}\\right]$"
      ],
      "text/plain": [
       "<IPython.core.display.Math object>"
      ]
     },
     "metadata": {},
     "output_type": "display_data"
    }
   ],
   "source": [
    "import sympy as sym\n",
    "from IPython.display import display,Math\n",
    "q = sym.symbols(\"q\")\n",
    "eq = 3*q + 4/q + 3  - 5*q - 1/q - 1\n",
    "display(Math(sym.latex(eq.simplify())))\n",
    "display(Math(\"q = \" + sym.latex(sym.solve(eq,q))))"
   ]
  },
  {
   "cell_type": "code",
   "execution_count": 30,
   "id": "47089318",
   "metadata": {},
   "outputs": [
    {
     "data": {
      "text/latex": [
       "$\\displaystyle 3 q^{2} + 2 q - \\frac{5}{q} - \\frac{4}{q^{3}}$"
      ],
      "text/plain": [
       "<IPython.core.display.Math object>"
      ]
     },
     "metadata": {},
     "output_type": "display_data"
    },
    {
     "data": {
      "text/latex": [
       "$\\displaystyle 3 q^{2} + 2 q - \\frac{5}{q} - \\frac{4}{q^{3}}$"
      ],
      "text/plain": [
       "<IPython.core.display.Math object>"
      ]
     },
     "metadata": {},
     "output_type": "display_data"
    },
    {
     "data": {
      "text/latex": [
       "$\\displaystyle \\frac{3 q^{5} + 2 q^{4} - 5 q^{2} - 4}{q^{3}}$"
      ],
      "text/plain": [
       "<IPython.core.display.Math object>"
      ]
     },
     "metadata": {},
     "output_type": "display_data"
    }
   ],
   "source": [
    "eq = 2*q + 3*q**2 - 5/q - 4/(q**3)\n",
    "display(Math(sym.latex(eq)))\n",
    "display(Math(sym.latex(sym.simplify(eq))))\n",
    "display(Math(sym.latex(sym.cancel(eq))))"
   ]
  },
  {
   "cell_type": "code",
   "execution_count": 43,
   "id": "a881f42f",
   "metadata": {},
   "outputs": [
    {
     "data": {
      "text/latex": [
       "$\\displaystyle \\frac{\\sqrt{15} q + \\sqrt{3}}{\\sqrt{10} q + \\sqrt{2}}$"
      ],
      "text/plain": [
       "<IPython.core.display.Math object>"
      ]
     },
     "metadata": {},
     "output_type": "display_data"
    },
    {
     "data": {
      "text/latex": [
       "$\\displaystyle \\frac{\\sqrt{6}}{2}$"
      ],
      "text/plain": [
       "<IPython.core.display.Math object>"
      ]
     },
     "metadata": {},
     "output_type": "display_data"
    },
    {
     "data": {
      "text/latex": [
       "$\\displaystyle 1.22474487139159$"
      ],
      "text/plain": [
       "1.22474487139159"
      ]
     },
     "execution_count": 43,
     "metadata": {},
     "output_type": "execute_result"
    }
   ],
   "source": [
    "expr = (sym.sqrt(3) + sym.sqrt(15) * q)/ (sym.sqrt(2) + sym.sqrt(10) *q)\n",
    "display(Math(sym.latex(expr)))\n",
    "display(Math(sym.latex(sym.simplify(expr))))\n",
    "expr.subs(q,83000).evalf()"
   ]
  },
  {
   "cell_type": "code",
   "execution_count": 9,
   "id": "ef7ed5b2",
   "metadata": {},
   "outputs": [
    {
     "name": "stdout",
     "output_type": "stream",
     "text": [
      "x*(4*x + 5)\n",
      "4*x**2 + 5*x\n"
     ]
    },
    {
     "data": {
      "text/latex": [
       "$\\displaystyle 4 x^{2} + 5 x$"
      ],
      "text/plain": [
       "<IPython.core.display.Math object>"
      ]
     },
     "metadata": {},
     "output_type": "display_data"
    },
    {
     "data": {
      "text/latex": [
       "$\\displaystyle \\left(x - 7\\right) \\left(4 x + 5\\right)$"
      ],
      "text/plain": [
       "<IPython.core.display.Math object>"
      ]
     },
     "metadata": {},
     "output_type": "display_data"
    },
    {
     "data": {
      "text/latex": [
       "$\\displaystyle 4 x^{2} - 23 x - 35$"
      ],
      "text/plain": [
       "<IPython.core.display.Math object>"
      ]
     },
     "metadata": {},
     "output_type": "display_data"
    }
   ],
   "source": [
    "import sympy as sym\n",
    "from IPython.display import display,Math\n",
    "from sympy.abc import x\n",
    "term1 = 4*x + 5\n",
    "term2 = x\n",
    "term3 = x-7\n",
    "print(term1*term2)\n",
    "print(sym.expand(term1 * term2))\n",
    "display(Math(sym.latex(sym.expand(term1 * term2))))\n",
    "display(Math(sym.latex(term1 * term3)))\n",
    "display(Math(sym.latex(sym.expand(term1 * term3))))"
   ]
  },
  {
   "cell_type": "code",
   "execution_count": 15,
   "id": "9018f35e",
   "metadata": {},
   "outputs": [
    {
     "data": {
      "text/latex": [
       "$\\displaystyle x \\left(- \\frac{5^{x}}{x} + 2 y^{2}\\right)$"
      ],
      "text/plain": [
       "<IPython.core.display.Math object>"
      ]
     },
     "metadata": {},
     "output_type": "display_data"
    },
    {
     "data": {
      "text/latex": [
       "$\\displaystyle - 5^{x} + 2 x y^{2}$"
      ],
      "text/plain": [
       "<IPython.core.display.Math object>"
      ]
     },
     "metadata": {},
     "output_type": "display_data"
    }
   ],
   "source": [
    "x,y = sym.symbols(\"x,y\")\n",
    "expr = x*(2*y**2 - 5**x/x)\n",
    "display(Math(sym.latex(expr)))\n",
    "display(Math(sym.latex(sym.expand(expr))))"
   ]
  },
  {
   "cell_type": "code",
   "execution_count": 16,
   "id": "b5b0c3b9",
   "metadata": {},
   "outputs": [
    {
     "name": "stdout",
     "output_type": "stream",
     "text": [
      "Variable   Type        Data/Info\n",
      "--------------------------------\n",
      "Math       type        <class 'IPython.core.display.Math'>\n",
      "display    function    <function display at 0x000002347F29DFC0>\n",
      "expr       Mul         x*(-5**x/x + 2*y**2)\n",
      "sym        module      <module 'sympy' from 'C:\\<...>ges\\\\sympy\\\\__init__.py'>\n",
      "term1      Add         4*x + 5\n",
      "term2      Symbol      x\n",
      "term3      Add         x - 7\n",
      "x          Symbol      x\n",
      "y          Symbol      y\n"
     ]
    }
   ],
   "source": [
    "%whos"
   ]
  },
  {
   "cell_type": "code",
   "execution_count": 29,
   "id": "c65383b5",
   "metadata": {},
   "outputs": [
    {
     "data": {
      "text/latex": [
       "$\\displaystyle \\left(2 - y\\right) \\left(x + 4\\right)$"
      ],
      "text/plain": [
       "<IPython.core.display.Math object>"
      ]
     },
     "metadata": {},
     "output_type": "display_data"
    },
    {
     "data": {
      "text/latex": [
       "$\\displaystyle - x y + 2 x - 4 y + 8$"
      ],
      "text/plain": [
       "<IPython.core.display.Math object>"
      ]
     },
     "metadata": {},
     "output_type": "display_data"
    },
    {
     "name": "stdout",
     "output_type": "stream",
     "text": [
      "when x = 0 and y = 0, f(x,y) = 8\n",
      "when x = 0 and y = 1, f(x,y) = 4\n",
      "when x = 0 and y = 2, f(x,y) = 0\n",
      "when x = 1 and y = 0, f(x,y) = 10\n",
      "when x = 1 and y = 1, f(x,y) = 5\n",
      "when x = 1 and y = 2, f(x,y) = 0\n",
      "when x = 2 and y = 0, f(x,y) = 12\n",
      "when x = 2 and y = 1, f(x,y) = 6\n",
      "when x = 2 and y = 2, f(x,y) = 0\n"
     ]
    }
   ],
   "source": [
    "x,y = sym.symbols(\"x,y\")\n",
    "eq = (4 + x)*(2 - y)\n",
    "display(Math(sym.latex(eq)))\n",
    "display(Math(sym.latex(sym.expand(eq))))\n",
    "numrange = range(0,3)\n",
    "for i in numrange:\n",
    "    for j in numrange:\n",
    "        print(\"when x = %g and y = %g, f(x,y) = %g\" %(i, j, eq.subs({x:i, y:j})))"
   ]
  },
  {
   "cell_type": "code",
   "execution_count": 8,
   "id": "386ce841",
   "metadata": {},
   "outputs": [
    {
     "name": "stdout",
     "output_type": "stream",
     "text": [
      "[[1 2]\n",
      " [3 4]]\n"
     ]
    },
    {
     "data": {
      "text/latex": [
       "$\\displaystyle \\left[\\begin{matrix}1 & 2\\\\3 & 4\\end{matrix}\\right]$"
      ],
      "text/plain": [
       "<IPython.core.display.Math object>"
      ]
     },
     "metadata": {},
     "output_type": "display_data"
    }
   ],
   "source": [
    "import sympy as sym\n",
    "from IPython.display import Math,display\n",
    "import numpy as np\n",
    "A = np.array([[1,2],[3,4]])\n",
    "print(A)\n",
    "display(Math(sym.latex(sym.sympify(A))))"
   ]
  },
  {
   "cell_type": "code",
   "execution_count": 9,
   "id": "89ab9655",
   "metadata": {},
   "outputs": [
    {
     "data": {
      "text/plain": [
       "array([[0., 0., 0.],\n",
       "       [0., 0., 0.],\n",
       "       [0., 0., 0.]])"
      ]
     },
     "execution_count": 9,
     "metadata": {},
     "output_type": "execute_result"
    }
   ],
   "source": [
    "np.zeros([3,3])"
   ]
  },
  {
   "cell_type": "code",
   "execution_count": 15,
   "id": "c4b83c6c",
   "metadata": {},
   "outputs": [
    {
     "name": "stdout",
     "output_type": "stream",
     "text": [
      "[[0. 2. 0.]\n",
      " [0. 0. 0.]\n",
      " [0. 0. 8.]]\n"
     ]
    }
   ],
   "source": [
    "mat = np.zeros([3,3])\n",
    "mat[0,1] = 2\n",
    "mat[2,2] = 8\n",
    "print(mat)"
   ]
  },
  {
   "cell_type": "code",
   "execution_count": 26,
   "id": "3c7022e0",
   "metadata": {},
   "outputs": [
    {
     "name": "stdout",
     "output_type": "stream",
     "text": [
      "[[ 1.  2.  4.]\n",
      " [ 2.  4.  8.]\n",
      " [ 4.  8. 16.]]\n"
     ]
    }
   ],
   "source": [
    "mat = np.zeros([3,3])\n",
    "numrange = range(0,3)\n",
    "for i in numrange:\n",
    "    for j in numrange:\n",
    "        mat[i,j] = 2**(i + j)\n",
    "print(mat)"
   ]
  },
  {
   "cell_type": "code",
   "execution_count": 36,
   "id": "ae10168b",
   "metadata": {},
   "outputs": [
    {
     "data": {
      "text/latex": [
       "$\\displaystyle \\left(2 - y\\right) \\left(x + 4\\right)$"
      ],
      "text/plain": [
       "<IPython.core.display.Math object>"
      ]
     },
     "metadata": {},
     "output_type": "display_data"
    },
    {
     "data": {
      "text/latex": [
       "$\\displaystyle - x y + 2 x - 4 y + 8$"
      ],
      "text/plain": [
       "<IPython.core.display.Math object>"
      ]
     },
     "metadata": {},
     "output_type": "display_data"
    },
    {
     "data": {
      "text/latex": [
       "$\\displaystyle \\left[\\begin{matrix}8.0 & 4.0 & 0.0\\\\10.0 & 5.0 & 0.0\\\\12.0 & 6.0 & 0.0\\end{matrix}\\right]$"
      ],
      "text/plain": [
       "<IPython.core.display.Math object>"
      ]
     },
     "metadata": {},
     "output_type": "display_data"
    }
   ],
   "source": [
    "x,y = sym.symbols(\"x,y\")\n",
    "eq = (4 + x)*(2 - y)\n",
    "display(Math(sym.latex(eq)))\n",
    "display(Math(sym.latex(sym.expand(eq))))\n",
    "numrange = range(0,3)\n",
    "outmat = np.zeros([len(numrange),len(numrange)])\n",
    "for i in numrange:\n",
    "    for j in numrange:\n",
    "        outmat[i,j] = eq.subs({x:i,y:j})\n",
    "display(Math(sym.latex(sym.sympify(outmat))))"
   ]
  },
  {
   "cell_type": "code",
   "execution_count": 13,
   "id": "806086d8",
   "metadata": {},
   "outputs": [
    {
     "data": {
      "text/latex": [
       "$\\displaystyle \\left[\\begin{matrix}1 & 2 & 3 & 4 & 5 & 6 & 7 & 8 & 9 & 10\\\\2 & 4 & 6 & 8 & 10 & 12 & 14 & 16 & 18 & 20\\\\3 & 6 & 9 & 12 & 15 & 18 & 21 & 24 & 27 & 30\\\\4 & 8 & 12 & 16 & 20 & 24 & 28 & 32 & 36 & 40\\\\5 & 10 & 15 & 20 & 25 & 30 & 35 & 40 & 45 & 50\\\\6 & 12 & 18 & 24 & 30 & 36 & 42 & 48 & 54 & 60\\\\7 & 14 & 21 & 28 & 35 & 42 & 49 & 56 & 63 & 70\\\\8 & 16 & 24 & 32 & 40 & 48 & 56 & 64 & 72 & 80\\\\9 & 18 & 27 & 36 & 45 & 54 & 63 & 72 & 81 & 90\\\\10 & 20 & 30 & 40 & 50 & 60 & 70 & 80 & 90 & 100\\end{matrix}\\right]$"
      ],
      "text/plain": [
       "<IPython.core.display.Math object>"
      ]
     },
     "metadata": {},
     "output_type": "display_data"
    }
   ],
   "source": [
    "import sympy as sym\n",
    "from IPython.display import Math,display\n",
    "import numpy as np\n",
    "nums = range(1,11)\n",
    "matmult = np.zeros((len(nums),len(nums)),dtype = int)\n",
    "for rowi in nums:\n",
    "    for coli in nums:\n",
    "        matmult[rowi-1,coli-1] = rowi*coli\n",
    "display(Math(sym.latex(sym.sympify(matmult))))"
   ]
  },
  {
   "cell_type": "code",
   "execution_count": 15,
   "id": "5525d922",
   "metadata": {},
   "outputs": [
    {
     "data": {
      "text/latex": [
       "$\\displaystyle \\left[\\begin{array}{}1 & 2 & 3 & 4 & 5 & 6 & 7 & 8 & 9 & 10 & 11 & 12 & 13 & 14 & 15 & 16 & 17 & 18 & 19 & 20\\\\2 & 4 & 6 & 8 & 10 & 12 & 14 & 16 & 18 & 20 & 22 & 24 & 26 & 28 & 30 & 32 & 34 & 36 & 38 & 40\\\\3 & 6 & 9 & 12 & 15 & 18 & 21 & 24 & 27 & 30 & 33 & 36 & 39 & 42 & 45 & 48 & 51 & 54 & 57 & 60\\\\4 & 8 & 12 & 16 & 20 & 24 & 28 & 32 & 36 & 40 & 44 & 48 & 52 & 56 & 60 & 64 & 68 & 72 & 76 & 80\\\\5 & 10 & 15 & 20 & 25 & 30 & 35 & 40 & 45 & 50 & 55 & 60 & 65 & 70 & 75 & 80 & 85 & 90 & 95 & 100\\\\6 & 12 & 18 & 24 & 30 & 36 & 42 & 48 & 54 & 60 & 66 & 72 & 78 & 84 & 90 & 96 & 102 & 108 & 114 & 120\\\\7 & 14 & 21 & 28 & 35 & 42 & 49 & 56 & 63 & 70 & 77 & 84 & 91 & 98 & 105 & 112 & 119 & 126 & 133 & 140\\\\8 & 16 & 24 & 32 & 40 & 48 & 56 & 64 & 72 & 80 & 88 & 96 & 104 & 112 & 120 & 128 & 136 & 144 & 152 & 160\\\\9 & 18 & 27 & 36 & 45 & 54 & 63 & 72 & 81 & 90 & 99 & 108 & 117 & 126 & 135 & 144 & 153 & 162 & 171 & 180\\\\10 & 20 & 30 & 40 & 50 & 60 & 70 & 80 & 90 & 100 & 110 & 120 & 130 & 140 & 150 & 160 & 170 & 180 & 190 & 200\\\\11 & 22 & 33 & 44 & 55 & 66 & 77 & 88 & 99 & 110 & 121 & 132 & 143 & 154 & 165 & 176 & 187 & 198 & 209 & 220\\\\12 & 24 & 36 & 48 & 60 & 72 & 84 & 96 & 108 & 120 & 132 & 144 & 156 & 168 & 180 & 192 & 204 & 216 & 228 & 240\\\\13 & 26 & 39 & 52 & 65 & 78 & 91 & 104 & 117 & 130 & 143 & 156 & 169 & 182 & 195 & 208 & 221 & 234 & 247 & 260\\\\14 & 28 & 42 & 56 & 70 & 84 & 98 & 112 & 126 & 140 & 154 & 168 & 182 & 196 & 210 & 224 & 238 & 252 & 266 & 280\\\\15 & 30 & 45 & 60 & 75 & 90 & 105 & 120 & 135 & 150 & 165 & 180 & 195 & 210 & 225 & 240 & 255 & 270 & 285 & 300\\\\16 & 32 & 48 & 64 & 80 & 96 & 112 & 128 & 144 & 160 & 176 & 192 & 208 & 224 & 240 & 256 & 272 & 288 & 304 & 320\\\\17 & 34 & 51 & 68 & 85 & 102 & 119 & 136 & 153 & 170 & 187 & 204 & 221 & 238 & 255 & 272 & 289 & 306 & 323 & 340\\\\18 & 36 & 54 & 72 & 90 & 108 & 126 & 144 & 162 & 180 & 198 & 216 & 234 & 252 & 270 & 288 & 306 & 324 & 342 & 360\\\\19 & 38 & 57 & 76 & 95 & 114 & 133 & 152 & 171 & 190 & 209 & 228 & 247 & 266 & 285 & 304 & 323 & 342 & 361 & 380\\\\20 & 40 & 60 & 80 & 100 & 120 & 140 & 160 & 180 & 200 & 220 & 240 & 260 & 280 & 300 & 320 & 340 & 360 & 380 & 400\\end{array}\\right]$"
      ],
      "text/plain": [
       "<IPython.core.display.Math object>"
      ]
     },
     "execution_count": 15,
     "metadata": {},
     "output_type": "execute_result"
    }
   ],
   "source": [
    "import sympy as sym\n",
    "from IPython.display import Math,display\n",
    "import numpy as np\n",
    "nums = range(1,21)\n",
    "matmult = np.zeros((len(nums),len(nums)),dtype = int)\n",
    "for rowi in nums:\n",
    "    for coli in nums:\n",
    "        matmult[rowi-1,coli-1] = rowi*coli\n",
    "Math(sym.latex(sym.sympify(matmult)))"
   ]
  },
  {
   "cell_type": "code",
   "execution_count": 11,
   "id": "290bf056",
   "metadata": {},
   "outputs": [
    {
     "name": "stdout",
     "output_type": "stream",
     "text": [
      "0\n"
     ]
    },
    {
     "data": {
      "text/latex": [
       "$\\displaystyle 24$"
      ],
      "text/plain": [
       "24"
      ]
     },
     "metadata": {},
     "output_type": "display_data"
    },
    {
     "data": {
      "text/latex": [
       "$\\displaystyle 24$"
      ],
      "text/plain": [
       "24"
      ]
     },
     "metadata": {},
     "output_type": "display_data"
    },
    {
     "data": {
      "text/latex": [
       "$\\displaystyle 24$"
      ],
      "text/plain": [
       "24"
      ]
     },
     "metadata": {},
     "output_type": "display_data"
    }
   ],
   "source": [
    "# Associative\n",
    "import sympy as sym\n",
    "from sympy.abc import x,y\n",
    "expr1 = x*(4*y)\n",
    "expr2 = (x*4)*y\n",
    "print(expr1 - expr2)\n",
    "\n",
    "#Commutative\n",
    "e1 = 4*x*y\n",
    "e2 = x*4*y\n",
    "e3 = x*y*4\n",
    "display(e1.subs({x:3,y:2}))\n",
    "display(e2.subs({x:3,y:2}))\n",
    "display(e3.subs({x:3,y:2}))"
   ]
  },
  {
   "cell_type": "code",
   "execution_count": 15,
   "id": "6cc7d417",
   "metadata": {},
   "outputs": [
    {
     "data": {
      "text/latex": [
       "$\\displaystyle w x + w y + x z + y z$"
      ],
      "text/plain": [
       "w*x + w*y + x*z + y*z"
      ]
     },
     "metadata": {},
     "output_type": "display_data"
    }
   ],
   "source": [
    "#Distributive\n",
    "x,y,z,w = sym.symbols(\"x,y,z,w\")\n",
    "expr = (x+y)*(z+w)\n",
    "display(sym.expand(expr))"
   ]
  },
  {
   "cell_type": "code",
   "execution_count": 25,
   "id": "3d11cb3e",
   "metadata": {},
   "outputs": [
    {
     "data": {
      "text/latex": [
       "$\\displaystyle \\left(y + z\\right) \\left(w \\left(4 - w\\right) + \\frac{w + 1}{w^{2}}\\right) \\left(\\left(w \\left(4 - w\\right) + \\frac{w + 1}{w^{2}}\\right)^{2} + \\frac{3}{w \\left(4 - w\\right) + \\frac{w + 1}{w^{2}}}\\right)$"
      ],
      "text/plain": [
       "<IPython.core.display.Math object>"
      ]
     },
     "metadata": {},
     "output_type": "display_data"
    },
    {
     "data": {
      "text/latex": [
       "$\\displaystyle \\frac{\\left(3 w^{6} + \\left(- w^{3} \\left(w - 4\\right) + w + 1\\right)^{3}\\right) \\left(y + z\\right)}{w^{6}}$"
      ],
      "text/plain": [
       "<IPython.core.display.Math object>"
      ]
     },
     "metadata": {},
     "output_type": "display_data"
    },
    {
     "data": {
      "text/latex": [
       "$\\displaystyle 0$"
      ],
      "text/plain": [
       "<IPython.core.display.Math object>"
      ]
     },
     "metadata": {},
     "output_type": "display_data"
    }
   ],
   "source": [
    "from IPython.display import Math,display\n",
    "x, y, z, w = sym.symbols(\"x,y,z,w\") #Can be without commas inside sym.symbols\n",
    "x = w*(4-w) + 1/w ** 2 * (1+w)\n",
    "f1 = x*(y+z)\n",
    "f2 = 3/x + x**2\n",
    "display(Math(sym.latex(f1 * f2)))\n",
    "display(Math(sym.latex(sym.simplify(f1 * f2))))\n",
    "display(Math(sym.latex(sym.simplify(f1 * f2 - f2 * f1)))) #Associative"
   ]
  },
  {
   "cell_type": "code",
   "execution_count": 4,
   "id": "f95f9c2d",
   "metadata": {},
   "outputs": [
    {
     "name": "stdout",
     "output_type": "stream",
     "text": [
      "<class 'list'>\n",
      "7\n"
     ]
    }
   ],
   "source": [
    "lst = [1,3,5,7]\n",
    "print(type(lst))\n",
    "print(lst[-1])"
   ]
  },
  {
   "cell_type": "code",
   "execution_count": 7,
   "id": "8311859f",
   "metadata": {},
   "outputs": [
    {
     "name": "stdout",
     "output_type": "stream",
     "text": [
      "[1, 3]\n"
     ]
    },
    {
     "data": {
      "text/plain": [
       "[1, 3, 5]"
      ]
     },
     "execution_count": 7,
     "metadata": {},
     "output_type": "execute_result"
    }
   ],
   "source": [
    "#slicing to print first n elements\n",
    "print(lst[:2])\n",
    "n = 3\n",
    "lst[:n]"
   ]
  },
  {
   "cell_type": "code",
   "execution_count": 12,
   "id": "f62d41bb",
   "metadata": {},
   "outputs": [
    {
     "name": "stdout",
     "output_type": "stream",
     "text": [
      "[5, 7]\n"
     ]
    }
   ],
   "source": [
    "#slicing to print last k elements\n",
    "k = 2\n",
    "print(lst[-k:])"
   ]
  },
  {
   "cell_type": "code",
   "execution_count": 20,
   "id": "73128dae",
   "metadata": {},
   "outputs": [
    {
     "data": {
      "text/plain": [
       "[7, 8, 9, 10]"
      ]
     },
     "execution_count": 20,
     "metadata": {},
     "output_type": "execute_result"
    }
   ],
   "source": [
    "lst = [1,3,5,7,8,9,10,11,12,13,15]\n",
    "n = 3\n",
    "k = 7\n",
    "lst[n:k]"
   ]
  },
  {
   "cell_type": "code",
   "execution_count": 25,
   "id": "9f8dd084",
   "metadata": {},
   "outputs": [
    {
     "name": "stdout",
     "output_type": "stream",
     "text": [
      "Hello\n",
      "My\n",
      "Name\n",
      "Is\n",
      "B S Shreesha\n"
     ]
    }
   ],
   "source": [
    "words = [\"Hello\",\"My\",\"Name\",\"Is\",\"B S Shreesha\"]\n",
    "for i in range(0,len(words)):\n",
    "    print(words[i])"
   ]
  },
  {
   "cell_type": "code",
   "execution_count": 26,
   "id": "dafeba88",
   "metadata": {},
   "outputs": [
    {
     "name": "stdout",
     "output_type": "stream",
     "text": [
      "Hello\n",
      "My\n",
      "Name\n",
      "Is\n",
      "B S Shreesha\n"
     ]
    }
   ],
   "source": [
    "words = [\"Hello\",\"My\",\"Name\",\"Is\",\"B S Shreesha\"]\n",
    "for i in words:\n",
    "    print(i)"
   ]
  },
  {
   "cell_type": "code",
   "execution_count": 28,
   "id": "404aeab2",
   "metadata": {},
   "outputs": [
    {
     "name": "stdout",
     "output_type": "stream",
     "text": [
      "0\n",
      "1\n",
      "2\n",
      "3\n",
      "4\n"
     ]
    }
   ],
   "source": [
    "words = [\"Hello\",\"My\",\"Name\",\"Is\",\"B S Shreesha\"]\n",
    "for i in range(0,len(words)):\n",
    "    print(i)"
   ]
  },
  {
   "cell_type": "code",
   "execution_count": 6,
   "id": "889545fd",
   "metadata": {},
   "outputs": [
    {
     "name": "stdout",
     "output_type": "stream",
     "text": [
      "1\n",
      "2\n",
      "cookies\n",
      "[6, 4]\n",
      "[6, 4]\n",
      "6\n"
     ]
    }
   ],
   "source": [
    "alist = [1,2,\"cookies\",[6,4]]\n",
    "for i in alist:\n",
    "    print(i)\n",
    "print(alist[-1])\n",
    "print(alist[-1][0])#This ccase is only used for the cases of the sublist present inside of the main list.\n",
    "#The first [-1] tells the index of the list and [0] gives the index of the element in the sublist"
   ]
  },
  {
   "cell_type": "code",
   "execution_count": 26,
   "id": "4bcf04f9",
   "metadata": {},
   "outputs": [
    {
     "data": {
      "text/latex": [
       "$\\displaystyle x \\left(4 - 6 x\\right) + 3 x \\quad \\Longleftrightarrow \\quad - 6 x^{2} + 7 x$"
      ],
      "text/plain": [
       "<IPython.core.display.Math object>"
      ]
     },
     "metadata": {},
     "output_type": "display_data"
    },
    {
     "data": {
      "text/latex": [
       "$\\displaystyle - x \\left(\\frac{2}{x} + \\frac{4}{x^{2}}\\right) + \\frac{x + 4}{4 x} \\quad \\Longleftrightarrow \\quad - \\frac{7}{4} - \\frac{3}{x}$"
      ],
      "text/plain": [
       "<IPython.core.display.Math object>"
      ]
     },
     "metadata": {},
     "output_type": "display_data"
    },
    {
     "data": {
      "text/latex": [
       "$\\displaystyle \\frac{\\left(x - 3\\right) \\left(x + 3\\right)}{9} \\quad \\Longleftrightarrow \\quad \\frac{x^{2}}{9} - 1$"
      ],
      "text/plain": [
       "<IPython.core.display.Math object>"
      ]
     },
     "metadata": {},
     "output_type": "display_data"
    }
   ],
   "source": [
    "import sympy as sym\n",
    "from IPython.display import Math,display\n",
    "x = sym.symbols(\"x\")\n",
    "e1 = 2*x + x*(4-6*x) + x\n",
    "e2 = -x * (2/x + 4/(x**2)) + ((4+x))/(4*x) #PENDAS order of priority\n",
    "e3 = (x+3)*(x-3)*x*(1/(9*x))\n",
    "exprs = [e1,e2,e3]\n",
    "for expri in exprs:\n",
    "    display(Math(\"%s \\\\quad \\\\Longleftrightarrow \\\\quad %s\" %(sym.latex(expri),sym.latex(sym.expand(expri)))))"
   ]
  },
  {
   "cell_type": "code",
   "execution_count": 3,
   "id": "e17e5f45",
   "metadata": {},
   "outputs": [
    {
     "data": {
      "text/latex": [
       "$\\displaystyle x \\left(9 - 5 x\\right) + 9 x \\quad \\Longleftrightarrow \\quad - 5 x^{2} + 18 x$"
      ],
      "text/plain": [
       "<IPython.core.display.Math object>"
      ]
     },
     "metadata": {},
     "output_type": "display_data"
    },
    {
     "data": {
      "text/latex": [
       "$\\displaystyle - 9 x \\left(\\frac{8}{x} + \\frac{7}{x^{3}}\\right) + \\frac{x + 4}{4 x^{2}} \\quad \\Longleftrightarrow \\quad -72 + \\frac{1}{4 x} - \\frac{62}{x^{2}}$"
      ],
      "text/plain": [
       "<IPython.core.display.Math object>"
      ]
     },
     "metadata": {},
     "output_type": "display_data"
    },
    {
     "data": {
      "text/latex": [
       "$\\displaystyle 9^{- x} x \\left(3 x + 3\\right) \\left(x^{4} - 3\\right) \\quad \\Longleftrightarrow \\quad 3 \\cdot 9^{- x} x^{6} + 3 \\cdot 9^{- x} x^{5} - 9 \\cdot 9^{- x} x^{2} - 9 \\cdot 9^{- x} x$"
      ],
      "text/plain": [
       "<IPython.core.display.Math object>"
      ]
     },
     "metadata": {},
     "output_type": "display_data"
    }
   ],
   "source": [
    "import sympy as sym\n",
    "from IPython.display import Math,display\n",
    "x = sym.symbols(\"x\")\n",
    "e1 = 8*x + x*(9-5*x) + x\n",
    "e2 = -9*x * (8/x + 7/(x**3)) + ((4+x))/(4*x**2) #PENDAS order of priority\n",
    "e3 = (3*x+3)*(x**4-3)*x*(1/(9**x))\n",
    "exprs = [e1,e2,e3]\n",
    "for expri in exprs:\n",
    "    display(Math(\"%s \\\\quad \\\\Longleftrightarrow \\\\quad %s\" %(sym.latex(expri),sym.latex(sym.expand(expri)))))"
   ]
  },
  {
   "cell_type": "code",
   "execution_count": 8,
   "id": "ea3be89e-b083-40d9-9080-67c71798cc57",
   "metadata": {},
   "outputs": [
    {
     "name": "stdout",
     "output_type": "stream",
     "text": [
      "[10, 11, 12, 13, 14, 15, 16, 17, 18, 19, 20]\n",
      "[10, 11, 12, 13]\n",
      "[12, 13, 14]\n",
      "[10, 11, 12, 13, 14, 15, 16, 17, 18, 19, 20]\n",
      "[15, 16, 17, 18, 19, 20]\n",
      "[10, 11, 12, 13, 14, 15]\n",
      "11\n",
      "20\n",
      "18\n"
     ]
    }
   ],
   "source": [
    "vec = list(range(10,21))\n",
    "type(vec)\n",
    "print(vec)\n",
    "print(vec[0:4])\n",
    "print(vec[2:5])\n",
    "print(vec[0:11])\n",
    "print(vec[5:])\n",
    "print(vec[:6])\n",
    "print(len(vec))\n",
    "print(vec[-1])\n",
    "print(vec[-3])"
   ]
  },
  {
   "cell_type": "code",
   "execution_count": 4,
   "id": "b6dd3164-46f9-46a4-9c48-b7fd110d383e",
   "metadata": {},
   "outputs": [
    {
     "name": "stdout",
     "output_type": "stream",
     "text": [
      "[20, 19, 18, 17, 16, 15, 14, 13, 12, 11, 10]\n",
      "[10, 12, 14]\n",
      "[10, 13]\n",
      "[10, 13, 16, 19]\n"
     ]
    }
   ],
   "source": [
    "vec = list(range(10,21))\n",
    "print(vec[::-1]) #Reverse the list completely\n",
    "print(vec[0:5:2]) #2 indicates skip by 2 positions from the starting to the ending\n",
    "print(vec[0:5:3])\n",
    "print(vec[::3]) #Print all the elements skipping in 3 or steps of 3"
   ]
  },
  {
   "cell_type": "code",
   "execution_count": 11,
   "id": "1f5fb707-2fd0-460d-8e3f-47b17c53b63d",
   "metadata": {},
   "outputs": [
    {
     "name": "stdout",
     "output_type": "stream",
     "text": [
      "3\n",
      "8\n"
     ]
    },
    {
     "ename": "TypeError",
     "evalue": "'float' object cannot be interpreted as an integer",
     "output_type": "error",
     "traceback": [
      "\u001b[1;31m---------------------------------------------------------------------------\u001b[0m",
      "\u001b[1;31mTypeError\u001b[0m                                 Traceback (most recent call last)",
      "Cell \u001b[1;32mIn[11], line 4\u001b[0m\n\u001b[0;32m      2\u001b[0m \u001b[38;5;28mprint\u001b[39m(math\u001b[38;5;241m.\u001b[39mgcd(\u001b[38;5;241m6\u001b[39m,\u001b[38;5;241m15\u001b[39m))\n\u001b[0;32m      3\u001b[0m \u001b[38;5;28mprint\u001b[39m(math\u001b[38;5;241m.\u001b[39mgcd(\u001b[38;5;241m8\u001b[39m,\u001b[38;5;241m16\u001b[39m))\n\u001b[1;32m----> 4\u001b[0m \u001b[38;5;28mprint\u001b[39m(math\u001b[38;5;241m.\u001b[39mgcd(\u001b[38;5;241m8\u001b[39m,\u001b[38;5;241m8.1\u001b[39m))\n",
      "\u001b[1;31mTypeError\u001b[0m: 'float' object cannot be interpreted as an integer"
     ]
    }
   ],
   "source": [
    "import math\n",
    "print(math.gcd(6,15))\n",
    "print(math.gcd(8,16))\n",
    "print(math.gcd(8,8.1))#Returns an error as the interpreter expects integer datatype but the datatype float is present there"
   ]
  },
  {
   "cell_type": "code",
   "execution_count": 25,
   "id": "5e5f288d-d371-4692-ae89-2d7abbd90a79",
   "metadata": {},
   "outputs": [
    {
     "data": {
      "text/latex": [
       "$\\displaystyle \\frac{16}{88} = \\frac{2/8}{11/8}$"
      ],
      "text/plain": [
       "<IPython.core.display.Math object>"
      ]
     },
     "metadata": {},
     "output_type": "display_data"
    }
   ],
   "source": [
    "from IPython.display import display,Math\n",
    "a = 16\n",
    "b = 88\n",
    "fact = math.gcd(a,b)\n",
    "display(Math(\"\\\\frac{%g}{%g} = \\\\frac{%g/%g}{%g/%g}\"%(a,b,a/fact,fact,b/fact,fact)))"
   ]
  },
  {
   "cell_type": "code",
   "execution_count": 9,
   "id": "e0faa03e-d26b-4d2c-aac3-81474fae32ad",
   "metadata": {},
   "outputs": [
    {
     "name": "stdout",
     "output_type": "stream",
     "text": [
      "c\n",
      "c\n",
      "9\n",
      "9\n"
     ]
    }
   ],
   "source": [
    "import math\n",
    "import sympy as sym\n",
    "from IPython.display import display,Math\n",
    "a,b,c = sym.symbols(\"a,b,c\")\n",
    "print(sym.gcd(a*c,b*c))\n",
    "print(c*sym.gcd(a,b))\n",
    "a = 15\n",
    "b = 6\n",
    "c = 3\n",
    "print(math.gcd(a*c,b*c))\n",
    "print(c*math.gcd(a,b))"
   ]
  },
  {
   "cell_type": "code",
   "execution_count": 22,
   "id": "bc579091-a1a1-40a3-abd3-44675a33a4b5",
   "metadata": {},
   "outputs": [
    {
     "data": {
      "text/latex": [
       "$\\displaystyle \\left[\\begin{array}{}1 & 1 & 1 & 1 & 1 & 1 & 1 & 1 & 1 & 1 & 1 & 1 & 1 & 1 & 1\\\\1 & 2 & 1 & 2 & 1 & 2 & 1 & 2 & 1 & 2 & 1 & 2 & 1 & 2 & 1\\\\1 & 1 & 3 & 1 & 1 & 3 & 1 & 1 & 3 & 1 & 1 & 3 & 1 & 1 & 3\\\\1 & 2 & 1 & 4 & 1 & 2 & 1 & 4 & 1 & 2 & 1 & 4 & 1 & 2 & 1\\\\1 & 1 & 1 & 1 & 5 & 1 & 1 & 1 & 1 & 5 & 1 & 1 & 1 & 1 & 5\\\\1 & 2 & 3 & 2 & 1 & 6 & 1 & 2 & 3 & 2 & 1 & 6 & 1 & 2 & 3\\\\1 & 1 & 1 & 1 & 1 & 1 & 7 & 1 & 1 & 1 & 1 & 1 & 1 & 7 & 1\\\\1 & 2 & 1 & 4 & 1 & 2 & 1 & 8 & 1 & 2 & 1 & 4 & 1 & 2 & 1\\\\1 & 1 & 3 & 1 & 1 & 3 & 1 & 1 & 9 & 1 & 1 & 3 & 1 & 1 & 3\\\\1 & 2 & 1 & 2 & 5 & 2 & 1 & 2 & 1 & 10 & 1 & 2 & 1 & 2 & 5\\end{array}\\right]$"
      ],
      "text/plain": [
       "<IPython.core.display.Math object>"
      ]
     },
     "metadata": {},
     "output_type": "display_data"
    }
   ],
   "source": [
    "import math\n",
    "from IPython.display import display,Math\n",
    "import numpy as np\n",
    "n = 10\n",
    "m = 15\n",
    "gcdMath = np.zeros([n,m],dtype=int)+99\n",
    "for rowi in range(0,n):\n",
    "    for colj in range(0,m):\n",
    "        gcdMath[rowi,colj] = math.gcd(rowi+1,colj+1)\n",
    "display(Math(sym.latex(sym.sympify(gcdMath))))"
   ]
  },
  {
   "cell_type": "code",
   "execution_count": 16,
   "id": "43a9c0fc-f1ae-485e-8c4a-4ab16ab42190",
   "metadata": {},
   "outputs": [
    {
     "name": "stdout",
     "output_type": "stream",
     "text": [
      "{'fruit': ['apple', 'mango'], 'number': [2, 4, 6, 8, 10]}\n",
      "apple\n",
      "2\n",
      "['apple', 'mango']\n",
      "[2, 4, 6, 8, 10]\n",
      "['apple', 'mango']\n",
      "[2, 4, 6, 8, 10]\n"
     ]
    }
   ],
   "source": [
    "#DICTIONARIES\n",
    "D = dict(fruit=[\"apple\",\"mango\"], number=[2,4,6,8,10])\n",
    "print(D)\n",
    "print((D[\"fruit\"])[0])\n",
    "print(len(D))\n",
    "print(D.get(\"fruit\"))\n",
    "print(D.get(\"number\"))\n",
    "for items in D:\n",
    "    print(D[items])"
   ]
  },
  {
   "cell_type": "code",
   "execution_count": 37,
   "id": "969ddfe8-b274-453d-a4c2-05449bac3440",
   "metadata": {},
   "outputs": [
    {
     "name": "stdout",
     "output_type": "stream",
     "text": [
      "Solutions for equations involving X: \n"
     ]
    },
    {
     "data": {
      "text/latex": [
       "$\\displaystyle  \\quad\\quad 4 x - 6 = 0\\quad \\Rightarrow \\quad X=\\left[ \\frac{3}{2}\\right]$"
      ],
      "text/plain": [
       "<IPython.core.display.Math object>"
      ]
     },
     "metadata": {},
     "output_type": "display_data"
    },
    {
     "data": {
      "text/latex": [
       "$\\displaystyle  \\quad\\quad x^{2} - 9 = 0\\quad \\Rightarrow \\quad X=\\left[ -3, \\  3\\right]$"
      ],
      "text/plain": [
       "<IPython.core.display.Math object>"
      ]
     },
     "metadata": {},
     "output_type": "display_data"
    },
    {
     "name": "stdout",
     "output_type": "stream",
     "text": [
      "Solutions for equations involving Y: \n"
     ]
    },
    {
     "data": {
      "text/latex": [
       "$\\displaystyle  \\quad\\quad \\sin{\\left(y \\right)} = 0\\quad \\Rightarrow \\quad Y=\\left[ 0, \\  \\pi\\right]$"
      ],
      "text/plain": [
       "<IPython.core.display.Math object>"
      ]
     },
     "metadata": {},
     "output_type": "display_data"
    }
   ],
   "source": [
    "import sympy as sym\n",
    "from IPython.display import display,Math\n",
    "x,y = sym.symbols(\"x,y\")\n",
    "D = dict(eqsWithX = [4*x-6, x**2-9], eqsWithY = [sym.sin(y)])\n",
    "for key in D:\n",
    "    print(\"Solutions for equations involving \" +key[-1]+ \": \")\n",
    "    for eq in D[key]:\n",
    "        left = sym.latex(eq) + \" = 0\"\n",
    "        middle = \"\\\\quad \\\\Rightarrow \\\\quad \" +key[-1]+ \"=\"   #quad gives space between the 2 of the  functions in LaTeX\n",
    "        right = sym.latex(sym.solve(eq))\n",
    "        display(Math(\" \\\\quad\\\\quad \" + left+middle+right))"
   ]
  },
  {
   "cell_type": "code",
   "execution_count": 4,
   "id": "d2dc77cd-ed24-4586-aab5-4a9589d37b6e",
   "metadata": {},
   "outputs": [
    {
     "name": "stdout",
     "output_type": "stream",
     "text": [
      "{2: 4, 3: 1}\n"
     ]
    },
    {
     "data": {
      "text/plain": [
       "dict"
      ]
     },
     "execution_count": 4,
     "metadata": {},
     "output_type": "execute_result"
    }
   ],
   "source": [
    "#PRIME FACTORISATION\n",
    "import sympy as sym\n",
    "number = 48\n",
    "fact_dict = sym.factorint(number) #Gives the prime factor of the number\n",
    "print(fact_dict)\n",
    "type(fact_dict)"
   ]
  },
  {
   "cell_type": "code",
   "execution_count": 5,
   "id": "0feb0622-aa98-46a6-b2bd-9c22030dff43",
   "metadata": {},
   "outputs": [
    {
     "name": "stdout",
     "output_type": "stream",
     "text": [
      "{5: 1}\n"
     ]
    },
    {
     "data": {
      "text/plain": [
       "dict"
      ]
     },
     "execution_count": 5,
     "metadata": {},
     "output_type": "execute_result"
    }
   ],
   "source": [
    "number = 5\n",
    "fact_dict = sym.factorint(number) #Gives the prime factor of the number\n",
    "print(fact_dict)\n",
    "type(fact_dict)"
   ]
  },
  {
   "cell_type": "code",
   "execution_count": 6,
   "id": "3432d467-94b0-4339-b5fc-682284774c68",
   "metadata": {},
   "outputs": [
    {
     "name": "stdin",
     "output_type": "stream",
     "text": [
      "Enter a number 8\n"
     ]
    },
    {
     "name": "stdout",
     "output_type": "stream",
     "text": [
      "{2: 3}\n"
     ]
    },
    {
     "data": {
      "text/plain": [
       "dict"
      ]
     },
     "execution_count": 6,
     "metadata": {},
     "output_type": "execute_result"
    }
   ],
   "source": [
    "number = int(input(\"Enter a number\"))\n",
    "fact_dict = sym.factorint(number) #Gives the prime factor of the number\n",
    "print(fact_dict)\n",
    "type(fact_dict)"
   ]
  },
  {
   "cell_type": "code",
   "execution_count": 7,
   "id": "23bb0a49-b280-48da-9f82-35a210f3859a",
   "metadata": {},
   "outputs": [
    {
     "name": "stdin",
     "output_type": "stream",
     "text": [
      "Enter a number 8\n"
     ]
    },
    {
     "name": "stdout",
     "output_type": "stream",
     "text": [
      "dict_keys([2])\n"
     ]
    }
   ],
   "source": [
    "#to obtain only keys of the dictionary\n",
    "number = int(input(\"Enter a number\"))\n",
    "fact_dict = sym.factorint(number) #Gives the prime factor of the number\n",
    "print(fact_dict.keys()) #The key() lists out the key value present in the dictionary"
   ]
  },
  {
   "cell_type": "code",
   "execution_count": 8,
   "id": "4f3708ef-cc91-49b9-a44f-c42d073466bc",
   "metadata": {},
   "outputs": [
    {
     "name": "stdin",
     "output_type": "stream",
     "text": [
      "Enter a number 48\n"
     ]
    },
    {
     "name": "stdout",
     "output_type": "stream",
     "text": [
      "dict_keys([2, 3])\n"
     ]
    },
    {
     "data": {
      "text/plain": [
       "[2, 3]"
      ]
     },
     "execution_count": 8,
     "metadata": {},
     "output_type": "execute_result"
    }
   ],
   "source": [
    "#to obtain only keys of the dictionary\n",
    "number = int(input(\"Enter a number\"))\n",
    "fact_dict = sym.factorint(number) #Gives the prime factor of the number\n",
    "print(fact_dict.keys()) #The key() lists out the key value present in the dictionary\n",
    "list(fact_dict.keys())"
   ]
  },
  {
   "cell_type": "code",
   "execution_count": 32,
   "id": "424dcd54-77b6-45d7-9779-996e0654b1ea",
   "metadata": {},
   "outputs": [
    {
     "name": "stdout",
     "output_type": "stream",
     "text": [
      "2 is a prime number\n",
      "3 is a prime number\n",
      "4 is a composite number with prime factors: [2]\n",
      "5 is a prime number\n",
      "6 is a composite number with prime factors: [2, 3]\n",
      "7 is a prime number\n",
      "8 is a composite number with prime factors: [2]\n",
      "9 is a composite number with prime factors: [3]\n",
      "10 is a composite number with prime factors: [2, 5]\n",
      "11 is a prime number\n",
      "12 is a composite number with prime factors: [2, 3]\n",
      "13 is a prime number\n",
      "14 is a composite number with prime factors: [2, 7]\n",
      "15 is a composite number with prime factors: [3, 5]\n",
      "16 is a composite number with prime factors: [2]\n",
      "17 is a prime number\n",
      "18 is a composite number with prime factors: [2, 3]\n",
      "19 is a prime number\n",
      "20 is a composite number with prime factors: [2, 5]\n",
      "21 is a composite number with prime factors: [3, 7]\n",
      "22 is a composite number with prime factors: [2, 11]\n",
      "23 is a prime number\n",
      "24 is a composite number with prime factors: [2, 3]\n",
      "25 is a composite number with prime factors: [5]\n",
      "26 is a composite number with prime factors: [2, 13]\n",
      "27 is a composite number with prime factors: [3]\n",
      "28 is a composite number with prime factors: [2, 7]\n",
      "29 is a prime number\n",
      "30 is a composite number with prime factors: [2, 3, 5]\n",
      "31 is a prime number\n",
      "32 is a composite number with prime factors: [2]\n",
      "33 is a composite number with prime factors: [3, 11]\n",
      "34 is a composite number with prime factors: [2, 17]\n",
      "35 is a composite number with prime factors: [5, 7]\n",
      "36 is a composite number with prime factors: [2, 3]\n",
      "37 is a prime number\n",
      "38 is a composite number with prime factors: [2, 19]\n",
      "39 is a composite number with prime factors: [3, 13]\n",
      "40 is a composite number with prime factors: [2, 5]\n",
      "41 is a prime number\n",
      "42 is a composite number with prime factors: [2, 3, 7]\n",
      "43 is a prime number\n",
      "44 is a composite number with prime factors: [2, 11]\n",
      "45 is a composite number with prime factors: [3, 5]\n",
      "46 is a composite number with prime factors: [2, 23]\n",
      "47 is a prime number\n",
      "48 is a composite number with prime factors: [2, 3]\n",
      "49 is a composite number with prime factors: [7]\n",
      "50 is a composite number with prime factors: [2, 5]\n"
     ]
    }
   ],
   "source": [
    "nums = range(2,51)\n",
    "for num in nums:\n",
    "    di = sym.factorint(num)\n",
    "    lst1 = list(di.keys())\n",
    "    if len(di)==1 and di[lst1[0]] == 1:\n",
    "        print(\"%g is a prime number\" %num)\n",
    "    else:\n",
    "        print(\"%g is a composite number with prime factors: %s\" %(num,list(di.keys())))"
   ]
  },
  {
   "cell_type": "code",
   "execution_count": 45,
   "id": "aae665d5-781e-4398-8971-447fad066e63",
   "metadata": {},
   "outputs": [
    {
     "data": {
      "text/latex": [
       "$\\displaystyle 2 < x \\wedge x < \\infty$"
      ],
      "text/plain": [
       "<IPython.core.display.Math object>"
      ]
     },
     "metadata": {},
     "output_type": "display_data"
    }
   ],
   "source": [
    "#INEQUALITIES\n",
    "import sympy as sym\n",
    "from IPython.display import Math, display\n",
    "x = sym.symbols(\"x\")\n",
    "expr = 4*x > 8\n",
    "display(Math(sym.latex(sym.solve(expr))))  #wedge ^ is denoted to indicate and"
   ]
  },
  {
   "cell_type": "code",
   "execution_count": 44,
   "id": "866894ee-aabd-4bcb-9e80-a17db1d9927e",
   "metadata": {},
   "outputs": [
    {
     "data": {
      "text/latex": [
       "$\\displaystyle \\text{True}$"
      ],
      "text/plain": [
       "True"
      ]
     },
     "execution_count": 44,
     "metadata": {},
     "output_type": "execute_result"
    }
   ],
   "source": [
    "sym.oo > 95565457886 #oo is used to indicate infinity in sympy"
   ]
  },
  {
   "cell_type": "code",
   "execution_count": 47,
   "id": "022ff50b-5b47-43ed-a53b-aaf768043977",
   "metadata": {},
   "outputs": [
    {
     "data": {
      "text/latex": [
       "$\\displaystyle \\left(-\\infty < x \\wedge x < -3\\right) \\vee \\left(1 < x \\wedge x < \\infty\\right)$"
      ],
      "text/plain": [
       "<IPython.core.display.Math object>"
      ]
     },
     "metadata": {},
     "output_type": "display_data"
    }
   ],
   "source": [
    "#INEQUALITIES\n",
    "import sympy as sym\n",
    "from IPython.display import Math, display\n",
    "x = sym.symbols(\"x\")\n",
    "expr = (x-1)*(x+3) > 0\n",
    "display(Math(sym.latex(sym.solve(expr))))  #wedge ^ is denoted to indicate and"
   ]
  },
  {
   "cell_type": "code",
   "execution_count": 52,
   "id": "33a66f0f-6a34-4a38-a0c7-c716427e41cf",
   "metadata": {},
   "outputs": [
    {
     "data": {
      "text/latex": [
       "$\\displaystyle a x > \\frac{b^{2}}{c}$"
      ],
      "text/plain": [
       "<IPython.core.display.Math object>"
      ]
     },
     "metadata": {},
     "output_type": "display_data"
    },
    {
     "data": {
      "text/latex": [
       "$\\displaystyle a x > \\frac{b^{2}}{c}$"
      ],
      "text/plain": [
       "a*x > b**2/c"
      ]
     },
     "execution_count": 52,
     "metadata": {},
     "output_type": "execute_result"
    }
   ],
   "source": [
    "import sympy as sym\n",
    "from IPython.display import Math, display\n",
    "a,b,c = sym.symbols(\"a,b,c\")\n",
    "ex = a*x > b**2/c\n",
    "display(Math(sym.latex(ex)))\n",
    "sym.solve(ex,x)"
   ]
  },
  {
   "cell_type": "code",
   "execution_count": 59,
   "id": "2280d97b-b9e5-4420-9eb9-3b83e054cc13",
   "metadata": {},
   "outputs": [
    {
     "data": {
      "text/latex": [
       "$\\displaystyle \\frac{4}{3} - \\frac{x}{6} \\leq \\frac{5 x}{4} - \\frac{1}{2}$"
      ],
      "text/plain": [
       "<IPython.core.display.Math object>"
      ]
     },
     "metadata": {},
     "output_type": "display_data"
    },
    {
     "data": {
      "text/latex": [
       "$\\displaystyle \\frac{22}{17} \\leq x \\wedge x < \\infty$"
      ],
      "text/plain": [
       "(22/17 <= x) & (x < oo)"
      ]
     },
     "execution_count": 59,
     "metadata": {},
     "output_type": "execute_result"
    }
   ],
   "source": [
    "import sympy as sym\n",
    "from IPython.display import Math, display\n",
    "ex = 3*x/2 + (4-5*x)/3 <= 2-(5*(2-x))/4\n",
    "display(Math(sym.latex(ex)))\n",
    "sym.solve(ex)"
   ]
  },
  {
   "cell_type": "code",
   "execution_count": 5,
   "id": "aa0142d4-bd8c-4d2f-9ee6-77744269adb2",
   "metadata": {},
   "outputs": [
    {
     "data": {
      "text/latex": [
       "$\\displaystyle 2 x^{3} + x^{2} - x$"
      ],
      "text/plain": [
       "<IPython.core.display.Math object>"
      ]
     },
     "metadata": {},
     "output_type": "display_data"
    },
    {
     "data": {
      "text/latex": [
       "$\\displaystyle - x^{4} + x^{3} - 4 x^{2}$"
      ],
      "text/plain": [
       "<IPython.core.display.Math object>"
      ]
     },
     "metadata": {},
     "output_type": "display_data"
    },
    {
     "data": {
      "text/latex": [
       "$\\displaystyle 2 x^{3} + x^{2} - x + - x^{4} + x^{3} - 4 x^{2} = - x^{4} + 3 x^{3} - 3 x^{2} - x$"
      ],
      "text/plain": [
       "<IPython.core.display.Math object>"
      ]
     },
     "metadata": {},
     "output_type": "display_data"
    }
   ],
   "source": [
    "#POLYNOMIALS\n",
    "import sympy as sym\n",
    "from IPython.display import display, Math\n",
    "from sympy.abc import x\n",
    "p1 = 2*x**3 + x**2 -x\n",
    "p2 = x**3 - x**4 - 4*x**2\n",
    "display(Math(sym.latex(p1)))\n",
    "display(Math(sym.latex(p2))) #Highest power comes first\n",
    "display(Math(\"%s + %s = %s\" %(sym.latex(p1), sym.latex(p2), sym.latex(p1+p2))))"
   ]
  },
  {
   "cell_type": "code",
   "execution_count": 6,
   "id": "9d94416b-e13b-4d15-87eb-5ae18c4a844d",
   "metadata": {},
   "outputs": [
    {
     "data": {
      "text/latex": [
       "$\\displaystyle 2 x^{3} + x^{2} - x$"
      ],
      "text/plain": [
       "<IPython.core.display.Math object>"
      ]
     },
     "metadata": {},
     "output_type": "display_data"
    },
    {
     "data": {
      "text/latex": [
       "$\\displaystyle - x^{4} + x^{3} - 4 x^{2}$"
      ],
      "text/plain": [
       "<IPython.core.display.Math object>"
      ]
     },
     "metadata": {},
     "output_type": "display_data"
    },
    {
     "data": {
      "text/latex": [
       "$\\displaystyle 2 x^{3} + x^{2} - x - - x^{4} + x^{3} - 4 x^{2} = x^{4} + x^{3} + 5 x^{2} - x$"
      ],
      "text/plain": [
       "<IPython.core.display.Math object>"
      ]
     },
     "metadata": {},
     "output_type": "display_data"
    }
   ],
   "source": [
    "#POLYNOMIALS\n",
    "import sympy as sym\n",
    "from IPython.display import display, Math\n",
    "from sympy.abc import x\n",
    "p1 = 2*x**3 + x**2 -x\n",
    "p2 = x**3 - x**4 - 4*x**2\n",
    "display(Math(sym.latex(p1)))\n",
    "display(Math(sym.latex(p2))) #Highest power comes first\n",
    "display(Math(\"%s - %s = %s\" %(sym.latex(p1), sym.latex(p2), sym.latex(p1-p2))))"
   ]
  },
  {
   "cell_type": "code",
   "execution_count": 8,
   "id": "be9d37a8-bb74-41c1-b5ee-dde2b4edfb86",
   "metadata": {},
   "outputs": [
    {
     "name": "stdout",
     "output_type": "stream",
     "text": [
      "Poly(2*x**3 - x**2 - x, x, domain='ZZ')\n"
     ]
    }
   ],
   "source": [
    "import sympy as sym \n",
    "p1 = sym.Poly(2*x**3-x**2-x)\n",
    "print(p1) #gives the polynomial class"
   ]
  },
  {
   "cell_type": "code",
   "execution_count": 17,
   "id": "18285f23-326d-419a-9928-306d7d4a1845",
   "metadata": {},
   "outputs": [
    {
     "name": "stdout",
     "output_type": "stream",
     "text": [
      "Poly(2*x**3 - x**2 - x, x, domain='ZZ')\n",
      "[2, -1, -1]\n",
      "3\n"
     ]
    }
   ],
   "source": [
    "import sympy as sym \n",
    "p1 = sym.Poly(2*x**3-x**2-x)\n",
    "print(p1) #gives the polynomial class\n",
    "p1.eval(0)\n",
    "print(p1.coeffs()) #These gives the coefficients\n",
    "print(p1.degree()) #Gives the degree of the polynomial"
   ]
  },
  {
   "cell_type": "code",
   "execution_count": 37,
   "id": "494a425c-b854-47d8-811e-b3bc4cad4412",
   "metadata": {},
   "outputs": [
    {
     "name": "stdout",
     "output_type": "stream",
     "text": [
      "The coefficient is even, and the coefficient of sum to 3\n",
      "The degree of x**2 + 2*x is even, and the coefficient of sum to 3\n",
      "The degree of -x**3 + 4*x is odd, and there are 2 coefficients\n",
      "The degree of x**5 - x**4 + x/4 + 4 is odd, and there are 4 coefficients\n"
     ]
    }
   ],
   "source": [
    "import sympy as sym\n",
    "from IPython.display import Math,display\n",
    "poly1 = [sym.Poly(2*x + x**2) , sym.Poly(-x**3 + 4*x), sym.Poly(x**5 - x**4 + x/4 + 4)]\n",
    "for poli in poly1:\n",
    "    if poli.degree()%2==0:\n",
    "        print(\"The coefficient is even, and the coefficient of sum to %g\" %(sum(poli.coeffs())))\n",
    "        print(\"The degree of %s is even, and the coefficient of sum to %g\" %(poli.as_expr(),sum(poli.coeffs())))\n",
    "    else:\n",
    "        print(\"The degree of %s is odd, and there are %g coefficients\" %(poli.as_expr(),len(poli.coeffs())))"
   ]
  },
  {
   "cell_type": "code",
   "execution_count": 4,
   "id": "599e6fff-6a77-4b68-bf72-6a7d5226bf98",
   "metadata": {},
   "outputs": [
    {
     "data": {
      "text/latex": [
       "$\\displaystyle x^{5} + x^{3}$"
      ],
      "text/plain": [
       "x**5 + x**3"
      ]
     },
     "execution_count": 4,
     "metadata": {},
     "output_type": "execute_result"
    }
   ],
   "source": [
    "import sympy as sym\n",
    "from IPython.display import Math,display\n",
    "x = sym.symbols(\"x\")\n",
    "x**5 * x**3\n",
    "x**5 + x**3"
   ]
  },
  {
   "cell_type": "code",
   "execution_count": 8,
   "id": "d3b0fc96-b408-4a9b-8648-eb905da2263d",
   "metadata": {},
   "outputs": [
    {
     "data": {
      "text/latex": [
       "$\\displaystyle \\left(4 x^{2} - 2 x\\right) \\left(x^{3} - 1\\right)$"
      ],
      "text/plain": [
       "<IPython.core.display.Math object>"
      ]
     },
     "metadata": {},
     "output_type": "display_data"
    },
    {
     "data": {
      "text/latex": [
       "$\\displaystyle 4 x^{5} - 2 x^{4} - 4 x^{2} + 2 x$"
      ],
      "text/plain": [
       "<IPython.core.display.Math object>"
      ]
     },
     "metadata": {},
     "output_type": "display_data"
    }
   ],
   "source": [
    "import sympy as sym\n",
    "from IPython.display import Math,display\n",
    "p1 = 4*x**2 - 2*x\n",
    "p2 = x**3 - 1\n",
    "p1*p2\n",
    "display(Math(sym.latex(p1*p2)))\n",
    "display(Math(sym.latex(sym.expand(p1*p2))))"
   ]
  },
  {
   "cell_type": "code",
   "execution_count": 14,
   "id": "a4712b54-16b8-4897-b2dd-0d836421be72",
   "metadata": {},
   "outputs": [
    {
     "data": {
      "text/latex": [
       "$\\displaystyle \\left(- x^{3} + 6 x^{2} y + 0.8 y^{3}\\right) \\left(4 x^{4} - 2 x^{2} + x y^{2} - 9 y^{3}\\right)$"
      ],
      "text/plain": [
       "<IPython.core.display.Math object>"
      ]
     },
     "metadata": {},
     "output_type": "display_data"
    },
    {
     "data": {
      "text/latex": [
       "$\\displaystyle - 4 x^{7} + 24 x^{6} y + 2 x^{5} + 3.2 x^{4} y^{3} - x^{4} y^{2} - 12 x^{4} y + 15 x^{3} y^{3} - 54 x^{2} y^{4} - 1.6 x^{2} y^{3} + 0.8 x y^{5} - 7.2 y^{6}$"
      ],
      "text/plain": [
       "<IPython.core.display.Math object>"
      ]
     },
     "metadata": {},
     "output_type": "display_data"
    },
    {
     "data": {
      "text/latex": [
       "$\\displaystyle 4 x^{4} - 2 x^{2} + x y^{2} - 9 y^{3} \\times (- x^{3} + 6 x^{2} y + 0.8 y^{3}) = - 4 x^{7} + 24 x^{6} y + 2 x^{5} + 3.2 x^{4} y^{3} - x^{4} y^{2} - 12 x^{4} y + 15 x^{3} y^{3} - 54 x^{2} y^{4} - 1.6 x^{2} y^{3} + 0.8 x y^{5} - 7.2 y^{6}$"
      ],
      "text/plain": [
       "<IPython.core.display.Math object>"
      ]
     },
     "metadata": {},
     "output_type": "display_data"
    }
   ],
   "source": [
    "import sympy as sym\n",
    "from IPython.display import Math,display\n",
    "x,y = sym.symbols(\"x,y\")\n",
    "fxy = 4*x**4 - 2*x**2 + x*y**2 -9*y**3\n",
    "gxy = -x**3 + 6*x**2*y + .8*y**3 #PENDAS\n",
    "display(Math(sym.latex(fxy*gxy)))\n",
    "display(Math(sym.latex(sym.expand(fxy*gxy))))\n",
    "display(Math(\"%s \\\\times (%s) = %s\" %(sym.latex(fxy),sym.latex(gxy), sym.latex(sym.expand(fxy*gxy)))))"
   ]
  },
  {
   "cell_type": "code",
   "execution_count": 18,
   "id": "015b18f9-6da4-4ccb-b7f5-0d23b9efcc54",
   "metadata": {},
   "outputs": [
    {
     "name": "stdout",
     "output_type": "stream",
     "text": [
      "Multiplied solutions is -1096618.80000000\n",
      "Separate solutions comes to -1096618.80000000\n"
     ]
    }
   ],
   "source": [
    "xval = 5\n",
    "yval = -2\n",
    "fg = (fxy*gxy).subs({x:xval,y:yval})\n",
    "print(\"Multiplied solutions is %s\" %fg)\n",
    "fx_ans = fxy.subs({x:xval,y:yval})\n",
    "gy_ans = gxy.subs({x:xval,y:yval})\n",
    "print(\"Separate solutions comes to %s\" %(fx_ans*gy_ans))"
   ]
  },
  {
   "cell_type": "code",
   "execution_count": 5,
   "id": "ae70172e-6f48-44ac-91ca-eb59b388ee41",
   "metadata": {},
   "outputs": [
    {
     "data": {
      "text/latex": [
       "$\\displaystyle \\frac {4 x^{5} - x}{4 x^{5} - x} = \\frac{4 x^{5} - x}{2 x^{3} - x}$"
      ],
      "text/plain": [
       "<IPython.core.display.Math object>"
      ]
     },
     "metadata": {},
     "output_type": "display_data"
    },
    {
     "data": {
      "text/latex": [
       "$\\displaystyle \\frac {4 x^{5} - x}{4 x^{5} - x} = \\frac{4 x^{5}}{2 x^{3} - x} - \\frac{x}{2 x^{3} - x}$"
      ],
      "text/plain": [
       "<IPython.core.display.Math object>"
      ]
     },
     "metadata": {},
     "output_type": "display_data"
    },
    {
     "data": {
      "text/latex": [
       "$\\displaystyle \\frac {4 x^{5} - x}{4 x^{5} - x} = 2 x^{2} + 1$"
      ],
      "text/plain": [
       "<IPython.core.display.Math object>"
      ]
     },
     "metadata": {},
     "output_type": "display_data"
    }
   ],
   "source": [
    "import sympy as sym\n",
    "from IPython.display import Math,display\n",
    "x = sym.symbols(\"x\")\n",
    "p1 = 4*x**5-x\n",
    "p2 = 2*x**3-x\n",
    "display(Math(\"\\\\frac {%s}{%s} = %s\" %(sym.latex(p1), sym.latex(p1), sym.latex(p1/p2))))\n",
    "display(Math(\"\\\\frac {%s}{%s} = %s\" %(sym.latex(p1), sym.latex(p1), sym.latex(sym.expand(p1/p2)))))\n",
    "display(Math(\"\\\\frac {%s}{%s} = %s\" %(sym.latex(p1), sym.latex(p1), sym.latex(sym.simplify(p1/p2)))))"
   ]
  },
  {
   "cell_type": "code",
   "execution_count": 1,
   "id": "bc80faeb-6bdd-4230-b0d7-489de2591025",
   "metadata": {},
   "outputs": [
    {
     "name": "stdout",
     "output_type": "stream",
     "text": [
      "0.375\n"
     ]
    }
   ],
   "source": [
    "frac = 3/8\n",
    "print(frac)"
   ]
  },
  {
   "cell_type": "code",
   "execution_count": 10,
   "id": "fd6cbbbf-3f0a-4092-892d-36859f335ee9",
   "metadata": {},
   "outputs": [
    {
     "name": "stdout",
     "output_type": "stream",
     "text": [
      "3/8\n",
      "(3, 8)\n",
      "8\n"
     ]
    }
   ],
   "source": [
    "import sympy as sym\n",
    "frac = sym.sympify(3)/(8)\n",
    "print(frac)\n",
    "fracinfo = sym.fraction(frac)\n",
    "print(fracinfo)\n",
    "type(fracinfo)\n",
    "print(fracinfo[1])"
   ]
  },
  {
   "cell_type": "code",
   "execution_count": 28,
   "id": "95800ee4-9f6f-4b2d-9e0e-f5329e299369",
   "metadata": {},
   "outputs": [
    {
     "data": {
      "text/latex": [
       "$\\displaystyle \\frac{x^{6} + 2 x^{4} + 6 x - 5}{x^{3} + 3} = \\frac{x^{6} + 2 x^{4} + 6 x - 5}{x^{3} + 3}$"
      ],
      "text/plain": [
       "<IPython.core.display.Math object>"
      ]
     },
     "metadata": {},
     "output_type": "display_data"
    },
    {
     "data": {
      "text/latex": [
       "$\\displaystyle \\frac{x^{6} + 2 x^{4} + 6 x - 6}{x^{3} + 3} = \\frac{x^{6} + 2 x^{4} + 6 x - 6}{x^{3} + 3}$"
      ],
      "text/plain": [
       "<IPython.core.display.Math object>"
      ]
     },
     "metadata": {},
     "output_type": "display_data"
    },
    {
     "data": {
      "text/latex": [
       "$\\displaystyle \\frac{x^{6} + 2 x^{4} + 6 x - 7}{x^{3} + 3} = \\frac{x^{6} + 2 x^{4} + 6 x - 7}{x^{3} + 3}$"
      ],
      "text/plain": [
       "<IPython.core.display.Math object>"
      ]
     },
     "metadata": {},
     "output_type": "display_data"
    },
    {
     "data": {
      "text/latex": [
       "$\\displaystyle \\frac{x^{6} + 2 x^{4} + 6 x - 8}{x^{3} + 3} = \\frac{x^{6} + 2 x^{4} + 6 x - 8}{x^{3} + 3}$"
      ],
      "text/plain": [
       "<IPython.core.display.Math object>"
      ]
     },
     "metadata": {},
     "output_type": "display_data"
    },
    {
     "data": {
      "text/latex": [
       "$\\displaystyle \\frac{x^{6} + 2 x^{4} + 6 x - 9}{x^{3} + 3} = x^{3} + 2 x - 3$"
      ],
      "text/plain": [
       "<IPython.core.display.Math object>"
      ]
     },
     "metadata": {},
     "output_type": "display_data"
    },
    {
     "data": {
      "text/latex": [
       "$\\displaystyle \\frac{x^{6} + 2 x^{4} + 6 x - 10}{x^{3} + 3} = \\frac{x^{6} + 2 x^{4} + 6 x - 10}{x^{3} + 3}$"
      ],
      "text/plain": [
       "<IPython.core.display.Math object>"
      ]
     },
     "metadata": {},
     "output_type": "display_data"
    },
    {
     "data": {
      "text/latex": [
       "$\\displaystyle \\frac{x^{6} + 2 x^{4} + 6 x - 11}{x^{3} + 3} = \\frac{x^{6} + 2 x^{4} + 6 x - 11}{x^{3} + 3}$"
      ],
      "text/plain": [
       "<IPython.core.display.Math object>"
      ]
     },
     "metadata": {},
     "output_type": "display_data"
    },
    {
     "data": {
      "text/latex": [
       "$\\displaystyle \\frac{x^{6} + 2 x^{4} + 6 x - 12}{x^{3} + 3} = \\frac{x^{6} + 2 x^{4} + 6 x - 12}{x^{3} + 3}$"
      ],
      "text/plain": [
       "<IPython.core.display.Math object>"
      ]
     },
     "metadata": {},
     "output_type": "display_data"
    },
    {
     "data": {
      "text/latex": [
       "$\\displaystyle \\frac{x^{6} + 2 x^{4} + 6 x - 13}{x^{3} + 3} = \\frac{x^{6} + 2 x^{4} + 6 x - 13}{x^{3} + 3}$"
      ],
      "text/plain": [
       "<IPython.core.display.Math object>"
      ]
     },
     "metadata": {},
     "output_type": "display_data"
    },
    {
     "data": {
      "text/latex": [
       "$\\displaystyle \\frac{x^{6} + 2 x^{4} + 6 x - 14}{x^{3} + 3} = \\frac{x^{6} + 2 x^{4} + 6 x - 14}{x^{3} + 3}$"
      ],
      "text/plain": [
       "<IPython.core.display.Math object>"
      ]
     },
     "metadata": {},
     "output_type": "display_data"
    },
    {
     "data": {
      "text/latex": [
       "$\\displaystyle \\frac{x^{6} + 2 x^{4} + 6 x - 15}{x^{3} + 3} = \\frac{x^{6} + 2 x^{4} + 6 x - 15}{x^{3} + 3}$"
      ],
      "text/plain": [
       "<IPython.core.display.Math object>"
      ]
     },
     "metadata": {},
     "output_type": "display_data"
    },
    {
     "name": "stdout",
     "output_type": "stream",
     "text": [
      "The correct answer satisfies our goal is y = 9\n"
     ]
    }
   ],
   "source": [
    "from IPython.display import Math,display\n",
    "import sympy as sym\n",
    "x,y = sym.symbols(\"x,y\")\n",
    "pNum = x**6 + 2*x**4 + 6*x - y \n",
    "pDen = x**3 + 3\n",
    "for yi in range(5,16):\n",
    "    tempNum = pNum.subs(y,yi)\n",
    "    display(Math(\"%s = %s\" %(sym.latex(tempNum/pDen),sym.latex(sym.simplify(tempNum/pDen)))))\n",
    "    if sym.fraction(sym.simplify(tempNum/pDen))[1]==1:\n",
    "        rightAns = yi\n",
    "        \n",
    "print(\"The correct answer satisfies our goal is y = %g\" %rightAns)"
   ]
  },
  {
   "cell_type": "code",
   "execution_count": 3,
   "id": "3b103428-9afa-4613-82b3-5d1d26462af6",
   "metadata": {},
   "outputs": [
    {
     "data": {
      "text/latex": [
       "$\\displaystyle \\left(x + 1\\right) \\left(x + 3\\right)$"
      ],
      "text/plain": [
       "<IPython.core.display.Math object>"
      ]
     },
     "metadata": {},
     "output_type": "display_data"
    }
   ],
   "source": [
    "import sympy as sym\n",
    "from IPython.display import Math,display\n",
    "x,y = sym.symbols(\"x,y\")\n",
    "p = x**2 + 4*x + 3\n",
    "display(Math(sym.latex(sym.factor(p))))"
   ]
  },
  {
   "cell_type": "code",
   "execution_count": 11,
   "id": "be520d4b-c530-4539-8341-c243c4a92a6c",
   "metadata": {},
   "outputs": [
    {
     "data": {
      "text/latex": [
       "$\\displaystyle 2 x \\left(x^{2} y + x y + 2 x - 3 y + 3\\right)$"
      ],
      "text/plain": [
       "<IPython.core.display.Math object>"
      ]
     },
     "metadata": {},
     "output_type": "display_data"
    }
   ],
   "source": [
    "expr = 2*x**3*y - 2*x**2 + 2*x**2*y + 6*x**2 - 6*x*y + 6*x\n",
    "display(Math(sym.latex(sym.factor(expr))))"
   ]
  },
  {
   "cell_type": "code",
   "execution_count": 19,
   "id": "9a2ff59a-0efe-4728-84f7-fd3f6269ee25",
   "metadata": {},
   "outputs": [
    {
     "data": {
      "text/plain": [
       "5"
      ]
     },
     "execution_count": 19,
     "metadata": {},
     "output_type": "execute_result"
    }
   ],
   "source": [
    "#.find method in python\n",
    "name = \"B S Shreesha\"\n",
    "name.find(\"h\")"
   ]
  },
  {
   "cell_type": "code",
   "execution_count": 10,
   "id": "22561f67-9276-41b6-8150-3c8733128ec5",
   "metadata": {},
   "outputs": [
    {
     "data": {
      "text/latex": [
       "$\\displaystyle x^{2} + 4 x + 3 \\quad\\Rightarrow\\quad \\left(x + 1\\right) \\left(x + 3\\right)$"
      ],
      "text/plain": [
       "<IPython.core.display.Math object>"
      ]
     },
     "metadata": {},
     "output_type": "display_data"
    },
    {
     "data": {
      "text/latex": [
       "$\\displaystyle 2 y^{2} - 1 \\quad\\Rightarrow\\quad\\text{ not factorable!}$"
      ],
      "text/plain": [
       "<IPython.core.display.Math object>"
      ]
     },
     "metadata": {},
     "output_type": "display_data"
    },
    {
     "data": {
      "text/latex": [
       "$\\displaystyle 3 y^{2} + 12 y \\quad\\Rightarrow\\quad 3 y \\left(y + 4\\right)$"
      ],
      "text/plain": [
       "<IPython.core.display.Math object>"
      ]
     },
     "metadata": {},
     "output_type": "display_data"
    }
   ],
   "source": [
    "exprs = [x**2+4*x+3 , 2*y**2-1 , 3*y**2+12*y]\n",
    "for expri in exprs:\n",
    "    tmp = str( sym.factor(expri))\n",
    "    if tmp.find('(')!=-1:\n",
    "        display(Math('%s \\\\quad\\\\Rightarrow\\\\quad %s' %(sym.latex(sym.expand(expri)),sym.latex(sym.factor(expri)))))\n",
    "    else:\n",
    "        display(Math('%s \\\\quad\\\\Rightarrow\\\\quad\\\\text{ not factorable!}' %sym.latex(sym.expand(expri))))"
   ]
  },
  {
   "cell_type": "markdown",
   "id": "b3bd9e88-bfe4-4406-bfde-358ab23e70e9",
   "metadata": {},
   "source": [
    "## GRAPHING AND VISUALIZATIONS"
   ]
  },
  {
   "cell_type": "code",
   "execution_count": 8,
   "id": "14567ce0-1c25-4c65-b7cc-c8e2c2663c61",
   "metadata": {},
   "outputs": [
    {
     "data": {
      "image/png": "[encoded data removed]",
      "text/plain": [
       "<Figure size 640x480 with 1 Axes>"
      ]
     },
     "metadata": {},
     "output_type": "display_data"
    }
   ],
   "source": [
    "import matplotlib.pyplot as plt\n",
    "x = 3\n",
    "y = 5\n",
    "plt.plot(x,y,\"ro\")\n",
    "plt.axis(\"square\")\n",
    "plt.axis([-6,6,-6,6])\n",
    "plt.grid()\n",
    "plt.show()"
   ]
  },
  {
   "cell_type": "code",
   "execution_count": 9,
   "id": "4f5b9fba-f7f8-4764-8e3b-f78d92dcec56",
   "metadata": {},
   "outputs": [
    {
     "data": {
      "image/png": "[encoded data removed]",
      "text/plain": [
       "<Figure size 640x480 with 1 Axes>"
      ]
     },
     "metadata": {},
     "output_type": "display_data"
    }
   ],
   "source": [
    "import matplotlib.pyplot as plt\n",
    "x = 8\n",
    "y = 5\n",
    "plt.plot(x,y,\"gs\")\n",
    "plt.axis(\"square\")\n",
    "plt.axis([-9,9,-9,9])\n",
    "plt.grid()\n",
    "plt.show()"
   ]
  },
  {
   "cell_type": "code",
   "execution_count": 11,
   "id": "c400e985-4f3b-4549-ac05-306295e139cc",
   "metadata": {},
   "outputs": [
    {
     "data": {
      "image/png": "[encoded data removed]",
      "text/plain": [
       "<Figure size 640x480 with 1 Axes>"
      ]
     },
     "metadata": {},
     "output_type": "display_data"
    }
   ],
   "source": [
    "import matplotlib.pyplot as plt\n",
    "x = 8\n",
    "y = 5\n",
    "plt.plot(x,y,\"bp\")\n",
    "plt.axis(\"square\")\n",
    "plt.axis([-9,9,-9,9])\n",
    "plt.grid()\n",
    "plt.show()"
   ]
  },
  {
   "cell_type": "code",
   "execution_count": 13,
   "id": "ffa55231-13b1-4389-9dc1-d430b868a60b",
   "metadata": {},
   "outputs": [
    {
     "data": {
      "image/png": "[encoded data removed]",
      "text/plain": [
       "<Figure size 640x480 with 1 Axes>"
      ]
     },
     "metadata": {},
     "output_type": "display_data"
    }
   ],
   "source": [
    "import matplotlib.pyplot as plt\n",
    "x = 8\n",
    "y = 8\n",
    "plt.plot(x,y,\"r8\") \n",
    "plt.axis([-9,9,-9,9]) #Overriding. Order place an important role. Change of output is seen\n",
    "plt.axis(\"square\")\n",
    "plt.grid()\n",
    "plt.show()"
   ]
  },
  {
   "cell_type": "code",
   "execution_count": 27,
   "id": "d9d41433-356a-4c12-94c8-52e7f510ffc4",
   "metadata": {},
   "outputs": [
    {
     "data": {
      "image/png": "[encoded data removed]",
      "text/plain": [
       "<Figure size 640x480 with 1 Axes>"
      ]
     },
     "metadata": {},
     "output_type": "display_data"
    }
   ],
   "source": [
    "import matplotlib.pyplot as plt\n",
    "x = [-4,5,3,6,8,9,8]\n",
    "y = [3,2,-1,5,7,4,8]\n",
    "for i in range(0,len(x)):\n",
    "    plt.plot(x[i],y[i],\"o\", label = \"point %s\" %(1+i))\n",
    "plt.axis(\"square\")\n",
    "plt.legend()\n",
    "plt.grid()\n",
    "plt.show()"
   ]
  },
  {
   "cell_type": "code",
   "execution_count": 37,
   "id": "5dcf804d-7977-49cf-afdc-4aa7e0cea214",
   "metadata": {},
   "outputs": [
    {
     "name": "stdout",
     "output_type": "stream",
     "text": [
      "(1.89, 2.1100000000000003)\n"
     ]
    },
    {
     "data": {
      "image/png": "[encoded data removed]",
      "text/plain": [
       "<Figure size 640x480 with 1 Axes>"
      ]
     },
     "metadata": {},
     "output_type": "display_data"
    }
   ],
   "source": [
    "plt.plot(4,2,\"r+\") #r+ indicates to plot the graph as red color with the + symbol\n",
    "axis = plt.gca()\n",
    "ylim = axis.get_ylim() #To get the ylimit of the graph plotted \n",
    "print(ylim)\n",
    "axis.set_ylim([ylim[0], 5.77]) #To set the xlimit for the graph plotted\n",
    "plt.show()"
   ]
  },
  {
   "cell_type": "code",
   "execution_count": 21,
   "id": "5d92c2d9-4081-4b08-93c9-0af3b126999a",
   "metadata": {},
   "outputs": [
    {
     "data": {
      "image/png": "[encoded data removed]",
      "text/plain": [
       "<Figure size 640x480 with 1 Axes>"
      ]
     },
     "metadata": {},
     "output_type": "display_data"
    }
   ],
   "source": [
    "import matplotlib.pyplot as plt\n",
    "import sympy as sym\n",
    "x,y = sym.symbols(\"x,y\")\n",
    "y = x**2-3*x\n",
    "for pnti in range(-11,12):\n",
    "    plt.plot(pnti, y.subs(x,pnti), \"o\")\n",
    "plt.xlabel(\"X\")\n",
    "plt.ylabel(\"f(x) = %s\" %y)\n",
    "plt.show()"
   ]
  },
  {
   "cell_type": "code",
   "execution_count": 18,
   "id": "3b912cfa-b51c-4756-9673-fd474920546f",
   "metadata": {},
   "outputs": [
    {
     "data": {
      "image/png": "[encoded data removed]",
      "text/plain": [
       "<Figure size 640x480 with 1 Axes>"
      ]
     },
     "metadata": {},
     "output_type": "display_data"
    }
   ],
   "source": [
    "import matplotlib.pyplot as plt\n",
    "p1 = [-3,-1]\n",
    "p2 = [4,4]\n",
    "plt.plot([p1[0],p2[0]], [p1[1],p2[1]],color=[.1,.2,.7], linewidth=5) #Indicates the RGB Colour for the graphs\n",
    "plt.axis(\"Square\") #Layout changed\n",
    "plt.axis([-6,6,-6,6]) #This shows the limit i.e x axis and y axis limits\n",
    "plt.show()"
   ]
  },
  {
   "cell_type": "code",
   "execution_count": 29,
   "id": "c9985cd5-766e-4db3-97c5-46e9256fa53f",
   "metadata": {
    "scrolled": true
   },
   "outputs": [
    {
     "data": {
      "text/plain": [
       "<function matplotlib.pyplot.axis(arg=None, /, *, emit=True, **kwargs)>"
      ]
     },
     "execution_count": 29,
     "metadata": {},
     "output_type": "execute_result"
    },
    {
     "data": {
      "image/png": "[encoded data removed]",
      "text/plain": [
       "<Figure size 640x480 with 1 Axes>"
      ]
     },
     "metadata": {},
     "output_type": "display_data"
    }
   ],
   "source": [
    "import matplotlib.pyplot as plt\n",
    "x = 3\n",
    "y = 5\n",
    "plt.plot(x,y,'ro')\n",
    "plt.axis(\"Square\") #Layout changed\n",
    "plt.axis([-6,6,-6,6]) #This shows the limit i.e x axis and y axis limits\n",
    "plt.plot([0,x],[0,y],\"r\")\n",
    "plt.grid()\n",
    "plt.plot([-6,6],[0,0],\"k\")\n",
    "plt.plot([-0,0],[-6,6],\"k\")\n",
    "plt.axis"
   ]
  },
  {
   "cell_type": "code",
   "execution_count": 33,
   "id": "b8fe3704-da01-46c5-8c15-3b9d91b71491",
   "metadata": {},
   "outputs": [
    {
     "data": {
      "image/png": "[encoded data removed]",
      "text/plain": [
       "<Figure size 640x480 with 1 Axes>"
      ]
     },
     "metadata": {},
     "output_type": "display_data"
    }
   ],
   "source": [
    "x = range(-20,21)\n",
    "for xi in x:\n",
    "    plt.plot([0,xi],[0,abs(xi)**(1/2)])\n",
    "plt.show()"
   ]
  },
  {
   "cell_type": "code",
   "execution_count": 48,
   "id": "47961dcc-1a75-4abd-8cdb-070e67e7fe2c",
   "metadata": {},
   "outputs": [
    {
     "data": {
      "image/png": "[encoded data removed]",
      "text/plain": [
       "<Figure size 640x480 with 1 Axes>"
      ]
     },
     "metadata": {},
     "output_type": "display_data"
    }
   ],
   "source": [
    "plt.plot([0,2],[2,2],\"r\")\n",
    "plt.plot([0,2],[0,0],\"k\")\n",
    "plt.plot([0,0],[0,2],\"g\")\n",
    "plt.plot([2,2],[0,2],\"m\")\n",
    "plt.axis(\"Square\")\n",
    "plt.axis([-3,5,-3,5])\n",
    "plt.title(\"Colourful Square\")\n",
    "plt.show()"
   ]
  },
  {
   "cell_type": "code",
   "execution_count": 20,
   "id": "61b3a2f9-ef52-4ee2-b43e-5be88d075bbd",
   "metadata": {
    "scrolled": true
   },
   "outputs": [
    {
     "data": {
      "image/png": "[encoded data removed]",
      "text/plain": [
       "<Figure size 640x480 with 1 Axes>"
      ]
     },
     "metadata": {},
     "output_type": "display_data"
    }
   ],
   "source": [
    "#NON NUMPY METHOD\n",
    "import matplotlib.pyplot as plt\n",
    "#y = mx + b\n",
    "x = [-5,5]\n",
    "m = 2\n",
    "b = 1\n",
    "y = [340, 2345]\n",
    "for i in range(0,len(y)):\n",
    "    y[i] = m*x[i] + b\n",
    "plt.plot(x,y, label=\"y = %sx+%s\"%(m,b))\n",
    "plt.axis('square')\n",
    "plt.legend()\n",
    "plt.grid()\n",
    "plt.xlim(x)\n",
    "plt.ylim(x)\n",
    "axis = plt.gca()\n",
    "plt.plot(axis.get_xlim(),[0,0],'r--')\n",
    "plt.plot([0,0],axis.get_ylim(),'k--')\n",
    "plt.show()"
   ]
  },
  {
   "cell_type": "code",
   "execution_count": 21,
   "id": "ccddf390-1786-499d-9699-7108d634a09e",
   "metadata": {},
   "outputs": [
    {
     "data": {
      "image/png": "[encoded data removed]",
      "text/plain": [
       "<Figure size 640x480 with 1 Axes>"
      ]
     },
     "metadata": {},
     "output_type": "display_data"
    }
   ],
   "source": [
    "import matplotlib.pyplot as plt\n",
    "import numpy as np\n",
    "#y = mx + b\n",
    "x = [-5,5]\n",
    "m = 2\n",
    "b = 1\n",
    "y = m*np.array(x) + b\n",
    "plt.plot(x,y, label=\"y = %sx+%s\"%(m,b))\n",
    "plt.axis('square')\n",
    "plt.legend()\n",
    "plt.grid()\n",
    "plt.xlim(x)\n",
    "plt.ylim(x)\n",
    "axis = plt.gca()\n",
    "plt.plot(axis.get_xlim(),[0,0],'r--')\n",
    "plt.plot([0,0],axis.get_ylim(),'k--')\n",
    "plt.show()"
   ]
  },
  {
   "cell_type": "code",
   "execution_count": 30,
   "id": "c237d4b5-05fe-4ca1-aa3b-d04180d56c56",
   "metadata": {},
   "outputs": [
    {
     "data": {
      "image/png": "[encoded data removed]",
      "text/plain": [
       "<Figure size 640x480 with 1 Axes>"
      ]
     },
     "metadata": {},
     "output_type": "display_data"
    }
   ],
   "source": [
    "import matplotlib.pyplot as plt\n",
    "import numpy as np\n",
    "#y = mx + b\n",
    "x = [-5,5]\n",
    "m = [0.7, -1.25]\n",
    "b = [-2, 0.75]\n",
    "for i in range(0,len(m)):\n",
    "    y = m[i]*np.array(x)+b[i]\n",
    "    plt.plot(x,y, label= \"y = %sx+%s\" %(m[i],b[i]))\n",
    "plt.legend()\n",
    "plt.grid()\n",
    "plt.xlim(x)\n",
    "plt.ylim(x)\n",
    "axis = plt.gca()\n",
    "plt.plot(axis.get_xlim(),[0,0],'r--')\n",
    "plt.plot([0,0],axis.get_ylim(),'k--')\n",
    "plt.show()"
   ]
  },
  {
   "cell_type": "code",
   "execution_count": null,
   "id": "bac58609-4f08-4954-a870-f0d1c307915d",
   "metadata": {},
   "outputs": [],
   "source": []
  }
 ],
 "metadata": {
  "kernelspec": {
   "display_name": "Python 3 (ipykernel)",
   "language": "python",
   "name": "python3"
  },
  "language_info": {
   "codemirror_mode": {
    "name": "ipython",
    "version": 3
   },
   "file_extension": ".py",
   "mimetype": "text/x-python",
   "name": "python",
   "nbconvert_exporter": "python",
   "pygments_lexer": "ipython3",
   "version": "3.11.7"
  }
 },
 "nbformat": 4,
 "nbformat_minor": 5
}
