{
 "cells": [
  {
   "cell_type": "markdown",
   "id": "d488dbaf",
   "metadata": {},
   "source": [
    "## ELECTRONICS AND COMMUNICATION ENGINEERING"
   ]
  },
  {
   "cell_type": "markdown",
   "id": "bb5389ee",
   "metadata": {},
   "source": [
    "## LAB 1: Finding gradient, divergent, curl and their geometrical interpretation and Verification of Green’s theorem"
   ]
  },
  {
   "cell_type": "code",
   "execution_count": null,
   "id": "59417462",
   "metadata": {},
   "outputs": [],
   "source": [
    "#METHOD 1\n",
    "#To find gradient of ϕ = x^2y + 2xz − 4.\n",
    "#To find gradient of scalar point function .\n",
    "from sympy . vector import *\n",
    "from sympy import symbols\n",
    "N= CoordSys3D('N')\n",
    "x,y,z= symbols('x y z')\n",
    "A=N.x ** 2*N.y+2*N.x*N.z-4\n",
    "delop = Del()\n",
    "display (delop(A))\n",
    "gradA = gradient(A)\n",
    "print (f\"\\n Gradient of {A} is \\n\")\n",
    "display(gradA)"
   ]
  },
  {
   "cell_type": "code",
   "execution_count": null,
   "id": "21cb582f",
   "metadata": {},
   "outputs": [],
   "source": [
    "#To find divergence of F = x^2yzˆi + y2zxˆj + z2xyˆk\n",
    "#To find divergence of a vector point function\n",
    "from sympy.vector import *\n",
    "from sympy import symbols\n",
    "N= CoordSys3D('N')\n",
    "x,y,z= symbols('x y z')\n",
    "A=N.x ** 2*N.y*N.z*N.i+N.y ** 2*N.z*N.x*N.j+N.z ** 2*N.x*N.y*N.k\n",
    "delop = Del()\n",
    "divA = delop.dot(A)\n",
    "display(divA)\n",
    "print (f\"\\n Divergence of {A} is \\n\")\n",
    "display(divergence (A))"
   ]
  },
  {
   "cell_type": "code",
   "execution_count": null,
   "id": "ccfc15cc",
   "metadata": {},
   "outputs": [],
   "source": [
    "#To find curl of F = x^2yzˆi + y2zxˆj + z2xyˆk\n",
    "#To find curl of a vector point function\n",
    "from sympy.vector import *\n",
    "from sympy import symbols\n",
    "N = CoordSys3D('N')\n",
    "x,y,z = symbols('x y z')\n",
    "A=N.x ** 2*N.y*N.z*N.i+N.y ** 2*N.z*N.x*N.j+N.z ** 2*N.x*N.y*N.k\n",
    "delop = Del()\n",
    "curlA = delop.cross(A)\n",
    "display(curlA)\n",
    "print (f\"\\n Curl of {A} is \\n\")\n",
    "display(curl (A))"
   ]
  },
  {
   "cell_type": "code",
   "execution_count": null,
   "id": "6d33c27e",
   "metadata": {},
   "outputs": [],
   "source": [
    "#METHOD 2\n",
    "#To find gradient of ϕ = x^2yz.\n",
    "#To find gradient of a scalar point function x^2yz\n",
    "from sympy.physics.vector import *\n",
    "from sympy import var , pprint\n",
    "var ('x,y,z')\n",
    "v = ReferenceFrame ('v')\n",
    "F = v[0] ** 2*v[1]*v[2]\n",
    "G = gradient (F,v)\n",
    "F = F.subs([(v[0],x) ,(v[1],y) ,(v[2],z)])\n",
    "print(\" Given scalar function F=\")\n",
    "display(F)\n",
    "G = G.subs([(v[0],x) ,(v[1],y) ,(v[2],z)])\n",
    "print(\"\\n Gradient of F=\")\n",
    "display(G)"
   ]
  },
  {
   "cell_type": "code",
   "execution_count": null,
   "id": "249b2260",
   "metadata": {},
   "outputs": [],
   "source": [
    "#To find divergence of F = x^2yˆi + yz2ˆj + x2zˆk.\n",
    "#To find divergence of F=x^2yi+yz^2j+x^2zk\n",
    "from sympy.physics.vector import *\n",
    "from sympy import var\n",
    "var ('x,y,z')\n",
    "v = ReferenceFrame ('v')\n",
    "F = v[0] ** 2*v[1]*v.x+v[1]*v[2] ** 2*v.y+v[0] ** 2*v[2]*v.z\n",
    "G = divergence (F,v)\n",
    "F = F.subs([(v[0],x) ,(v[1],y) ,(v[2],z)])\n",
    "print(\" Given vector point function is \")\n",
    "display (F)\n",
    "G = G.subs([(v[0],x) ,(v[1],y) ,(v[2],z)])\n",
    "print(\" Divergence of F=\")\n",
    "display(G)"
   ]
  },
  {
   "cell_type": "code",
   "execution_count": null,
   "id": "21d05a96",
   "metadata": {},
   "outputs": [],
   "source": [
    "#To find curl of F=xy^2i+2x^2yzj -3yz^2k\n",
    "from sympy.physics.vector import *\n",
    "from sympy import var\n",
    "var('x,y,z')\n",
    "v = ReferenceFrame ('v')\n",
    "F = v[0]*v[1] ** 2*v.x+2*v[0] ** 2*v[1]*v[2]*v.y-3*v[1]*v[2] ** 2*v.z\n",
    "G = curl (F,v)\n",
    "F = F. subs ([(v[0],x) ,(v[1],y) ,(v[2],z)])\n",
    "print(\"Given vector point function is\")\n",
    "display(F)\n",
    "G = G.subs([(v[0],x) ,(v[1],y) ,(v[2],z)])\n",
    "print(\" curl of F=\")\n",
    "display(G)"
   ]
  },
  {
   "cell_type": "code",
   "execution_count": null,
   "id": "8b99d1a4",
   "metadata": {},
   "outputs": [],
   "source": [
    "#GREEN'S THEOREM\n",
    "#Using Green’s theorem, evaluate [(x + 2y)dx + (x − 2y)dy], where c is the region \n",
    "#bounded by coordinate axes and the line x = 1 and y = 1.\n",
    "from sympy import *\n",
    "var ('x,y')\n",
    "p=x+2*y\n",
    "q=x-2*y\n",
    "f= diff (q,x)- diff (p,y)\n",
    "soln = integrate (f,[x,0,1],[y,0,1])\n",
    "print (\"I=\",soln )"
   ]
  },
  {
   "cell_type": "code",
   "execution_count": null,
   "id": "d85c0ce4",
   "metadata": {},
   "outputs": [],
   "source": [
    "#Using Green’s theorem, evaluate [(xy + y2)dx + x2dy], where c is the closed curve bounded by y = x and y = x^2.\n",
    "from sympy import *\n",
    "var ('x,y')\n",
    "p=x*y+y ** 2\n",
    "q=x ** 2\n",
    "f= diff (q,x)- diff (p,y)\n",
    "soln = integrate (f,[y,x ** 2,x],[x,0,1])\n",
    "print (\"I=\",soln )"
   ]
  },
  {
   "cell_type": "markdown",
   "id": "8c5b3b27",
   "metadata": {},
   "source": [
    "## LAB 2: Computation of basis and dimension for a vector space and graphical representation of linear transformation"
   ]
  },
  {
   "cell_type": "code",
   "execution_count": null,
   "id": "1005283d",
   "metadata": {},
   "outputs": [],
   "source": [
    "#RANK NULLITY THEOREM\n",
    "#Verify the rank-nullity theorem for the linear transformation T : R3 → R3 defined by \n",
    "#T(x, y, z) = (x + 4y + 7z, 2x + 5y + 8z, 3x + 6y + 9z).\n",
    "import numpy as np\n",
    "from scipy . linalg import null_space\n",
    "A = np. array ([[1, 2, 3], [4, 5, 6], [7, 8, 9]])\n",
    "rank = np. linalg . matrix_rank (A)\n",
    "print (\" Rank of the matrix \",rank )\n",
    "ns = null_space (A)\n",
    "print (\" Null space of the matrix \",ns)\n",
    "nullity = ns. shape [1]\n",
    "print (\" Null space of the matrix \",nullity )\n",
    "if rank + nullity == A. shape [1]:\n",
    "    print (\"Rank - nullity theorem holds .\")\n",
    "else:\n",
    "    print (\"Rank - nullity theorem does not hold .\")"
   ]
  },
  {
   "cell_type": "code",
   "execution_count": null,
   "id": "cdf4cf59",
   "metadata": {},
   "outputs": [],
   "source": [
    "#DIMENSION OF A VECTOR\n",
    "#Find the dimension of subspace spanned by the vectors (1, 2, 3), (2, 3, 1) and (3, 1, 2).\n",
    "import numpy as np\n",
    "# Define the vector space V\n",
    "V = np. array ([[1, 2, 3],[2, 3, 1],[3, 1, 2]])\n",
    "basis = np.linalg.matrix_rank (V)\n",
    "dimension = V.shape[0]\n",
    "print(\"Basis of the matrix \",basis )\n",
    "print(\"Dimension of the matrix \",dimension )"
   ]
  },
  {
   "cell_type": "code",
   "execution_count": null,
   "id": "704e5b93",
   "metadata": {},
   "outputs": [],
   "source": [
    "#Extract the linearly independent rows in given matrix : Basis of Row space\n",
    "from numpy import *\n",
    "import sympy as sp\n",
    "A=[[1,-1,1,1],[2,-5,2,2],[3,-3,5,3],[4,-4,4,4]]\n",
    "AB = array(A)\n",
    "S = shape(A)\n",
    "n = len(A)\n",
    "for i in range (n):\n",
    "    if AB[i,i] == 0:\n",
    "        ab = copy(AB)\n",
    "    for k in range (i+1,S[0]):\n",
    "        if ab[k,i]!=0:\n",
    "            ab[i,:] = AB[k,:]\n",
    "            ab[k,:] = AB[i,:]\n",
    "            AB= copy (ab)\n",
    "    for j in range (i+1,n):\n",
    "        Fact =AB[j,i]/AB[i,i]\n",
    "        for k in range (i,n):\n",
    "            AB[j,k]=AB[j,k]- Fact *AB[i,k]\n",
    "display (\"REF of given matrix : \",sp. Matrix (AB))\n",
    "temp = {(0, 0, 0,0)}\n",
    "result = []\n",
    "for idx , row in enumerate (map(tuple , AB)):\n",
    "    if row not in temp :\n",
    "        result.append (idx)\n",
    "print (\"\\n Basis are non - zero rows of A:\")\n",
    "display (sp. Matrix (AB[ result ]))"
   ]
  },
  {
   "cell_type": "code",
   "execution_count": null,
   "id": "4f2e3d85",
   "metadata": {},
   "outputs": [],
   "source": [
    "#Horizontal stretch:\n",
    "#Represent the horizontal stretch transformation T : R2ßR2 geometrically \n",
    "#Find the image of vector (10, 0) when it is stretched horizontally by 2 units.\n",
    "import numpy as np\n",
    "import matplotlib.pyplot as plt\n",
    "V = np.array ([[10 ,0]])\n",
    "origin = np.array ([[0, 0, 0],[0, 0, 0]])\n",
    "A = np. matrix ([[2,0],[0,1]])\n",
    "V1 = np. matrix (V)\n",
    "V2 = A*np.transpose (V1)\n",
    "V2 = np.array (V2)\n",
    "plt.quiver(*origin , V[:,0], V[:,1], color =['b'], scale =50)\n",
    "plt.quiver(*origin , V2[0,:], V2[1,:], color =['r'], scale =50)\n",
    "plt.show()"
   ]
  },
  {
   "cell_type": "code",
   "execution_count": null,
   "id": "439ab4ff",
   "metadata": {},
   "outputs": [],
   "source": [
    "#Another Example\n",
    "from math import pi,sin,cos\n",
    "import matplotlib.pyplot as plt\n",
    "import numpy as np\n",
    "coords = np.array ([[0,0],[0.5,0.5],[0.5,1.5],[0,1],[0,0]])\n",
    "coords = coords.transpose ()\n",
    "coords\n",
    "x = coords [0,:]\n",
    "y = coords [1,:]\n",
    "A = np.array ([[2,0],[0,1]])\n",
    "A_coords = A@coords\n",
    "x_LT1 = A_coords [0,:]\n",
    "y_LT1 = A_coords [1,:]\n",
    "fig , ax = plt. subplots ()\n",
    "ax. plot (x,y,'ro ')\n",
    "ax. plot (x_LT1 ,y_LT1 ,'bo ')\n",
    "ax. plot (x,y,'r',ls= \"--\")\n",
    "ax. plot (x_LT1 ,y_LT1 ,'b')\n",
    "ax. axvline (x=0, color =\"k\",ls=\":\")\n",
    "ax. axhline (y=0, color =\"k\",ls=\":\")\n",
    "ax. grid ( True )\n",
    "ax. axis ([-2,2,-1,2])\n",
    "ax. set_aspect ('equal')\n",
    "ax. set_title (\" Horizontal Stretch \");"
   ]
  },
  {
   "cell_type": "code",
   "execution_count": null,
   "id": "ae4d4e1a",
   "metadata": {},
   "outputs": [],
   "source": [
    "#REFLECTION\n",
    "#Represent the reflection transformation T : R2 → R2 geometrically. \n",
    "#Find the image of vector (10, 0) when it is reflected about y axis.\n",
    "import numpy as np\n",
    "import matplotlib.pyplot as plt\n",
    "V = np.array([[10 ,0]])\n",
    "origin = np.array([[0, 0, 0],[0, 0, 0]])\n",
    "A = np.matrix ([[-1,0],[0,1]])\n",
    "V1 = np.matrix(V)\n",
    "V2 = A*np.transpose(V1)\n",
    "V2 = np.array(V2)\n",
    "plt.quiver(*origin , V[:,0], V[:,1], color =['b'], scale =50)\n",
    "plt.quiver(*origin , V2[0,:], V2[1,:], color =['r'], scale =50)\n",
    "plt.show()"
   ]
  },
  {
   "cell_type": "code",
   "execution_count": null,
   "id": "bbb05d53",
   "metadata": {},
   "outputs": [],
   "source": [
    "#Another Example\n",
    "import numpy as np\n",
    "import matplotlib.pyplot as plt\n",
    "coords = np.array ([[0,0],[0.5,0.5],[0.5,1.5],[0,1],[0,0]])\n",
    "coords = coords.transpose()\n",
    "coords\n",
    "B = np.array ([[2,0],[0,1]])\n",
    "B_coords = B@coords\n",
    "x_LT2 = B_coords [0,:]\n",
    "y_LT2 = B_coords [1,:]\n",
    "fig,ax = plt.subplots()\n",
    "ax.plot(x,y,'ro')\n",
    "ax.plot(x_LT2 ,y_LT2 ,'bo')\n",
    "ax.plot(x,y,'r',ls=\"--\")\n",
    "ax.plot(x_LT2 ,y_LT2 ,'b')\n",
    "ax.axvline (x=0, color =\"k\",ls=\":\")\n",
    "ax.axhline (y=0, color =\"k\",ls=\":\")\n",
    "ax.grid (True)\n",
    "ax.axis([-2,2,-1,2])\n",
    "ax.set_aspect ('equal')\n",
    "ax.set_title (\" Reflection \")\n",
    "plt.show()"
   ]
  },
  {
   "cell_type": "code",
   "execution_count": null,
   "id": "25722840",
   "metadata": {},
   "outputs": [],
   "source": [
    "'''ROTATION'''\n",
    "#"
   ]
  },
  {
   "cell_type": "code",
   "execution_count": null,
   "id": "998d53a8",
   "metadata": {},
   "outputs": [],
   "source": []
  },
  {
   "cell_type": "code",
   "execution_count": null,
   "id": "d441f5c0",
   "metadata": {},
   "outputs": [],
   "source": []
  },
  {
   "cell_type": "code",
   "execution_count": null,
   "id": "a1368583",
   "metadata": {},
   "outputs": [],
   "source": []
  },
  {
   "cell_type": "code",
   "execution_count": null,
   "id": "4dd93e53",
   "metadata": {},
   "outputs": [],
   "source": []
  },
  {
   "cell_type": "code",
   "execution_count": null,
   "id": "1b18a924",
   "metadata": {},
   "outputs": [],
   "source": []
  },
  {
   "cell_type": "code",
   "execution_count": null,
   "id": "a3422e33",
   "metadata": {},
   "outputs": [],
   "source": []
  },
  {
   "cell_type": "code",
   "execution_count": null,
   "id": "d904d839",
   "metadata": {},
   "outputs": [],
   "source": []
  },
  {
   "cell_type": "code",
   "execution_count": null,
   "id": "53181b6f",
   "metadata": {},
   "outputs": [],
   "source": []
  },
  {
   "cell_type": "code",
   "execution_count": null,
   "id": "d5491c03",
   "metadata": {},
   "outputs": [],
   "source": []
  },
  {
   "cell_type": "code",
   "execution_count": null,
   "id": "2ee7bd06",
   "metadata": {},
   "outputs": [],
   "source": []
  },
  {
   "cell_type": "markdown",
   "id": "4d209074",
   "metadata": {},
   "source": [
    "## COMPUTER SCIENCE AND ENGINEERING"
   ]
  },
  {
   "cell_type": "markdown",
   "id": "7ed1a3c7",
   "metadata": {},
   "source": [
    "## LAB 1: Program to compute area, volume and center of gravity"
   ]
  },
  {
   "cell_type": "code",
   "execution_count": null,
   "id": "990d1025",
   "metadata": {},
   "outputs": [],
   "source": [
    "#DOUBLE AND TRIPLE INTEGRATION\n",
    "#Evaluate the integral ∫_0^1∫_0^x(x^2+y^2)dydx\n",
    "from sympy import *\n",
    "x,y,z = symbols('x y z')\n",
    "w1 = integrate (x ** 2+y ** 2 ,(y,0,x) ,(x,0,1))\n",
    "print(w1)"
   ]
  },
  {
   "cell_type": "code",
   "execution_count": null,
   "id": "633fea3d",
   "metadata": {},
   "outputs": [],
   "source": [
    "#Evaluate the integral ∫_0^3∫_0^3-x∫_0^3-x-y(xyz)dzdydx\n",
    "from sympy import *\n",
    "x = Symbol('x')\n",
    "y = Symbol('y')\n",
    "z = Symbol('z')\n",
    "w2 = integrate ((x*y*z) ,(z,0,3-x-y) ,(y,0,3-x) ,(x,0,3))\n",
    "print(w2)"
   ]
  },
  {
   "cell_type": "code",
   "execution_count": null,
   "id": "cded403b",
   "metadata": {},
   "outputs": [],
   "source": [
    "#Evaluate the integral ∫_0^3∫_0^3-x∫_0^3-x-y(xyz)dzdydx\n",
    "from sympy import *\n",
    "x= Symbol ('x')\n",
    "y= Symbol ('y')\n",
    "z= Symbol ('z')\n",
    "w3= integrate (x ** 2+y ** 2,y,x)\n",
    "pprint (w3)\n",
    "w4= integrate (x ** 2+y ** 2,x,y)\n",
    "print(w4)"
   ]
  },
  {
   "cell_type": "code",
   "execution_count": null,
   "id": "38e18d03",
   "metadata": {},
   "outputs": [],
   "source": [
    "#Prove that ∫∫(x^2+y^2)dydx = ∫∫(x^2+y^2)dxdy\n",
    "from sympy import *\n",
    "x= Symbol ('x')\n",
    "y= Symbol ('y')\n",
    "z= Symbol ('z')\n",
    "w3= integrate (x ** 2+y ** 2,y,x)\n",
    "display(w3)\n",
    "w4 = integrate (x ** 2+y ** 2,x,y)\n",
    "display(w4)"
   ]
  },
  {
   "cell_type": "code",
   "execution_count": null,
   "id": "05a0dda9",
   "metadata": {},
   "outputs": [],
   "source": [
    "#Find the area of an ellipse by double integration. A = 4∫_0^a∫_0^(b/a)root(a^2 - x^2)\n",
    "from sympy import *\n",
    "x= Symbol ('x')\n",
    "y= Symbol ('y')\n",
    "a = 4\n",
    "b = 6\n",
    "w3 = 4* integrate (1 ,(y,0 ,(b/a)* sqrt (a ** 2-x ** 2)) ,(x,0,a))\n",
    "display(w3)"
   ]
  },
  {
   "cell_type": "code",
   "execution_count": null,
   "id": "f22ed522",
   "metadata": {},
   "outputs": [],
   "source": [
    "'''AREA OF REGION IN POLAR FORM'''\n",
    "#Find the area of the cardioid r = a(1 + cosθ) by double integration\n",
    "from sympy import *\n",
    "r = Symbol ('r')\n",
    "t = Symbol ('t')\n",
    "a = Symbol ('a')\n",
    "w3 = 2* integrate (r ,(r,0,a*(1+cos (t))) ,(t,0,pi))\n",
    "display(w3)"
   ]
  },
  {
   "cell_type": "code",
   "execution_count": null,
   "id": "5d851728",
   "metadata": {},
   "outputs": [],
   "source": [
    "#Find the volume of the tetrahedron bounded by the planes x=0,y=0 and z=0, x/a+y/b+z/c = 1\n",
    "from sympy import *\n",
    "x = Symbol ('x')\n",
    "y = Symbol ('y')\n",
    "z = Symbol ('z')\n",
    "a = Symbol ('a')\n",
    "b = Symbol ('b')\n",
    "c = Symbol ('c')\n",
    "w2 = integrate (1 ,(z,0,c*(1-x/a-y/b)) ,(y,0,b*(1-x/a)) ,(x,0,a))\n",
    "display(w2)"
   ]
  },
  {
   "cell_type": "code",
   "execution_count": null,
   "id": "3e7d7583",
   "metadata": {},
   "outputs": [],
   "source": [
    "'''CENTER OF GRAVITY'''\n",
    "#Find the center of gravity of cardioid . Plot the graph of cardioid and mark the center of gravity.\n",
    "import numpy as np\n",
    "import matplotlib . pyplot as plt\n",
    "import math\n",
    "from sympy import *\n",
    "r = Symbol ('r')\n",
    "t = Symbol ('t')\n",
    "a = Symbol ('a')\n",
    "I1 = integrate (cos (t)*r ** 2 ,(r,0,a*(1+cos (t))) ,(t,-pi ,pi))\n",
    "I2 = integrate (r ,(r,0,a*(1+cos (t))) ,(t,-pi ,pi))\n",
    "I = I1/I2\n",
    "print (I)\n",
    "I = I.subs (a,5)\n",
    "plt.axes( projection = 'polar')\n",
    "a = 5\n",
    "rad = np.arange (0, (2 * np.pi), 0.01)\n",
    "for i in rad :\n",
    "    r = a + (a*np.cos(i))\n",
    "    plt.polar (i,r,'g.')\n",
    "plt.polar(0,I,'r.')\n",
    "plt.show()"
   ]
  },
  {
   "cell_type": "markdown",
   "id": "e77e057c",
   "metadata": {},
   "source": [
    "## LAB 2: Evaluation of improper integrals, Beta and Gamma functions"
   ]
  },
  {
   "cell_type": "code",
   "execution_count": null,
   "id": "81072d46",
   "metadata": {},
   "outputs": [],
   "source": [
    "from sympy import *\n",
    "x= symbols('x')\n",
    "w1= integrate(exp(-x),(x,0, float ('inf ')))\n",
    "display(simplify (w1))"
   ]
  },
  {
   "cell_type": "code",
   "execution_count": null,
   "id": "30fce809",
   "metadata": {},
   "outputs": [],
   "source": [
    "#Evaluate Γ(5) by using definition\n",
    "from sympy import *\n",
    "x = symbols('x')\n",
    "w1 = integrate (exp (-x)*x ** 4,(x,0, float ('inf ')))\n",
    "display(simplify(w1))"
   ]
  },
  {
   "cell_type": "code",
   "execution_count": null,
   "id": "077fa928",
   "metadata": {},
   "outputs": [],
   "source": [
    "from sympy import *\n",
    "t,s= symbols ('t,s')\n",
    "w1= integrate (exp (-s*t)*cos(4*t) ,(t,0,oo))\n",
    "display(simplify(w1))"
   ]
  },
  {
   "cell_type": "code",
   "execution_count": null,
   "id": "f40f950f",
   "metadata": {},
   "outputs": [],
   "source": [
    "#Find Beta(3,5), Gamma(5)\n",
    "from sympy import beta , gamma\n",
    "m = input('m :');\n",
    "n = input('n :');\n",
    "m = float(m);\n",
    "n = float(n);\n",
    "s = beta(m,n);\n",
    "t = gamma(n)\n",
    "print('gamma (',n,') is %3.3f '%t)\n",
    "print('Beta (',m,n,') is %3.3f '%s)"
   ]
  },
  {
   "cell_type": "code",
   "execution_count": null,
   "id": "49e2a324",
   "metadata": {},
   "outputs": [],
   "source": [
    "#Calculate Beta(5/2,7/2) and Gamma(5/2).\n",
    "from sympy import beta , gamma\n",
    "m= float ( input ('m : '));\n",
    "n= float ( input ('n :'));\n",
    "s= beta (m,n);\n",
    "t= gamma (n)\n",
    "print('gamma (',n,') is %3.3f '%t)\n",
    "print('Beta (',m,n,') is %3.3f '%s)"
   ]
  },
  {
   "cell_type": "code",
   "execution_count": null,
   "id": "17061c7a",
   "metadata": {},
   "outputs": [],
   "source": [
    "#Verify that Beta(m, n) = Gamma(m)Gamma(n)/Gamma(m + n) for m=5 and n=7\n",
    "from sympy import beta , gamma\n",
    "m = 5;\n",
    "n = 7;\n",
    "m = float (m);\n",
    "n = float (n);\n",
    "s = beta (m,n);\n",
    "t = ( gamma (m)* gamma (n))/ gamma (m+n);\n",
    "print (s,t)\n",
    "if (abs (s-t)<=0.00001):\n",
    "    print ('beta and gamma are related ')\n",
    "else :\n",
    "    print ('given values are wrong ')"
   ]
  },
  {
   "cell_type": "markdown",
   "id": "32be2d0d",
   "metadata": {},
   "source": [
    "## LAB 3: Finding gradient, divergent, curl and their geometrical interpretation"
   ]
  },
  {
   "cell_type": "code",
   "execution_count": null,
   "id": "fa2662c4",
   "metadata": {},
   "outputs": [],
   "source": [
    "#METHOD 1\n",
    "#To find gradient of ϕ = x^2y + 2xz − 4.\n",
    "#To find gradient of scalar point function .\n",
    "from sympy . vector import *\n",
    "from sympy import symbols\n",
    "N= CoordSys3D('N')\n",
    "x,y,z= symbols('x y z')\n",
    "A=N.x ** 2*N.y+2*N.x*N.z-4\n",
    "delop = Del()\n",
    "display (delop(A))\n",
    "gradA = gradient(A)\n",
    "print (f\"\\n Gradient of {A} is \\n\")\n",
    "display(gradA)"
   ]
  },
  {
   "cell_type": "code",
   "execution_count": null,
   "id": "548da1f4",
   "metadata": {},
   "outputs": [],
   "source": [
    "#To find divergence of F = x^2yzˆi + y2zxˆj + z2xyˆk\n",
    "#To find divergence of a vector point function\n",
    "from sympy.vector import *\n",
    "from sympy import symbols\n",
    "N= CoordSys3D('N')\n",
    "x,y,z= symbols('x y z')\n",
    "A=N.x ** 2*N.y*N.z*N.i+N.y ** 2*N.z*N.x*N.j+N.z ** 2*N.x*N.y*N.k\n",
    "delop = Del()\n",
    "divA = delop.dot(A)\n",
    "display(divA)\n",
    "print (f\"\\n Divergence of {A} is \\n\")\n",
    "display(divergence (A))"
   ]
  },
  {
   "cell_type": "code",
   "execution_count": null,
   "id": "cb52787b",
   "metadata": {},
   "outputs": [],
   "source": [
    "#To find curl of F = x^2yzˆi + y2zxˆj + z2xyˆk\n",
    "#To find curl of a vector point function\n",
    "from sympy.vector import *\n",
    "from sympy import symbols\n",
    "N = CoordSys3D('N')\n",
    "x,y,z = symbols('x y z')\n",
    "A=N.x ** 2*N.y*N.z*N.i+N.y ** 2*N.z*N.x*N.j+N.z ** 2*N.x*N.y*N.k\n",
    "delop = Del()\n",
    "curlA = delop.cross(A)\n",
    "display(curlA)\n",
    "print (f\"\\n Curl of {A} is \\n\")\n",
    "display(curl (A))"
   ]
  },
  {
   "cell_type": "code",
   "execution_count": null,
   "id": "b042db7a",
   "metadata": {},
   "outputs": [],
   "source": [
    "#METHOD 2\n",
    "#To find gradient of ϕ = x^2yz.\n",
    "#To find gradient of a scalar point function x^2yz\n",
    "from sympy.physics . vector import *\n",
    "from sympy import var , pprint\n",
    "var ('x,y,z')\n",
    "v = ReferenceFrame ('v')\n",
    "F = v[0] ** 2*v[1]*v[2]\n",
    "G = gradient (F,v)\n",
    "F = F.subs([(v[0],x) ,(v[1],y) ,(v[2],z)])\n",
    "print(\" Given scalar function F=\")\n",
    "display(F)\n",
    "G = G.subs([(v[0],x) ,(v[1],y) ,(v[2],z)])\n",
    "print(\"\\n Gradient of F=\")\n",
    "display(G)"
   ]
  },
  {
   "cell_type": "code",
   "execution_count": null,
   "id": "b6a5e98c",
   "metadata": {},
   "outputs": [],
   "source": [
    "#To find divergence of F = x^2yˆi + yz2ˆj + x2zˆk.\n",
    "#To find divergence of F=x^2yi+yz^2j+x^2zk\n",
    "from sympy.physics.vector import *\n",
    "from sympy import var\n",
    "var ('x,y,z')\n",
    "v = ReferenceFrame ('v')\n",
    "F = v[0] ** 2*v[1]*v.x+v[1]*v[2] ** 2*v.y+v[0] ** 2*v[2]*v.z\n",
    "G = divergence (F,v)\n",
    "F = F.subs([(v[0],x) ,(v[1],y) ,(v[2],z)])\n",
    "print(\" Given vector point function is \")\n",
    "display (F)\n",
    "G = G.subs([(v[0],x) ,(v[1],y) ,(v[2],z)])\n",
    "print(\" Divergence of F=\")\n",
    "display(G)"
   ]
  },
  {
   "cell_type": "code",
   "execution_count": null,
   "id": "46ac77a1",
   "metadata": {},
   "outputs": [],
   "source": [
    "#To find curl of F=xy^2i+2x^2yzj -3yz^2k\n",
    "from sympy.physics.vector import *\n",
    "from sympy import var\n",
    "var('x,y,z')\n",
    "v = ReferenceFrame ('v')\n",
    "F = v[0]*v[1] ** 2*v.x+2*v[0] ** 2*v[1]*v[2]*v.y-3*v[1]*v[2] ** 2*v.z\n",
    "G = curl (F,v)\n",
    "F = F. subs ([(v[0],x) ,(v[1],y) ,(v[2],z)])\n",
    "print(\"Given vector point function is\")\n",
    "display(F)\n",
    "G = G.subs([(v[0],x) ,(v[1],y) ,(v[2],z)])\n",
    "print(\" curl of F=\")\n",
    "display(G)"
   ]
  },
  {
   "cell_type": "markdown",
   "id": "3470f7ba",
   "metadata": {},
   "source": [
    "## LAB 4: Computation of basis and dimension for a vector space and graphical representation of linear transformation"
   ]
  },
  {
   "cell_type": "code",
   "execution_count": null,
   "id": "d69013e4",
   "metadata": {},
   "outputs": [],
   "source": [
    "#RANK NULLITY THEOREM\n",
    "#Verify the rank-nullity theorem for the linear transformation T : R3 → R3 defined by \n",
    "#T(x, y, z) = (x + 4y + 7z, 2x + 5y + 8z, 3x + 6y + 9z).\n",
    "import numpy as np\n",
    "from scipy . linalg import null_space\n",
    "A = np. array ([[1, 2, 3], [4, 5, 6], [7, 8, 9]])\n",
    "rank = np. linalg . matrix_rank (A)\n",
    "print (\" Rank of the matrix \",rank )\n",
    "ns = null_space (A)\n",
    "print (\" Null space of the matrix \",ns)\n",
    "nullity = ns. shape [1]\n",
    "print (\" Null space of the matrix \",nullity )\n",
    "if rank + nullity == A. shape [1]:\n",
    "    print (\"Rank - nullity theorem holds .\")\n",
    "else:\n",
    "    print (\"Rank - nullity theorem does not hold .\")"
   ]
  },
  {
   "cell_type": "code",
   "execution_count": null,
   "id": "18cc1d5a",
   "metadata": {},
   "outputs": [],
   "source": [
    "'''HORIZONTAL STRETCH'''\n",
    "#Represent the horizontal stretch transformation T : R2ßR2 geometrically\n",
    "#Find the image of vector (10, 0) when it is stretched horizontally by 2 units.\n",
    "import numpy as np\n",
    "import matplotlib . pyplot as plt\n",
    "V = np.array ([[10 ,0]])\n",
    "origin = np.array([[0, 0, 0],[0, 0, 0]]) # origin point\n",
    "A=np.matrix([[2,0],[0,1]])\n",
    "V1=np.matrix(V)\n",
    "V2=A*np.transpose(V1)\n",
    "V2=np.array(V2)\n",
    "plt.quiver(*origin , V[:,0], V[:,1], color =['b'], scale =50)\n",
    "plt.quiver(*origin , V2[0,:], V2[1,:], color =['r'], scale =50)\n",
    "plt.show()"
   ]
  },
  {
   "cell_type": "code",
   "execution_count": null,
   "id": "4f49ff15",
   "metadata": {},
   "outputs": [],
   "source": [
    "#Another Example\n",
    "from math import pi,sin,cos\n",
    "import matplotlib . pyplot as plt\n",
    "import numpy as np\n",
    "coords = np.array ([[0,0],[0.5,0.5],[0.5,1.5],[0,1],[0,0]])\n",
    "coords = coords.transpose()\n",
    "coords\n",
    "x = coords [0,:]\n",
    "y = coords [1,:]\n",
    "A = np.array ([[2,0],[0,1]])\n",
    "A_coords = A@coords\n",
    "x_LT1 = A_coords [0,:]\n",
    "y_LT1 = A_coords [1,:]\n",
    "fig , ax = plt.subplots ()\n",
    "ax.plot(x,y,'ro')\n",
    "ax.plot(x_LT1 ,y_LT1,'bo')\n",
    "ax.plot (x,y,'r',ls=\"--\")\n",
    "ax.plot (x_LT1 ,y_LT1 ,'b')\n",
    "ax.axvline (x=0, color =\"k\",ls=\":\")\n",
    "ax.axhline (y=0, color =\"k\",ls=\":\")\n",
    "ax.grid (True)\n",
    "ax.axis ([-2,2,-1,2])\n",
    "ax.set_aspect ('equal')\n",
    "ax.set_title (\" Horizontal Stretch \");"
   ]
  },
  {
   "cell_type": "code",
   "execution_count": null,
   "id": "9b8b6713",
   "metadata": {},
   "outputs": [],
   "source": [
    "'''REFLECTIONS'''\n",
    "#Represent the reflection transformation T : R2 → R2 geometrically.\n",
    "#Find the image of vector (10, 0) when it is reflected about y axis.\n",
    "import numpy as np\n",
    "import matplotlib . pyplot as plt\n",
    "V = np.array ([[10 ,0]])\n",
    "origin = np.array ([[0, 0, 0],[0, 0, 0]]) # origin point\n",
    "A=np.matrix([[-1,0],[0,1]])\n",
    "V1=np.matrix(V)\n",
    "V2=A*np.transpose(V1)\n",
    "V2=np.array(V2)\n",
    "plt.quiver(*origin , V[:,0], V[:,1], color =['b'], scale =50)\n",
    "plt.quiver(*origin , V2[0,:], V2[1,:], color =['r'], scale =50)\n",
    "plt.show()"
   ]
  },
  {
   "cell_type": "code",
   "execution_count": null,
   "id": "9bbd7452",
   "metadata": {},
   "outputs": [],
   "source": [
    "from math import pi,sin,cos\n",
    "import matplotlib . pyplot as plt\n",
    "import numpy as np\n",
    "coords = np.array ([[0,0],[0.5,0.5],[0.5,1.5],[0,1],[0,0]])\n",
    "coords = coords.transpose()\n",
    "coords\n",
    "B = np. array ([[-1,0],[0,1]])\n",
    "B_coords = B@coords\n",
    "x_LT2 = B_coords [0,:]\n",
    "y_LT2 = B_coords [1,:]\n",
    "fig , ax = plt.subplots ()\n",
    "ax.plot (x,y,'ro')\n",
    "ax.plot (x_LT2 ,y_LT2 ,'bo')\n",
    "ax.plot (x,y,'r',ls=\"--\")\n",
    "ax.plot (x_LT2 ,y_LT2 ,'b')\n",
    "ax.axvline (x=0, color =\"k\",ls=\":\")\n",
    "ax.axhline (y=0, color =\"k\",ls=\":\")\n",
    "ax.grid(True)\n",
    "ax.axis([-2,2,-1,2])\n",
    "ax.set_aspect ('equal')\n",
    "ax.set_title (\" Reflection \")"
   ]
  },
  {
   "cell_type": "code",
   "execution_count": null,
   "id": "b8feb34e",
   "metadata": {},
   "outputs": [],
   "source": [
    "'''ROTATIONS'''\n",
    "#Represent the rotation transformation T : R2 → R2 geometrically.\n",
    "#Find the image of vector (10, 0) when it is rotated by π/2 radians.\n",
    "import numpy as np\n",
    "import matplotlib . pyplot as plt\n",
    "V = np.array ([[10 ,0]])\n",
    "origin = np. array ([[0, 0, 0],[0, 0, 0]])\n",
    "A = np.matrix ([[0,-1],[1,1]])\n",
    "V1 = np.matrix (V)\n",
    "V2 = A*np.transpose (V1)\n",
    "V2 = np.array (V2)\n",
    "plt.quiver(*origin , V[:,0], V[:,1], color =['b'], scale =50)\n",
    "plt.quiver(*origin , V2[0,:], V2[1,:], color =['r'], scale =50)\n",
    "plt.show()"
   ]
  },
  {
   "cell_type": "code",
   "execution_count": null,
   "id": "2699c5a7",
   "metadata": {},
   "outputs": [],
   "source": [
    "from math import pi,sin,cos\n",
    "import matplotlib.pyplot as plt\n",
    "import numpy as np\n",
    "coords = np.array ([[0,0],[0.5,0.5],[0.5,1.5],[0,1],[0,0]])\n",
    "coords = coords.transpose ()\n",
    "coords\n",
    "theta = pi/6\n",
    "R = np.array ([[cos( theta ),-sin( theta )],[sin( theta ),cos( theta )]])\n",
    "R_coords = R@coords\n",
    "x_LT3 = R_coords [0,:]\n",
    "y_LT3 = R_coords [1,:]\n",
    "fig , ax = plt.subplots()\n",
    "ax.plot(x,y,'ro')\n",
    "ax.plot(x_LT3 ,y_LT3 ,'bo')\n",
    "ax.plot (x,y,'r',ls=\"--\")\n",
    "ax.plot (x_LT3 ,y_LT3 ,'b')\n",
    "ax.axvline (x=0, color =\"k\",ls=\":\")\n",
    "ax.axhline (y=0, color =\"k\",ls=\":\")\n",
    "ax.grid ( True )\n",
    "ax.axis ([-2,2,-1,2])\n",
    "ax.set_aspect ('equal')\n",
    "plt.show()"
   ]
  },
  {
   "cell_type": "code",
   "execution_count": null,
   "id": "a4e4910c",
   "metadata": {},
   "outputs": [],
   "source": [
    "'''SHEAR TRANSFORMATION'''\n",
    "#Represent the Shear transformation T : R2 → R2 geometrically.\n",
    "#Find the image of (2, 3) under shear transformation.\n",
    "import numpy as np\n",
    "import matplotlib . pyplot as plt\n",
    "V = np.array ([[2,3]])\n",
    "origin = np.array ([[0, 0, 0],[0, 0, 0]])\n",
    "A=np.matrix ([[1,2],[0,1]])\n",
    "V1=np.matrix (V)\n",
    "V2=A*np.transpose (V1)\n",
    "V2=np.array (V2)\n",
    "print (\" Image of given vectors is:\", V2)\n",
    "plt.quiver(*origin , V[:,0], V[:,1], color =['b'], scale =20)\n",
    "plt.quiver(*origin , V2[0,:], V2[1,:], color =['r'], scale =20)\n",
    "plt.show()"
   ]
  },
  {
   "cell_type": "code",
   "execution_count": null,
   "id": "693ff5c0",
   "metadata": {},
   "outputs": [],
   "source": [
    "from math import pi,sin,cos\n",
    "import matplotlib.pyplot as plt\n",
    "import numpy as np\n",
    "coords = np.array([[0,0],[0.5,0.5],[0.5,1.5],[0,1],[0,0]])\n",
    "coords = coords.transpose()\n",
    "coords\n",
    "S = np.array([[1,2],[0,1]])\n",
    "S_coords = S@coords\n",
    "x_LT4 = S_coords [0,:]\n",
    "y_LT4 = S_coords [1,:]\n",
    "fig , ax = plt.subplots()\n",
    "ax.plot(x,y,'ro')\n",
    "ax.plot(x_LT4 ,y_LT4 ,'bo')\n",
    "ax.plot(x,y,'r',ls=\"--\")\n",
    "ax.plot(x_LT4 ,y_LT4 ,'b')\n",
    "ax.axvline(x=0, color =\"k\",ls=\":\")\n",
    "ax.axhline(y=0, color =\"k\",ls=\":\")\n",
    "ax.grid(True)\n",
    "ax.axis([-2,4,-1,2])\n",
    "ax.set_aspect ('equal')\n",
    "ax.set_title (\"Shear\");"
   ]
  },
  {
   "cell_type": "code",
   "execution_count": null,
   "id": "d5143b31",
   "metadata": {},
   "outputs": [],
   "source": [
    "'''COMPOSITION'''\n",
    "import numpy as np\n",
    "import matplotlib . pyplot as plt\n",
    "V = np.array ([[2,3]])\n",
    "origin = np.array ([[0, 0, 0],[0, 0, 0]]) # origin point\n",
    "A=np.matrix ([[0,-1],[1,0]])\n",
    "B=np.matrix ([[2,0],[0,1]])\n",
    "V1=np.matrix (V)\n",
    "V2=A*np.transpose (V1)\n",
    "V3=B*V2\n",
    "V2=np.array (V2)\n",
    "V3=np.array (V3)\n",
    "print(\" Image of given vectors is:\", V3)\n",
    "plt.quiver(*origin , V[:,0], V[:,1], color =['b'], scale =20)\n",
    "plt.quiver(*origin , V2[0,:], V2[1,:], color =['r'], scale =20)\n",
    "plt.quiver(*origin , V3[0,:], V3[1,:], color =['g'], scale =20)\n",
    "plt.title('Blue = original , Red = Rotated ,Green = Rotated + Streached ')\n",
    "plt.show()"
   ]
  },
  {
   "cell_type": "code",
   "execution_count": null,
   "id": "7dffa0eb",
   "metadata": {},
   "outputs": [],
   "source": [
    "from math import pi,sin,cos\n",
    "import matplotlib.pyplot as plt\n",
    "import numpy as np\n",
    "coords = np.array([[0,0],[0.5,0.5],[0.5,1.5],[0,1],[0,0]])\n",
    "coords = coords.transpose()\n",
    "coords\n",
    "C = np. array ([[-cos( theta ),sin( theta )],[sin( theta ),cos( theta )]])\n",
    "C_coords = C@coords\n",
    "x_LT5 = C_coords [0,:]\n",
    "y_LT5 = C_coords [1,:]\n",
    "fig , ax = plt. subplots()\n",
    "ax.plot (x,y,'ro')\n",
    "ax.plot (x_LT5 ,y_LT5 ,'bo')\n",
    "ax.plot (x,y,'r',ls= \"--\")\n",
    "ax.plot (x_LT5 ,y_LT5 ,'b')\n",
    "ax.axvline (x=0, color =\"k\",ls=\":\")\n",
    "ax.axhline (y=0, color =\"k\",ls=\":\")\n",
    "ax.grid ( True )\n",
    "ax.axis ([-2,2,-1,2])\n",
    "ax.set_aspect ('equal')"
   ]
  },
  {
   "cell_type": "markdown",
   "id": "61aac959",
   "metadata": {},
   "source": [
    "## LAB 5: Computing the inner product and orthogonality"
   ]
  },
  {
   "cell_type": "code",
   "execution_count": null,
   "id": "5a33ab46",
   "metadata": {},
   "outputs": [],
   "source": [
    "'''INNER PRODUCT OF TWO VECTORS'''\n",
    "#Find the inner product of the vectors (2, 1, 5, 4) and (3, 4, 7, 8).\n",
    "import numpy as np\n",
    "A = np.array([2, 1, 5, 4])\n",
    "B = np.array([3, 4, 7, 8])\n",
    "output = np.dot(A, B)\n",
    "display(output)"
   ]
  },
  {
   "cell_type": "code",
   "execution_count": null,
   "id": "7f6b6648",
   "metadata": {},
   "outputs": [],
   "source": [
    "'''CHECKING ORTHOGONALITY'''\n",
    "#Verify whether the following vectors (2, 1, 5, 4) and (3, 4, 7, 8) are orthogonal.\n",
    "import numpy as np\n",
    "A = np.array ([2, 1, 5, 4])\n",
    "B = np.array ([3, 4, 7, 8])\n",
    "output = np.dot(A, B)\n",
    "print ('Inner product is :',output )\n",
    "if output ==0:\n",
    "    print ('given vectors are orthognal ')\n",
    "else :\n",
    "    print ('given vectors are not orthognal ')"
   ]
  },
  {
   "cell_type": "markdown",
   "id": "58d582a1",
   "metadata": {},
   "source": [
    "## LAB 6: Solution of algebraic and transcendental equation by Regula-Falsi and Newton-Raphson method"
   ]
  },
  {
   "cell_type": "code",
   "execution_count": null,
   "id": "427fa448",
   "metadata": {},
   "outputs": [],
   "source": [
    "'''REGULA FALSI METHOD TO SOLVE TRANSCENDENTAL EQUATIONS'''\n",
    "#Regula-Falsi method to solve a transcendental equation\n",
    "#Obtain a root of the equation x3 − 2x − 5 = 0 between 2 and 3 by regula-falsi method.\n",
    "#Perform 5 iterations.\n",
    "from sympy import *\n",
    "x= Symbol ('x')\n",
    "g = input ('Enter the function: ')\n",
    "f= lambdify (x,g)\n",
    "a= float ( input ('Enter a values: ')) \n",
    "b= float ( input ('Enter b values: '))\n",
    "N=int( input ('Enter number of iterations :'))\n",
    "for i in range (1,N+1):\n",
    "    c=(a*f(b)-b*f(a))/(f(b)-f(a))\n",
    "    if ((f(a)*f(c)<0)):\n",
    "        b=c\n",
    "    else :\n",
    "        a=c\n",
    "        print ('iteration %d \\t the root %0.3f \\t function value %0.3f \\n'% (i,c,f(c)))"
   ]
  },
  {
   "cell_type": "code",
   "execution_count": null,
   "id": "9cf1f75b",
   "metadata": {},
   "outputs": [],
   "source": [
    "'''USING THE TOLERANCE VALUE, THE SAME PROGRAM CAN BE DONE AS'''\n",
    "from sympy import *\n",
    "x= Symbol ('x')\n",
    "g = input ('Enter the function ') \n",
    "f= lambdify (x,g)\n",
    "a= float ( input ('Enter a values: ')) \n",
    "b= float ( input ('Enter b values: ')) \n",
    "N= float ( input ('Enter tolerence: '))\n",
    "x=a;\n",
    "c=b;\n",
    "i=0\n",
    "while (abs(x-c)>=N):\n",
    "    x=c\n",
    "    c=((a*f(b)-b*f(a))/(f(b)-f(a)))\n",
    "    if ((f(a)*f(c)<0)):\n",
    "        b=c\n",
    "    else :\n",
    "        a=c\n",
    "        i=i+1\n",
    "        print ('itration %d \\t the root %0.3f \\t function value %0.3f \\n'%(i,c,f(c)));\n",
    "print ('final value of the root is %0.5f '%c)"
   ]
  },
  {
   "cell_type": "code",
   "execution_count": null,
   "id": "54c4178a",
   "metadata": {},
   "outputs": [],
   "source": [
    "'''NEWTON RAPHSON METHOD TO SOLVE TRANSCENDENTAL EQUATIONS'''\n",
    "from sympy import *\n",
    "x= Symbol('x')\n",
    "g = input('Enter the function ')\n",
    "f= lambdify(x,g)\n",
    "dg = diff(g)\n",
    "df= lambdify(x,dg)\n",
    "x0= float(input ('Enter the intial approximation '))\n",
    "n= int( input ('Enter the number of iterations '))\n",
    "for i in range(1,n+1):\n",
    "    x1 =(x0 - (f(x0)/df(x0)))\n",
    "    print ('itration %d \\t the root %0.3f \\t function value %0.3f \\n'%(i, x1 ,f(x1)))"
   ]
  },
  {
   "cell_type": "markdown",
   "id": "12a9a28c",
   "metadata": {},
   "source": [
    "## LAB 7: Interpolation /Extrapolation using Newton’s forward and backward difference formula"
   ]
  },
  {
   "cell_type": "code",
   "execution_count": null,
   "id": "baf75d4d",
   "metadata": {},
   "outputs": [],
   "source": [
    "from sympy import *\n",
    "import numpy as np\n",
    "n = int(input('Enter number of data points : '))\n",
    "x = np.zeros((n))\n",
    "y = np.zeros((n,n))\n",
    "print('Enter data for x and y: ')\n",
    "for i in range(n):\n",
    "    x[i] = float ( input ( 'x['+str(i)+']= '))\n",
    "    y[i][0] = float ( input ( 'y['+str(i)+']= '))\n",
    "for i in range (1,n):\n",
    "    for j in range (0,n-i):\n",
    "        y[j][i] = y[j+1][i-1] - y[j][i-1]\n",
    "        print ('\\n FORWARD DIFFERENCE TABLE \\n');\n",
    "for i in range(0,n):\n",
    "    print ('%0.2f ' %(x[i]), end='')\n",
    "    for j in range (0, n-i):\n",
    "        print('\\t\\t%0.2f ' %(y[i][j]), end='')\n",
    "    print()\n",
    "t= symbols ('t')\n",
    "f=[] \n",
    "p=(t-x[0])/(x[1]-x[0])\n",
    "f. append (p)\n",
    "for i in range (1,n-1):\n",
    "    f. append (f[i-1]*(p-i)/(i+1))\n",
    "    poly =y[0][0]\n",
    "for i in range (n-1):\n",
    "    poly = poly +y[0][i+1]*f[i]\n",
    "simp_poly = simplify ( poly )\n",
    "print ('\\n THE INTERPOLATING POLYNOMIAL IS\\n');\n",
    "display( simp_poly )\n",
    "inter = input ('Do you want to interpolate at a point (y/n)? ') # y\n",
    "if inter =='y':\n",
    "    a= float ( input ('enter the point ')) #2\n",
    "    interpol = lambdify (t, simp_poly )\n",
    "    result = interpol (a)\n",
    "print('\\n The value of the function at ' ,a,'is\\n',result );"
   ]
  },
  {
   "cell_type": "code",
   "execution_count": null,
   "id": "1c038bb8-bd82-4d4c-8b80-2643eaf34820",
   "metadata": {},
   "outputs": [],
   "source": [
    "from sympy import *\n",
    "import numpy as np\n",
    "import sys\n",
    "print (\" This will use Newton 's backword intepolation formula \")\n",
    "n = int( input ('Enter number of data points : '))\n",
    "x = np. zeros ((n))\n",
    "y = np. zeros ((n,n))\n",
    "print ('Enter data for x and y: ')\n",
    "for i in range (n):\n",
    "    x[i] = float ( input ( 'x['+str(i)+']= '))\n",
    "    y[i][0] = float ( input ( 'y['+str(i)+']= '))\n",
    "for i in range (1,n):\n",
    "    for j in range (n-1,i-2,-1):\n",
    "        y[j][i] = y[j][i-1] - y[j-1][i-1]\n",
    "print ('\\ nBACKWARD DIFFERENCE TABLE \\n');\n",
    "for i in range (0,n):\n",
    "    print ('%0.2f ' %(x[i]), end='')\n",
    "    for j in range (0, i+1):\n",
    "        print ('\\t%0.2f ' %(y[i][j]), end='')\n",
    "        print ()\n",
    "t= symbols ('t')\n",
    "f=[]\n",
    "p=(t-x[n-1])/(x[1]-x[0])\n",
    "f. append (p)\n",
    "for i in range (1,n-1):\n",
    "    f. append (f[i-1]*(p+i)/(i+1))\n",
    "    poly =y[n-1][0]\n",
    "    print ( poly )\n",
    "for i in range (n-1):\n",
    "    poly = poly +y[n-1][i+1]*f[i]\n",
    "    simp_poly = simplify (poly)\n",
    "print ('\\n THE INTERPOLATING POLYNOMIAL IS\\n');\n",
    "pprint ( simp_poly )\n",
    "inter = input ('Do you want to interpolate at a point (y/n)?')\n",
    "if inter =='y':\n",
    "    a= float ( input ('enter the point '))\n",
    "    interpol = lambdify (t, simp_poly )\n",
    "    result = interpol (a)\n",
    "    print ('\\ nThe value of the function at ' ,a,'is\\n',result );"
   ]
  },
  {
   "cell_type": "markdown",
   "id": "770d27a0-1680-422d-96b2-8ec50f9aa88d",
   "metadata": {},
   "source": [
    "## LAB 8: Computation of area under the curve using Trapezoidal, Simpsons's (1/3)rd and Simpson's (3/8)th Rule"
   ]
  },
  {
   "cell_type": "code",
   "execution_count": 4,
   "id": "8cf2aa03-571c-4d18-b74c-ae4fe28df632",
   "metadata": {},
   "outputs": [
    {
     "name": "stdin",
     "output_type": "stream",
     "text": [
      " Enter lower limit of integration :  0\n",
      " Enter upper limit of integration :  5\n",
      " Enter number of sub intervals :  10\n"
     ]
    },
    {
     "name": "stdout",
     "output_type": "stream",
     "text": [
      " Integration result by Trapezoidal method is:  1.3731040812301099\n"
     ]
    }
   ],
   "source": [
    "#Trapezoidal Rule\n",
    "#Evaluate Integral from 0 to 5 1/1+x^2\n",
    "def my_func (x):\n",
    "    return 1 / (1 + x ** 2)\n",
    "def trapezoidal (x0 , xn , n):\n",
    "    h = (xn - x0) / n\n",
    "    integration = my_func (x0) + my_func (xn)\n",
    "    for i in range (1, n):\n",
    "        k = x0 + i * h\n",
    "        integration = integration + 2 * my_func (k)\n",
    "    integration = integration * h / 2\n",
    "    return integration\n",
    "lower_limit = float ( input (\" Enter lower limit of integration : \"))\n",
    "upper_limit = float ( input (\" Enter upper limit of integration : \"))\n",
    "sub_interval = int ( input (\" Enter number of sub intervals : \"))\n",
    "result = trapezoidal ( lower_limit , upper_limit , sub_interval )\n",
    "print (\" Integration result by Trapezoidal method is: \" , result )"
   ]
  },
  {
   "cell_type": "code",
   "execution_count": null,
   "id": "cf845258-4102-44ea-8329-9c4329d91da5",
   "metadata": {},
   "outputs": [],
   "source": [
    "#Simpson's "
   ]
  }
 ],
 "metadata": {
  "kernelspec": {
   "display_name": "Python 3 (ipykernel)",
   "language": "python",
   "name": "python3"
  },
  "language_info": {
   "codemirror_mode": {
    "name": "ipython",
    "version": 3
   },
   "file_extension": ".py",
   "mimetype": "text/x-python",
   "name": "python",
   "nbconvert_exporter": "python",
   "pygments_lexer": "ipython3",
   "version": "3.11.5"
  }
 },
 "nbformat": 4,
 "nbformat_minor": 5
}
