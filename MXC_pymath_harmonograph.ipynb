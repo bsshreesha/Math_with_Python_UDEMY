{
 "cells": [
  {
   "attachments": {},
   "cell_type": "markdown",
   "metadata": {},
   "source": [
    "# COURSE: Master math by coding in Python\n",
    "## SECTION: Introduction\n",
    "\n",
    "### Create a harmonograph!\n",
    "\n",
    "#### https://www.udemy.com/course/math-with-python/?couponCode=MXC-DISC4ALL\n",
    "#### INSTRUCTOR: sincxpress.com"
   ]
  },
  {
   "cell_type": "code",
   "execution_count": null,
   "metadata": {},
   "outputs": [],
   "source": [
    "import numpy as np\n",
    "import matplotlib.pyplot as plt"
   ]
  },
  {
   "cell_type": "code",
   "execution_count": null,
   "metadata": {},
   "outputs": [],
   "source": [
    "# leave these parameters as-is\n",
    "n = 1000000\n",
    "t = np.logspace(np.log10(10),np.log10(500),n)\n",
    "\n",
    "# try chaning these parameters\n",
    "A = [  1, 1, 1.5, 1.5 ]\n",
    "d = [ .004, .001, .002, .0015 ]\n",
    "f = [   3, 1, 2, 2.5 ]\n",
    "\n",
    "# generate XY value pairs\n",
    "x = A[0]*np.sin(t*f[0])*np.exp(-d[0]*t) + A[1]*np.sin(t*f[1])*np.exp(-d[1]*t)\n",
    "y = A[2]*np.sin(t*f[2])*np.exp(-d[2]*t) + A[3]*np.sin(t*f[3])*np.exp(-d[3]*t)\n",
    "\n",
    "# plot them!\n",
    "plt.plot(x,y,'k',linewidth=.1)\n",
    "plt.axis('off')\n",
    "plt.show()"
   ]
  },
  {
   "cell_type": "code",
   "execution_count": null,
   "metadata": {},
   "outputs": [],
   "source": [
    "# what are the elementary components of the plots above? Let's have a look!\n",
    "plt.plot(np.sin(t*f[0])*np.exp(-d[0]*5*t),linewidth=.5)\n",
    "plt.show()"
   ]
  }
 ],
 "metadata": {
  "kernelspec": {
   "display_name": "Python 3",
   "language": "python",
   "name": "python3"
  },
  "language_info": {
   "codemirror_mode": {
    "name": "ipython",
    "version": 3
   },
   "file_extension": ".py",
   "mimetype": "text/x-python",
   "name": "python",
   "nbconvert_exporter": "python",
   "pygments_lexer": "ipython3",
   "version": "3.11.3"
  }
 },
 "nbformat": 4,
 "nbformat_minor": 2
}
