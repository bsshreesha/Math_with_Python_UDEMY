{
 "cells": [
  {
   "cell_type": "code",
   "execution_count": null,
   "id": "4219c917",
   "metadata": {},
   "outputs": [],
   "source": [
    "7+1"
   ]
  },
  {
   "cell_type": "code",
   "execution_count": null,
   "id": "7273c0d2",
   "metadata": {},
   "outputs": [],
   "source": [
    "print(11+6)"
   ]
  },
  {
   "cell_type": "code",
   "execution_count": null,
   "id": "0bef016e",
   "metadata": {},
   "outputs": [],
   "source": [
    "7-5"
   ]
  },
  {
   "cell_type": "code",
   "execution_count": null,
   "id": "5ff51bd9",
   "metadata": {},
   "outputs": [],
   "source": [
    "print(1-1)"
   ]
  },
  {
   "cell_type": "code",
   "execution_count": null,
   "id": "2eee5787",
   "metadata": {},
   "outputs": [],
   "source": [
    "8*5"
   ]
  },
  {
   "cell_type": "code",
   "execution_count": null,
   "id": "9a461afe",
   "metadata": {},
   "outputs": [],
   "source": [
    "print(6*8)"
   ]
  },
  {
   "cell_type": "code",
   "execution_count": null,
   "id": "57f99a42",
   "metadata": {},
   "outputs": [],
   "source": [
    "6/6"
   ]
  },
  {
   "cell_type": "code",
   "execution_count": null,
   "id": "a861c063",
   "metadata": {},
   "outputs": [],
   "source": [
    "print(8/2)"
   ]
  },
  {
   "cell_type": "code",
   "execution_count": null,
   "id": "393ae583",
   "metadata": {},
   "outputs": [],
   "source": [
    "#To obtain the remainder of a number\n",
    "y = int(input(\"Enter a number: \"))\n",
    "z = int(input(\"Enter the second number: \"))\n",
    "out = y % z\n",
    "print(\"The remainder obtained after division is:\" ,out)"
   ]
  },
  {
   "cell_type": "code",
   "execution_count": null,
   "id": "85933156",
   "metadata": {},
   "outputs": [],
   "source": [
    "#If loop execution\n",
    "num = int(input(\"Enter a number: \"))\n",
    "if (num % 2 == 0):\n",
    "    print(\"The number is even\")"
   ]
  },
  {
   "cell_type": "code",
   "execution_count": null,
   "id": "4ba640c3",
   "metadata": {},
   "outputs": [],
   "source": [
    "#If-else loop execution\n",
    "num = int(input(\"Enter a number: \"))\n",
    "if (num % 2 == 0):\n",
    "    print(\"The number is even\")\n",
    "else:\n",
    "    print(\"The number is odd\")"
   ]
  },
  {
   "cell_type": "code",
   "execution_count": null,
   "id": "fa57401f",
   "metadata": {},
   "outputs": [],
   "source": [
    "' ' ' To check the number whether it is positive or negative ' ' '\n",
    "x = int(input(\"Enter a number\"))\n",
    "if x > 0:\n",
    "    print(\"The number is positive\")\n",
    "else:\n",
    "    print(\"The number is negative\")"
   ]
  },
  {
   "cell_type": "code",
   "execution_count": null,
   "id": "2e9962fa",
   "metadata": {},
   "outputs": [],
   "source": [
    "#elif condition\n",
    "number = int(input(\"Enter a number:\"))\n",
    "if number == 10:\n",
    "    print(\"The number is 10\")\n",
    "elif number == 50:\n",
    "    print(\"The number is 50\")\n",
    "elif number == 100:\n",
    "    print(\"The number is 100\")\n",
    "else:\n",
    "    print(\"The number is not equal to 10,50,100\")"
   ]
  },
  {
   "cell_type": "code",
   "execution_count": null,
   "id": "88368fb9",
   "metadata": {},
   "outputs": [],
   "source": [
    "#Nested if\n",
    "m1 = int (input(\"Enter the marks in the first test: \"))\n",
    "m2 = int (input(\"Enter the marks in second test: \"))\n",
    "m3 = int (input(\"Enter the marks in third test: \"))\n",
    "if (m1 > m2):\n",
    "    if (m2 > m3):\n",
    "        total = m1 + m2\n",
    "    else:\n",
    "        total = m1 + m3\n",
    "elif (m1 > m3):\n",
    "    total = m1 + m2\n",
    "else:\n",
    "    total = m2 + m3\n",
    "Avg = total / 2\n",
    "print (\"The average of the best two test marks is: \" ,Avg)"
   ]
  },
  {
   "cell_type": "code",
   "execution_count": null,
   "id": "dfc5dbb0",
   "metadata": {},
   "outputs": [],
   "source": [
    "#While Loop\n",
    "n= int(input(\"Enter the number: \"))\n",
    "i = 1\n",
    "while(i < 11):\n",
    "    print (n,'x',i,'=',n*i)\n",
    "    i=i+1"
   ]
  },
  {
   "cell_type": "code",
   "execution_count": null,
   "id": "05ff4cff",
   "metadata": {},
   "outputs": [],
   "source": [
    "#For Loop\n",
    "n= int(input(\"Enter the number: \"))\n",
    "for i in range(0,11):\n",
    "    print (n,'x',i,'=',n*i)\n",
    "    i=i+1"
   ]
  },
  {
   "cell_type": "code",
   "execution_count": null,
   "id": "4b141a9f",
   "metadata": {},
   "outputs": [],
   "source": [
    "#For Loop\n",
    "for t in range(0,5):\n",
    "    num = t**3\n",
    "    print(num)"
   ]
  },
  {
   "cell_type": "code",
   "execution_count": null,
   "id": "399b83de",
   "metadata": {},
   "outputs": [],
   "source": [
    "#Nested Loop\n",
    "import sympy as sym\n",
    "from IPython.display import Math,display\n",
    "import numpy as np\n",
    "nums = range(1,11)\n",
    "matmult = np.zeros((len(nums),len(nums)),dtype = int)\n",
    "for rowi in nums:\n",
    "    for coli in nums:\n",
    "        matmult[rowi-1,coli-1] = rowi*coli\n",
    "display(Math(sym.latex(sym.sympify(matmult))))"
   ]
  },
  {
   "cell_type": "code",
   "execution_count": null,
   "id": "ab1221bd",
   "metadata": {},
   "outputs": [],
   "source": [
    "#Continue\n",
    "for iterator in range(10, 21):\n",
    "    if iterator == 10:\n",
    "        continue\n",
    "        print(iterator)"
   ]
  },
  {
   "cell_type": "code",
   "execution_count": null,
   "id": "2b486a26",
   "metadata": {},
   "outputs": [],
   "source": [
    "#Break\n",
    "n = 0\n",
    "while n<= 10:\n",
    "    print(n)\n",
    "    n = n + 1\n",
    "    if n == 5:\n",
    "        break\n",
    "print(\"End of loop\")"
   ]
  },
  {
   "cell_type": "code",
   "execution_count": null,
   "id": "514dadc8",
   "metadata": {},
   "outputs": [],
   "source": [
    "#Pass\n",
    "n = 15\n",
    "if n > 10:\n",
    "    pass\n",
    "print(7+1)"
   ]
  },
  {
   "cell_type": "code",
   "execution_count": null,
   "id": "8adccb58",
   "metadata": {},
   "outputs": [],
   "source": [
    "#Calculator using loops\n",
    "a = int(input(\"Enter the first number: \"))\n",
    "b = int(input(\"Enter the second number: \"))\n",
    "\n",
    "print(\"Select an option\")\n",
    "print(\"1. Addition\")\n",
    "print(\"2. Subtraction\")\n",
    "print(\"3. Multiplication\")\n",
    "print(\"4. Division\")\n",
    "print(\"5. Exponential\")\n",
    "print(\"6. Exit\")\n",
    "\n",
    "while True:\n",
    "    choice = int(input(\"Enter your choice: \"))\n",
    "    if choice == 1:\n",
    "        print(\"The result of addition is:\" ,a + b )\n",
    "    elif choice == 2:\n",
    "        print(\"The result of subtraction is:\" ,a - b )\n",
    "    elif choice == 3:\n",
    "        print(\"The result of multiplication is:\" ,a * b )\n",
    "    elif choice == 4:\n",
    "        print(\"The result of division is:\" ,a / b )\n",
    "    elif choice == 5:\n",
    "        print(\"The result of exponentiation is:\" ,a ** b )\n",
    "    elif choice == 6:\n",
    "        break\n",
    "    else:\n",
    "        print(\"Invalid choice\")"
   ]
  },
  {
   "cell_type": "code",
   "execution_count": null,
   "id": "46783de9",
   "metadata": {},
   "outputs": [],
   "source": [
    "#functions\n",
    "def add(x, y):\n",
    "    return x + y\n",
    "\n",
    "def subtract(x, y):\n",
    "    return x - y\n",
    "\n",
    "def multiply(x, y):\n",
    "    return x * y\n",
    "\n",
    "def divide(x, y):\n",
    "    return x / y\n",
    "\n",
    "\n",
    "print(\"Select operation.\")\n",
    "print(\"1.Add\")\n",
    "print(\"2.Subtract\")\n",
    "print(\"3.Multiply\")\n",
    "print(\"4.Divide\")\n",
    "\n",
    "while True:\n",
    "    choice = input(\"Enter choice(1/2/3/4): \")\n",
    "\n",
    "    if choice in ('1', '2', '3', '4'):\n",
    "        try:\n",
    "            num1 = float(input(\"Enter first number: \"))\n",
    "            num2 = float(input(\"Enter second number: \"))\n",
    "        except ValueError:\n",
    "            print(\"Invalid input. Please enter a number.\")\n",
    "            continue\n",
    "\n",
    "        if choice == '1':\n",
    "            print(num1, \"+\", num2, \"=\", add(num1, num2))\n",
    "\n",
    "        elif choice == '2':\n",
    "            print(num1, \"-\", num2, \"=\", subtract(num1, num2))\n",
    "\n",
    "        elif choice == '3':\n",
    "            print(num1, \"*\", num2, \"=\", multiply(num1, num2))\n",
    "\n",
    "        elif choice == '4':\n",
    "            print(num1, \"/\", num2, \"=\", divide(num1, num2))\n",
    "\n",
    "        next_calculation = input(\"Let's do next calculation? (yes/no): \")\n",
    "        if next_calculation == \"no\":\n",
    "            break\n",
    "        else:\n",
    "            print(\"Invalid Input\")"
   ]
  },
  {
   "cell_type": "code",
   "execution_count": null,
   "id": "d3fa5055",
   "metadata": {},
   "outputs": [],
   "source": [
    "#function arguments\n",
    "def add_numbers(a, b):\n",
    "    sum = a + b\n",
    "    print('Sum:', sum)\n",
    "\n",
    "add_numbers(5, 3)"
   ]
  },
  {
   "cell_type": "code",
   "execution_count": null,
   "id": "5611aebc",
   "metadata": {},
   "outputs": [],
   "source": [
    "#range functions\n",
    "for i in range(0,110):\n",
    "    print(i)"
   ]
  },
  {
   "cell_type": "code",
   "execution_count": null,
   "id": "32b371bb",
   "metadata": {},
   "outputs": [],
   "source": [
    "#range functions\n",
    "for i in range(0,10,2):\n",
    "    print(i)"
   ]
  },
  {
   "cell_type": "code",
   "execution_count": null,
   "id": "6312b33a",
   "metadata": {},
   "outputs": [],
   "source": [
    "#print numbers from 1 to 10\n",
    "n = int(input(\"Enter the number\"))\n",
    "for i in range (1,11):\n",
    "    print (n,'x',i,'=',n*i)"
   ]
  },
  {
   "cell_type": "code",
   "execution_count": null,
   "id": "d83ac2a0",
   "metadata": {},
   "outputs": [],
   "source": [
    "#Numpy \n",
    "from numpy import random\n",
    "def guesstheNumber():\n",
    "    num2guess = random.randint(0,100)\n",
    "    userguess = float(input(\"Guess the number\"))\n",
    "    \n",
    "    while userguess != num2guess:\n",
    "        if userguess < num2guess:\n",
    "            print(\"Guess Higher\")\n",
    "        elif userguess > num2guess:\n",
    "            print(\"Guess lower\")\n",
    "            \n",
    "        userguess = float(input(\"Guess again\"))\n",
    "    \n",
    "    print(\"YES!!! You guessed it right\")\n",
    "guesstheNumber()"
   ]
  }
 ],
 "metadata": {
  "kernelspec": {
   "display_name": "Python 3 (ipykernel)",
   "language": "python",
   "name": "python3"
  },
  "language_info": {
   "codemirror_mode": {
    "name": "ipython",
    "version": 3
   },
   "file_extension": ".py",
   "mimetype": "text/x-python",
   "name": "python",
   "nbconvert_exporter": "python",
   "pygments_lexer": "ipython3",
   "version": "3.10.9"
  }
 },
 "nbformat": 4,
 "nbformat_minor": 5
}
