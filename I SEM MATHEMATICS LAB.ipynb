{
 "cells": [
  {
   "cell_type": "markdown",
   "id": "377a702f",
   "metadata": {},
   "source": [
    "## LAB 1. Use python a. to plot Cartesian curves. b. to plot polar curves. c. to plot implicit functions."
   ]
  },
  {
   "cell_type": "code",
   "execution_count": null,
   "id": "ada41f25",
   "metadata": {},
   "outputs": [],
   "source": [
    "#Scatter Plot\n",
    "import matplotlib.pyplot as plt\n",
    "x = [1,2,3,4,6,7,8]\n",
    "y = [2,7,9,1,5,10 ,3] \n",
    "plt.scatter(x, y)\n",
    "plt.xlabel('x - axis ') \n",
    "plt.ylabel('y - axis ') \n",
    "plt.title('Scatter points ') \n",
    "plt.show() "
   ]
  },
  {
   "cell_type": "code",
   "execution_count": null,
   "id": "999c64a8",
   "metadata": {},
   "outputs": [],
   "source": [
    "#First graph\n",
    "import matplotlib.pyplot as plt\n",
    "x = [1,2,3,4,6,7,8]\n",
    "y = [2,7,9,1,5,10 ,3]\n",
    "plt.plot(x, y, 'r+--')\n",
    "plt.xlabel('x - axis ')\n",
    "plt.ylabel('y - axis ')\n",
    "plt.title('My first graph !')\n",
    "plt.show()"
   ]
  },
  {
   "cell_type": "code",
   "execution_count": null,
   "id": "87b79d09",
   "metadata": {},
   "outputs": [],
   "source": [
    "#1. Exponential Curves\n",
    "import numpy as np\n",
    "import matplotlib.pyplot as plt\n",
    "x = np.arange (-10 , 10 , 0.001) \n",
    "y = np.exp(x)\n",
    "plt.plot(x,y)\n",
    "plt.title(\" Exponential curve \")\n",
    "plt.grid()\n",
    "plt.show()"
   ]
  },
  {
   "cell_type": "code",
   "execution_count": null,
   "id": "7f0b6290",
   "metadata": {},
   "outputs": [],
   "source": [
    "#Sine curve\n",
    "import numpy as np\n",
    "import matplotlib.pyplot as plt\n",
    "x = np. arange(-10 , 10 , 0.001)\n",
    "y1 = np.sin(x)\n",
    "plt.plot(x,y1)\n",
    "plt.title(\" sine curve \")\n",
    "plt.xlabel(\" Values of x\")\n",
    "plt.ylabel(\" Values of sin (x) \")\n",
    "plt.grid()\n",
    "plt.show()"
   ]
  },
  {
   "cell_type": "code",
   "execution_count": null,
   "id": "65e650f5",
   "metadata": {},
   "outputs": [],
   "source": [
    "#cosine curve\n",
    "import numpy as np\n",
    "import matplotlib.pyplot as plt\n",
    "x = np. arange(-10 , 10 , 0.001)\n",
    "y1 = np.cos(x)\n",
    "plt.plot(x,y1)\n",
    "plt.title(\" cosine curve \")\n",
    "plt.xlabel(\" Values of x\")\n",
    "plt.ylabel(\" Values of cosin(x) \")\n",
    "plt.grid()\n",
    "plt.show()"
   ]
  },
  {
   "cell_type": "code",
   "execution_count": null,
   "id": "62bda270",
   "metadata": {},
   "outputs": [],
   "source": [
    "#Sine and cosine curve\n",
    "import numpy as np\n",
    "import matplotlib.pyplot as plt\n",
    "x = np. arange (-10 , 10 , 0.001)\n",
    "y1 = np.sin(x)\n",
    "y2 = np.cos(x)\n",
    "plt.plot(x,y1 ,x,y2)\n",
    "plt.title(\" sine curve and cosine curve \")\n",
    "plt.xlabel(\" Values of x\")\n",
    "plt.ylabel(\" Values of sin (x) and cos(x) \")\n",
    "plt.grid()\n",
    "plt.show()"
   ]
  },
  {
   "cell_type": "code",
   "execution_count": null,
   "id": "3facf07c",
   "metadata": {},
   "outputs": [],
   "source": [
    "#Simple Graph\n",
    "import matplotlib.pyplot as plt\n",
    "import numpy as np\n",
    "x = np.linspace (0, 2, 100)\n",
    "plt.plot(x, x, label ='linear ')\n",
    "plt.plot(x, x ** 2, label ='quadratic ')\n",
    "plt.plot(x, x ** 3, label ='cubic ') \n",
    "plt.xlabel('x label ')\n",
    "plt.ylabel('y label ')\n",
    "plt.title(\" Simple Plot \")\n",
    "plt.legend()\n",
    "plt.show()"
   ]
  },
  {
   "cell_type": "code",
   "execution_count": null,
   "id": "ba9d45ea",
   "metadata": {},
   "outputs": [],
   "source": [
    "#2. Implicit Function\n",
    "#Circle: x^2 + y^2 = 4\n",
    "from sympy import plot_implicit , symbols , Eq\n",
    "x, y = symbols ('x y')\n",
    "p1 = plot_implicit (Eq(x ** 2 + y ** 2, 4) ,(x,-4,4) ,(y,-4,4),title = 'Circle : $x^2+y^2=4$ ') #r = 2"
   ]
  },
  {
   "cell_type": "code",
   "execution_count": null,
   "id": "9658928c",
   "metadata": {},
   "outputs": [],
   "source": [
    "#Strophoid: y^2(a − x) = x^2(a + x), a > 0\n",
    "p3= plot_implicit (\n",
    "Eq ((y ** 2)*(2-x), (x ** 2)*(2+x)), (x, -5, 5), (y, -5, 5),title = 'Strophoid : $y^2 (a-x)=x^2 (a+x), a> 0$ ') # a=2"
   ]
  },
  {
   "cell_type": "code",
   "execution_count": null,
   "id": "ab6b2174",
   "metadata": {},
   "outputs": [],
   "source": [
    "#Cissoid: y^2(a − x) = x^3, a > 0\n",
    "p4= plot_implicit (Eq ((y ** 2)*(3-x),x ** 3) ,(x,-2,5) ,(y,-5,5)) #a = 3"
   ]
  },
  {
   "cell_type": "code",
   "execution_count": null,
   "id": "e4c087c1",
   "metadata": {},
   "outputs": [],
   "source": [
    "#Lemniscate: a^2y^2 = x^2(a^2 − x^2)\n",
    "p5= plot_implicit (Eq(4*(y ** 2) ,(x ** 2)*(4-x ** 2)) ,(x,-5,5) ,(y,-5,5)) # a=2"
   ]
  },
  {
   "cell_type": "code",
   "execution_count": null,
   "id": "bc761562",
   "metadata": {},
   "outputs": [],
   "source": [
    "#Folium of De-Cartes: x^3 + y^3 = 3axy\n",
    "p6= plot_implicit (Eq(x ** 3+y ** 3,3*2*x*y) ,(x,-5,5) ,(y,-5,5)) # a=2"
   ]
  },
  {
   "cell_type": "code",
   "execution_count": null,
   "id": "61b6d64c",
   "metadata": {},
   "outputs": [],
   "source": [
    "#Polar Curves\n",
    "import numpy as np\n",
    "import matplotlib.pyplot as plt\n",
    "plt.axes(projection = 'polar')\n",
    "r = 3\n",
    "rads = np.arange(0, 2 * np.pi, 0.01)\n",
    "\n",
    "for i in rads :\n",
    "    plt.polar (i, r, 'g')\n",
    "plt.show ()"
   ]
  },
  {
   "cell_type": "code",
   "execution_count": null,
   "id": "f5d3c26b",
   "metadata": {},
   "outputs": [],
   "source": [
    "#Cardioid: r = 5(1 + cosθ)\n",
    "from pylab import *\n",
    "theta = linspace (0,2*np.pi , 1000 )\n",
    "r1=5+5*cos ( theta )\n",
    "polar(theta ,r1 ,'r')\n",
    "show()"
   ]
  },
  {
   "cell_type": "code",
   "execution_count": null,
   "id": "074b1a90",
   "metadata": {},
   "outputs": [],
   "source": [
    "#Four leaved Rose: r = 2|cos2x|\n",
    "from pylab import *\n",
    "theta = linspace (0,2*pi , 1000 )\n",
    "r=2*abs(cos(2* theta ))\n",
    "polar (theta ,r,'r')\n",
    "show ()"
   ]
  },
  {
   "cell_type": "code",
   "execution_count": null,
   "id": "8dd9481a",
   "metadata": {},
   "outputs": [],
   "source": [
    "#Cardioids: r = a + acos(θ) and r = a − acos(θ)\n",
    "import numpy as np\n",
    "import matplotlib.pyplot as plt\n",
    "import math\n",
    "plt.axes ( projection = 'polar')\n",
    "a=3\n",
    "rad = np. arange (0, (2 * np.pi), 0.01)\n",
    "for i in rad :\n",
    "    r = a + (a*np.cos(i))\n",
    "    plt.polar (i,r,'g.')\n",
    "    r1 = a-(a*np.cos (i))\n",
    "    plt.polar (i,r1 ,'r.')\n",
    "plt.show ()"
   ]
  },
  {
   "cell_type": "code",
   "execution_count": null,
   "id": "53fd97d0",
   "metadata": {},
   "outputs": [],
   "source": [
    "#3. Parametric Equations\n",
    "#Circle: x = acos(θ); y = asin(θ)\n",
    "import numpy as np\n",
    "import matplotlib.pyplot as plt\n",
    "def circle (r):\n",
    "    x = []\n",
    "    y = []\n",
    "    for theta in np. linspace (-2*np.pi , 2*np.pi , 100):\n",
    "        x.append (r*np.cos( theta ))\n",
    "        y.append (r*np.sin( theta ))\n",
    "        plt.plot (x,y) \n",
    "        plt.show ()\n",
    "circle (5)"
   ]
  },
  {
   "cell_type": "code",
   "execution_count": null,
   "id": "5f82169b",
   "metadata": {},
   "outputs": [],
   "source": [
    "#Cycloid: x = a(θ − sinθ); y = a(1 − sinθ)\n",
    "import numpy as np\n",
    "import matplotlib.pyplot as plt\n",
    "def cycloid (r):\n",
    "    x = [] \n",
    "    y = []\n",
    "    for theta in np. linspace (-2*np.pi , 2*np.pi , 100):\n",
    "        x.append (r*( theta - np.sin( theta )))\n",
    "        y.append (r*(1 - np.cos( theta )))\n",
    "        plt. plot (x,y)\n",
    "        plt. show ()\n",
    "cycloid (2)"
   ]
  },
  {
   "cell_type": "markdown",
   "id": "1425a0c8",
   "metadata": {},
   "source": [
    "## LAB 2: Finding angle between two polar curves, curvature and radius of curvature."
   ]
  },
  {
   "cell_type": "code",
   "execution_count": null,
   "id": "f4855efc",
   "metadata": {},
   "outputs": [],
   "source": [
    "#1. Find the angle between the curves r = 4(1 + cos t) and r = 5(1 − cos t).\n",
    "from sympy import *\n",
    "r,t = symbols ('r,t')\n",
    "r1 = 4*(1+cos (t));\n",
    "r2 = 5*(1-cos (t));\n",
    "dr1 = diff (r1 ,t) \n",
    "dr2 = diff (r2 ,t)\n",
    "t1 = r1/dr1\n",
    "t2 = r2/dr2\n",
    "q = solve (r1-r2 ,t)\n",
    "w1 = t1.subs ({t: float (q[1])})\n",
    "w2 = t2.subs ({t: float (q[1])})\n",
    "y1 = atan(w1)\n",
    "y2 = atan(w2)\n",
    "w = abs(y1-y2)\n",
    "print ('Angle between curves in radians is %0.3f '%(w))"
   ]
  },
  {
   "cell_type": "code",
   "execution_count": null,
   "id": "17c1b44c",
   "metadata": {},
   "outputs": [],
   "source": [
    "from sympy import *\n",
    "r,t = symbols ('r,t')\n",
    "r1=4*(cos (t));\n",
    "r2=5*(sin (t));\n",
    "dr1 = diff (r1 ,t)\n",
    "dr2 = diff (r2 ,t)\n",
    "t1 = r1/dr1\n",
    "t2 = r2/dr2\n",
    "q = solve (r1-r2 ,t)\n",
    "w1 = t1.subs ({t: float (q[0])})\n",
    "w2 = t2.subs ({t: float (q[0])})\n",
    "y1 = atan (w1)\n",
    "y2 = atan (w2)\n",
    "w = abs(y1-y2)\n",
    "print ('Angle between curves in radians is %0.4f '% float (w))"
   ]
  },
  {
   "cell_type": "code",
   "execution_count": null,
   "id": "7b08aee3",
   "metadata": {},
   "outputs": [],
   "source": [
    "#2. Radius of curvature\n",
    "#Find the radius of curvature, r = 4(1 + cos t) at t=π/2.\n",
    "from sympy import *\n",
    "t = Symbol ('t')\n",
    "r = Symbol ('r')\n",
    "r = 4*(1+cos(t))\n",
    "r1 = Derivative (r,t). doit ()\n",
    "r2 = Derivative (r1 ,t). doit ()\n",
    "rho = (r ** 2+r1 ** 2) ** (1.5)/(r ** 2+2*r1 ** 2-r*r2);\n",
    "rho1 = rho . subs (t,pi/2) # substitute t in rho\n",
    "print ('The radius of curvature is %3.4f units '% rho1 )"
   ]
  },
  {
   "cell_type": "code",
   "execution_count": null,
   "id": "95b66de7",
   "metadata": {},
   "outputs": [],
   "source": [
    "#Find the angle between the curves r = 4 cos t and r = 5 sin t.\n",
    "from sympy import *\n",
    "t,r,a,n= symbols ('t r a n')\n",
    "r=a*sin(n*t)\n",
    "r1 = Derivative (r,t). doit ()\n",
    "r2 = Derivative (r1 ,t). doit ()\n",
    "rho = (r ** 2+r1 ** 2) ** 1.5/(r ** 2+2*r1 ** 2-r*r2);\n",
    "rho1 = rho.subs (t,pi/2)\n",
    "rho1 = rho1.subs (n,1)\n",
    "print (\"The radius of curvature is\")\n",
    "display( simplify ( rho1 ))"
   ]
  },
  {
   "cell_type": "code",
   "execution_count": null,
   "id": "9f96460c",
   "metadata": {},
   "outputs": [],
   "source": [
    "#Parametric Curves\n",
    "#Find radius of curvature of x = acos(t), y = asin(t).\n",
    "from sympy import *\n",
    "from sympy .abc import rho , x,y,r,K,t,a,b,c, alpha\n",
    "y=( sqrt (x)-4) ** 2\n",
    "y=a*sin(t)\n",
    "x=a*cos(t)\n",
    "dydx = simplify ( Derivative (y,t). doit ())/ simplify ( Derivative (x,t). doit ())\n",
    "rho = simplify ((1+ dydx ** 2) ** 1.5/( Derivative (dydx ,t). doit ()/( Derivative (x,\n",
    "t). doit ())))\n",
    "print ('Radius of curvature is ')\n",
    "display ( ratsimp (rho ))\n",
    "t1=pi/2\n",
    "r1=5\n",
    "rho1 = rho . subs (t,t1);\n",
    "rho2 = rho1 . subs (a,r1);\n",
    "print ('\\nRadius of curvature at r=5 and t= pi/2 is ', simplify ( rho2 ));\n",
    "curvature =1/ rho2 ;\n",
    "print ('\\n\\n Curvature at (5,pi/2) is ',float ( curvature ))"
   ]
  },
  {
   "cell_type": "code",
   "execution_count": null,
   "id": "6a4e4d80",
   "metadata": {},
   "outputs": [],
   "source": [
    "#Find the radius of curvature of y = (asin(t))3/2 ; x = (acos(t))3/2.\n",
    "from sympy import *\n",
    "from sympy .abc import rho , x,y,r,K,t,a,b,c, alpha\n",
    "y=(a*sin(t)) ** (3/2)\n",
    "x=(a*cos(t)) ** (3/2)\n",
    "dydx = simplify ( Derivative (y,t). doit ())/ simplify ( Derivative (x,t). doit ())\n",
    "rho = simplify ((1+ dydx ** 2) ** 1.5/( Derivative (dydx ,t). doit ()/( Derivative (x,\n",
    "t). doit ())))\n",
    "print ('Radius of curvature is ')\n",
    "display ( ratsimp (rho ))\n",
    "t1=pi/4\n",
    "r1=1;\n",
    "rho1 = rho . subs (t,t1);\n",
    "rho2 = rho1 . subs (a,r1);\n",
    "display ('Radius of curvature at r=1 and t=pi/4 is ',simplify ( rho2 ));\n",
    "curvature =1/ rho2 ;\n",
    "print ('\\n\\n Curvature at (1,pi/4) is ',float ( curvature ))"
   ]
  },
  {
   "cell_type": "markdown",
   "id": "90a36d6e",
   "metadata": {},
   "source": [
    "## LAB 3: Finding partial derivatives and Jacobian of functions of several variables."
   ]
  },
  {
   "cell_type": "code",
   "execution_count": null,
   "id": "30687dac",
   "metadata": {},
   "outputs": [],
   "source": [
    "#Prove that mixed partial derivatives , uxy = uyx for u = exp(x)(xcos(y) −ysin(y)).\n",
    "from sympy import *\n",
    "x,y = symbols ('x y')\n",
    "u=exp(x)*(x*cos(y)-y*sin(y))\n",
    "dux = diff (u,x)\n",
    "duy = diff (u,y)\n",
    "duxy = diff (dux ,y)\n",
    "duyx = diff (duy ,x)\n",
    "if duxy == duyx :\n",
    "    print ('Mixed partial derivatives are equal ')\n",
    "else :\n",
    "    print ('Mixed partial derivatives are not equal ')"
   ]
  },
  {
   "cell_type": "code",
   "execution_count": null,
   "id": "ff2fb407",
   "metadata": {},
   "outputs": [],
   "source": [
    "#Prove that if u = ex(x cos(y) − y sin(y)) then uxx + uyy = 0.\n",
    "from sympy import *\n",
    "x,y = symbols ('x y')\n",
    "u = exp(x)*(x*cos(y)-y*sin(y))\n",
    "display (u)\n",
    "dux = diff (u,x)\n",
    "duy = diff (u,y)\n",
    "uxx = diff (dux ,x)\n",
    "uyy = diff (duy ,y)\n",
    "w = uxx+uyy\n",
    "w1 = simplify (w)\n",
    "print('Ans :',float (w1))"
   ]
  },
  {
   "cell_type": "code",
   "execution_count": null,
   "id": "8ed3d64c",
   "metadata": {},
   "outputs": [],
   "source": [
    "#JACOBIANS\n",
    "#If u = xy/z, v = yz/x,w = zx/y then prove that J = 4.\n",
    "from sympy import *\n",
    "x,y,z= symbols ('x,y,z')\n",
    "u = x*y/z\n",
    "v = y*z/x\n",
    "w = z*x/y\n",
    "dux = diff (u,x)\n",
    "duy = diff (u,y)\n",
    "duz = diff (u,z)\n",
    "dvx = diff (v,x)\n",
    "dvy = diff (v,y)\n",
    "dvz = diff (v,z)\n",
    "dwx = diff (w,x)\n",
    "dwy = diff (w,y)\n",
    "dwz = diff (w,z)\n",
    "J= Matrix ([[dux ,duy ,duz],[dvx ,dvy ,dvz],[dwx ,dwy ,dwz]]);\n",
    "print (\"The Jacobian matrix is \\n\")\n",
    "display (J)\n",
    "Jac =det (J). doit ()\n",
    "print('\\n\\n J = ', Jac )"
   ]
  },
  {
   "cell_type": "code",
   "execution_count": null,
   "id": "d739f18c",
   "metadata": {},
   "outputs": [],
   "source": [
    "#If u = x+3y2 −z3, v = 4x2yz, w = 2z2 −xy then prove that at (1,−1, 0), J = 20.\n",
    "from sympy import *\n",
    "x,y,z= symbols ('x,y,z')\n",
    "u = x+3*y ** 2-z ** 3\n",
    "v = 4*x ** 2*y*z\n",
    "w = 2*z*z ** 2-x*y\n",
    "dux = diff (u,x)\n",
    "duy = diff (u,y)\n",
    "duz = diff (u,z)\n",
    "dvx = diff (v,x)\n",
    "dvy = diff (v,y)\n",
    "dvz = diff (v,z)\n",
    "dwx = diff (w,x)\n",
    "dwy = diff (w,y)\n",
    "dwz = diff (w,z)\n",
    "J= Matrix ([[dux ,duy ,duz],[dvx ,dvy ,dvz],[dwx ,dwy ,dwz]]);\n",
    "print (\"The Jacobian matrix is \")\n",
    "display (J)\n",
    "Jac = Determinant (J). doit ()\n",
    "print ('\\n\\n J = \\n')\n",
    "display (Jac )\n",
    "J1=J. subs ([(x, 1), (y, -1), (z, 0)])\n",
    "print ('\\n\\n J at (1,-1,0):\\n')\n",
    "Jac1 = Determinant (J1). doit ()\n",
    "display ( Jac1 )"
   ]
  },
  {
   "cell_type": "code",
   "execution_count": null,
   "id": "6e0a4cb2",
   "metadata": {},
   "outputs": [],
   "source": [
    "#X = ρ ∗ cos(ϕ) ∗ sin(θ), Y = ρ ∗ cos(ϕ) ∗ cos(θ), Z = ρ ∗ sin(ϕ) then find ∂(X,Y,Z) ∂(ρ,ϕ,θ).\n",
    "from sympy import *\n",
    "from sympy .abc import rho , phi , theta\n",
    "X = rho*cos(phi)*sin( theta );\n",
    "Y = rho*cos(phi)*cos( theta );\n",
    "Z = rho*sin(phi);\n",
    "dx = Derivative (X,rho ). doit ()\n",
    "dy = Derivative (Y,rho ). doit ()\n",
    "dz = Derivative (Z,rho ). doit ()\n",
    "dx1 = Derivative (X,phi ). doit ();\n",
    "dy1 = Derivative (Y,phi ). doit ();\n",
    "dz1 = Derivative (Z,phi ). doit ()\n",
    "dx2 = Derivative (X, theta ). doit ()\n",
    "dy2 = Derivative (Y, theta ). doit ();\n",
    "dz2 = Derivative (Z, theta ). doit ();\n",
    "J= Matrix ([[dx ,dy ,dz],[dx1 ,dy1 ,dz1],[dx2 ,dy2 ,dz2]]);\n",
    "print ('The Jacobian matrix is ')\n",
    "display (J)\n",
    "print ('\\n\\n J = \\n')\n",
    "display(simplify(Determinant (J).doit()))"
   ]
  },
  {
   "cell_type": "markdown",
   "id": "fc2cdc14",
   "metadata": {},
   "source": [
    "## LAB 4: Applications of Maxima and Minima of functions of two variables, Taylor series expansion and L’Hospital’s Rule"
   ]
  },
  {
   "cell_type": "code",
   "execution_count": null,
   "id": "7d04f936",
   "metadata": {},
   "outputs": [],
   "source": [
    "#MAXIMA & MINIMA\n",
    "import sympy\n",
    "from sympy import Symbol , solve , Derivative , pprint\n",
    "x = Symbol('x')\n",
    "y = Symbol('y')\n",
    "f = x ** 2+x*y+y ** 2+3*x-3*y+4\n",
    "d1 = Derivative (f,x). doit ()\n",
    "d2 = Derivative (f,y). doit ()\n",
    "criticalpoints1 = solve (d1)\n",
    "criticalpoints2 = solve (d2)\n",
    "s1 = Derivative (f,x,2). doit ()\n",
    "s2 = Derivative (f,y,2). doit ()\n",
    "s3 = Derivative ( Derivative (f,y),x). doit ()\n",
    "print ('function value is ')\n",
    "q1 = s1.subs ({y: criticalpoints1 ,x: criticalpoints2 }). evalf ()\n",
    "q2 = s2.subs ({y: criticalpoints1 ,x: criticalpoints2 }). evalf ()\n",
    "q3 = s3. subs ({y: criticalpoints1 ,x: criticalpoints2 }). evalf ()\n",
    "delta = s1*s2-s3 ** 2\n",
    "print(delta , q1)\n",
    "if(delta >0 and s1<0):\n",
    "    print(\" f takes maximum \")\n",
    "elif( delta >0 and s1>0):\n",
    "    print(\" f takes minimum \")\n",
    "if(delta <0):\n",
    "    print (\"The point is a saddle point \")\n",
    "if ( delta ==0):\n",
    "    print (\" further tests required \")"
   ]
  },
  {
   "cell_type": "code",
   "execution_count": null,
   "id": "71981921",
   "metadata": {},
   "outputs": [],
   "source": [
    "#TAYLOR SERIES PROBLEM\n",
    "#Expand sin(x) as Taylor series about x = pi/2 upto 3rd degree term. Also find sin(1000)\n",
    "import numpy as np\n",
    "from matplotlib import pyplot as plt\n",
    "from sympy import *\n",
    "x= Symbol ('x')\n",
    "y=sin(1*x)\n",
    "format\n",
    "x0 = float (pi/2)\n",
    "dy = diff (y,x)\n",
    "d2y = diff (y,x,2)\n",
    "d3y = diff (y,x,3)\n",
    "yat = lambdify (x,y)\n",
    "dyat = lambdify (x,dy)\n",
    "d2yat = lambdify (x,d2y)\n",
    "d3yat = lambdify (x,d3y)\n",
    "y=yat(x0)+((x-x0)/2)* dyat (x0)+((x-x0) ** 2/6)* d2yat (x0)+((x-x0) ** 3/24)*d3yat (x0)\n",
    "print (simplify (y))\n",
    "yat = lambdify (x,y)\n",
    "print (\"%.3f\" % yat(pi/2+10*(pi/180)))\n",
    "def f(x):\n",
    "    return np.sin (1*x)\n",
    "x = np. linspace (-10 , 10)\n",
    "plt.plot (x, yat (x), color ='red')\n",
    "plt.plot (x, f(x), color ='green')\n",
    "plt.ylim ([-3, 3])\n",
    "plt.grid ()\n",
    "plt.show ()"
   ]
  },
  {
   "cell_type": "code",
   "execution_count": null,
   "id": "060961fa",
   "metadata": {},
   "outputs": [],
   "source": [
    "#MACLAURIN SERIES\n",
    "#Find the Maclaurin series expansion of sin(x)+cos(x) upto 3rd degree term. Calculate sin(10) + cos(10).\n",
    "import numpy as np\n",
    "from matplotlib import pyplot as plt\n",
    "from sympy import *\n",
    "x= Symbol ('x')\n",
    "y=sin(x)+cos(x)\n",
    "format\n",
    "x0= float (0)\n",
    "dy= diff (y,x)\n",
    "d2y = diff (y,x,2)\n",
    "d3y = diff (y,x,3)\n",
    "yat = lambdify (x,y)\n",
    "dyat = lambdify (x,dy)\n",
    "d2yat = lambdify (x,d2y)\n",
    "d3yat = lambdify (x,d3y)\n",
    "y=yat(x0)+((x-x0)/2)* dyat (x0)+((x-x0) ** 2/6)* d2yat (x0)+((x-x0) ** 3/24)*d3yat (x0)\n",
    "print(simplify (y))\n",
    "yat = lambdify (x,y)\n",
    "print (\"%.3f\" % yat(10*(pi/180)))\n",
    "def f(x):\n",
    "    return np.sin (1*x)+np.cos (x)\n",
    "x = np. linspace (-10 , 10)\n",
    "plt . plot (x, yat (x), color ='red')\n",
    "plt . plot (x, f(x), color ='green')\n",
    "plt . ylim ([-3, 3])\n",
    "plt . grid ()\n",
    "plt . show ()"
   ]
  },
  {
   "cell_type": "code",
   "execution_count": null,
   "id": "172d055b",
   "metadata": {},
   "outputs": [],
   "source": [
    "#l'HOSPITAL RULE\n",
    "#limx→0 sin(x)/x\n",
    "from sympy import Limit , Symbol ,exp ,sin\n",
    "x= Symbol ('x')\n",
    "l= Limit (( sin(x))/x,x,0).doit()\n",
    "print (l)"
   ]
  },
  {
   "cell_type": "code",
   "execution_count": null,
   "id": "6f2e724d",
   "metadata": {},
   "outputs": [],
   "source": [
    "#Evaluate lim x→1 ((5x4−4x2−1)/(10−x−9x3)\n",
    "from sympy import *\n",
    "x= Symbol ('x')\n",
    "l= Limit ((5*x ** 4-4*x ** 2-1)/(10-x-9*x ** 3),x,1).doit()\n",
    "print (l)"
   ]
  },
  {
   "cell_type": "code",
   "execution_count": null,
   "id": "1aecbbb9",
   "metadata": {},
   "outputs": [],
   "source": [
    "#Prove that limx→∞(1 + 1/x)^x = e\n",
    "from sympy import *\n",
    "from math import inf\n",
    "x = Symbol('x')\n",
    "l = Limit ((1+1/x) ** x,x,inf).doit()\n",
    "display (l)"
   ]
  },
  {
   "cell_type": "markdown",
   "id": "61dc29a9",
   "metadata": {},
   "source": [
    "## LAB 5: Solution of First order differential equation and ploting the solution curves"
   ]
  },
  {
   "cell_type": "code",
   "execution_count": null,
   "id": "de7a3e68",
   "metadata": {},
   "outputs": [],
   "source": [
    "#Solve : dP(t)/dt = r\n",
    "from sympy import *\n",
    "init_printing()\n",
    "t,r = symbols('t,r')\n",
    "P = Function('P')(t)\n",
    "C1 = Symbol('C1')\n",
    "print(\"\\n Differential Equation \")\n",
    "DE1 = Derivative (P, t, 1)-r\n",
    "display (DE1 )\n",
    "print (\"\\n General Solution \")\n",
    "GS1 = dsolve(DE1) \n",
    "display(GS1)\n",
    "print (\"\\n Particular Solution \")\n",
    "PS1 =GS1.subs({C1:2})\n",
    "display (PS1)"
   ]
  },
  {
   "cell_type": "code",
   "execution_count": null,
   "id": "85904b31",
   "metadata": {},
   "outputs": [],
   "source": [
    "#Solve: dy/dx + tanx − y3secx = 0.\n",
    "from sympy import *\n",
    "x,y = symbols('x,y')\n",
    "y = Function(\"y\")(x)\n",
    "y1 = Derivative(y,x)\n",
    "z1 = dsolve(Eq(y1+y*tan (x)-y ** 3*sec (x),0),y)\n",
    "display(z1)"
   ]
  },
  {
   "cell_type": "code",
   "execution_count": null,
   "id": "8fd3b92a",
   "metadata": {},
   "outputs": [],
   "source": [
    "#Solve: x3 dy/dx − x2y + y4cosx = 0.\n",
    "from sympy import *\n",
    "x,y = symbols('x,y')\n",
    "y = Function(\"y\")(x)\n",
    "y1 = Derivative(y,x)\n",
    "z1 = dsolve(Eq(x ** 3*y1-x ** 2*y+y ** 4*cos(x),0),y)\n",
    "display(z1)"
   ]
  },
  {
   "cell_type": "code",
   "execution_count": null,
   "id": "88f9e8a5",
   "metadata": {},
   "outputs": [],
   "source": [
    "#SOLUTION CURVES USING IVP[INITIAL VALUE PROBLEM]\n",
    "#Solve dy/dt = −ky with parameter k = 0.3 and y(0) = 5.\n",
    "import numpy as np\n",
    "from scipy.integrate import odeint\n",
    "import matplotlib.pyplot as plt\n",
    "def model (y,t):\n",
    "    k=0.3\n",
    "    return -k*y\n",
    "y0=5\n",
    "t = np.linspace (0,20)\n",
    "y = odeint(model ,y0 ,t)\n",
    "plt.plot(t,y)\n",
    "plt.title('Solution of dy/dt=-ky; k=0.3, y(0)=5')\n",
    "plt.xlabel('time ')\n",
    "plt.ylabel('y(t)')\n",
    "plt.show()"
   ]
  },
  {
   "cell_type": "code",
   "execution_count": null,
   "id": "830a2547",
   "metadata": {},
   "outputs": [],
   "source": [
    "#Simulate τ dy/dt = −y + Kpu; Kp = 3.0, τ = 2.0.\n",
    "import numpy as np\n",
    "import matplotlib . pyplot as plt\n",
    "from scipy . integrate import odeint\n",
    "Kp=3\n",
    "taup =2\n",
    "# Differential Equation :\n",
    "def model (y,t):\n",
    "    u = 1\n",
    "    return (-y + Kp * u)/ taup\n",
    "t3 = np. linspace (0,14 ,100 )\n",
    "y3 = odeint(model ,0,t3)\n",
    "plt.plot(t3 ,y3 ,'r-',linewidth =1, label ='ODE Integrator')\n",
    "plt.xlabel('Time')\n",
    "plt.ylabel('Response (y)')\n",
    "plt.legend(loc ='best')\n",
    "plt.show()"
   ]
  },
  {
   "cell_type": "code",
   "execution_count": null,
   "id": "415b02ce",
   "metadata": {},
   "outputs": [],
   "source": [
    "#APPLICATION PROBLEM\n",
    "'''A culture initially has P0 number of bacteria. At t = 1 hour the number of bacteria is measured to be 3\n",
    "#2P0. If the rate of growth is proportional to the number of bacteria P(t)\n",
    "#present at time t, determine the time necessary for the number of bacteria to triple. The differential equation is : \n",
    "#dp/dt = kp; P(1) = 3/2p0.\n",
    "#The solution is : y = P0e0.405465108108164t, y0 = 20.'''\n",
    "from pylab import *\n",
    "t= arange (0,10 ,0.5)\n",
    "P0 = 20\n",
    "y = 20*exp(0.405465108108164 *t)\n",
    "plot(t,y)\n",
    "xlabel('Time')\n",
    "ylabel('no of bacteria')\n",
    "title('Law of Natural Growth')\n",
    "show()"
   ]
  },
  {
   "cell_type": "code",
   "execution_count": null,
   "id": "761776a0",
   "metadata": {},
   "outputs": [],
   "source": [
    "#NEWTONS LAW OF COOLING\n",
    "'''The temperature of a body drops from 100 C to 75 C in 10 minutes where the\n",
    "surrounding air is at the temperature 20 C . What will be the temperature of the\n",
    "body after half an hour? Plot the graph of cooling.'''\n",
    "import numpy as np\n",
    "from sympy import *\n",
    "from matplotlib import pyplot as plt\n",
    "t2 = 20 # surrounding temp\n",
    "t1 = 100 # inital temp\n",
    "t = 10\n",
    "T = 75\n",
    "k1 = (1/t)*log (( t1-t2)/(T-t2))\n",
    "print ('k= ',k1)\n",
    "k = Symbol ('k')\n",
    "t = Symbol ('t')\n",
    "T = Function ('T')(t)\n",
    "T = t2+(t1-t2)*exp(-k*t)\n",
    "print ('T=',T)\n",
    "T = T.subs (k,k1)\n",
    "T = lambdify (t,T)\n",
    "t = np.linspace (0, 70)\n",
    "plt.plot (t, T(t), color ='red')\n",
    "plt.grid ()\n",
    "plt.show ()\n",
    "print('When time t=30 minute T is ,',T(30),'o C')"
   ]
  },
  {
   "cell_type": "markdown",
   "id": "9fdc2ce7",
   "metadata": {},
   "source": [
    "## COMPUTER SCIENCE AND ENGINEERING"
   ]
  },
  {
   "cell_type": "markdown",
   "id": "640bd22d",
   "metadata": {},
   "source": [
    "## LAB 6: Finding GCD using Euclid’s algorithm."
   ]
  },
  {
   "cell_type": "code",
   "execution_count": null,
   "id": "e83748b0",
   "metadata": {},
   "outputs": [],
   "source": [
    "#EUCLIDEAN ALGORITHM\n",
    "#Find the GCD of (614,124).\n",
    "def gcd1 (a,b):\n",
    "    c = 1 \n",
    "    if b < a: \n",
    "        t = b \n",
    "        b = a\n",
    "        a = t\n",
    "    while (c > 0):\n",
    "        c = b%a\n",
    "        print(a,c)\n",
    "        b = a\n",
    "        a = c\n",
    "        continue\n",
    "    print('GCD =',b)\n",
    "gcd1(614 ,124 )"
   ]
  },
  {
   "cell_type": "code",
   "execution_count": null,
   "id": "6e8e0052",
   "metadata": {},
   "outputs": [],
   "source": [
    "#RELATIVE PRIME\n",
    "#Prove that 163 and 512 are relatively prime.\n",
    "def gcd1 (a,b):\n",
    "    c=1;\n",
    "    if b <a:\n",
    "        t = b\n",
    "        b = a\n",
    "        a = t\n",
    "    while (c>0):\n",
    "        c=b%a\n",
    "        print(a,c)\n",
    "        b = a\n",
    "        a = c\n",
    "        continue\n",
    "    print ('GCD =',b);\n",
    "gcd1 (163 ,512 )"
   ]
  },
  {
   "cell_type": "code",
   "execution_count": null,
   "id": "669720b1",
   "metadata": {},
   "outputs": [],
   "source": [
    "#DIVIDES\n",
    "#Prove that 8 divides 128.\n",
    "def gcd1 (a,b):\n",
    "    c=1;\n",
    "    if b <a:\n",
    "        t = b\n",
    "        b = a\n",
    "        a = t\n",
    "    while (c>0):\n",
    "        c=b%a;\n",
    "        print(a,c)\n",
    "        b = a\n",
    "        a = c\n",
    "        continue\n",
    "    print ('GCD =',b)\n",
    "gcd1 (8,128 )"
   ]
  },
  {
   "cell_type": "code",
   "execution_count": null,
   "id": "4f87249b",
   "metadata": {},
   "outputs": [],
   "source": [
    "#Calculate GCD of (a,b) and express it as linear combination of a and b. Calculate GCD=d\n",
    "#of 76 and 13 , express th GCD as 76x + 13y = d\n",
    "from sympy import *\n",
    "a=int( input ('enter the first number: '))\n",
    "b=int( input ('enter the second number: '))\n",
    "s1=1\n",
    "s2=0\n",
    "t1=0\n",
    "t2=1\n",
    "r1=a\n",
    "r2=b\n",
    "r3=(r1%r2)\n",
    "q = (r1-r3)/r2\n",
    "s3=s1-s2*(q)\n",
    "t3=t1-t2*q\n",
    "while (r3!=0):\n",
    "    r1=r2\n",
    "    r2=r3\n",
    "    s1=s2\n",
    "    s2=s3\n",
    "    t1=t2\n",
    "    t2=t3\n",
    "    r3=(r1%r2)\n",
    "    q = (r1-r3)/r2\n",
    "    s3=s1-s2*(q)\n",
    "    t3=t1-t2*q\n",
    "print ('the GCD of ',a,' and ',b,'is ',r2);\n",
    "print ('%d x %d + %d x %d = %d\\n'%(a,s2 ,b, t2 ,r2));"
   ]
  },
  {
   "cell_type": "code",
   "execution_count": null,
   "id": "74f2fba4",
   "metadata": {},
   "outputs": [],
   "source": [
    "'''USING SYMPY SYMBOLIC LIBRARY FUNCTION'''\n",
    "from sympy import gcd\n",
    "gcd (1235 , 2315 )"
   ]
  },
  {
   "cell_type": "code",
   "execution_count": null,
   "id": "d7659837",
   "metadata": {},
   "outputs": [],
   "source": [
    "from sympy import igcd\n",
    "igcd (3228 ,93)"
   ]
  },
  {
   "cell_type": "markdown",
   "id": "4fbf151b",
   "metadata": {},
   "source": [
    "## LAB 7: Solving linear congruence of the form ax ≡ b( mod m)."
   ]
  },
  {
   "cell_type": "code",
   "execution_count": null,
   "id": "e89b41b7",
   "metadata": {},
   "outputs": [],
   "source": [
    "#Show that the linear congruence 6x ≡ 5( mod 15) has no solution.\n",
    "from sympy import *\n",
    "from math import*\n",
    "a = int( input ('enter integer a ')) \n",
    "b = int( input ('enter integer b ')) \n",
    "m = int( input ('enter integer m '))\n",
    "d = gcd(a,m)\n",
    "if (b%d!=0):\n",
    "    print ('the congruence has no integer solution ')\n",
    "else :\n",
    "    for i in range (1,m-1):\n",
    "        x = (m/a)*i+(b/a)\n",
    "        if(x // 1==x):\n",
    "            print ('the solution of the congruence is ', x)\n",
    "            break"
   ]
  },
  {
   "cell_type": "code",
   "execution_count": null,
   "id": "1c1386ba",
   "metadata": {},
   "outputs": [],
   "source": [
    "#Find the solution of the congruence 5x ≡ 3(mod 13).\n",
    "from sympy import *\n",
    "a = int( input ('enter integer a: '))\n",
    "b = int( input ('enter integer b: ')) \n",
    "m = int( input ('enter integer m: '))\n",
    "d=gcd(a,m)\n",
    "if (b%d!=0):\n",
    "    print ('the congruence has no integer solution ')\n",
    "else:\n",
    "    for i in range (1,m-1):\n",
    "        x=(m/a)*i+(b/a)\n",
    "        if(x // 1==x):\n",
    "            print('the solution of the congruence is ', x)\n",
    "            break"
   ]
  },
  {
   "cell_type": "code",
   "execution_count": null,
   "id": "7e03e09c",
   "metadata": {},
   "outputs": [],
   "source": [
    "#Find the inverse of 5 mod 13.\n",
    "from sympy import gcd\n",
    "a = int( input ('enter integer a '))\n",
    "b = int( input ('enter integer b '))\n",
    "m = int( input ('enter integer m '))\n",
    "d=gcd(a,m)\n",
    "if (b%d!=0):\n",
    "    print ('the congruence has no integer solution ');\n",
    "else:\n",
    "    for i in range (1,m-1):\n",
    "        x=(m/a)*i+(b/a)\n",
    "        if(x // 1==x):\n",
    "            print ('the solution of the congruence is ', x)\n",
    "            break"
   ]
  },
  {
   "cell_type": "markdown",
   "id": "887dd906",
   "metadata": {},
   "source": [
    "## ELECTRONICS AND COMMUNICATION ENGINEERING"
   ]
  },
  {
   "cell_type": "markdown",
   "id": "62898142",
   "metadata": {},
   "source": [
    "## LAB 6: Program to compute area, volume and center of gravity"
   ]
  },
  {
   "cell_type": "code",
   "execution_count": null,
   "id": "edc2705a",
   "metadata": {},
   "outputs": [],
   "source": [
    "#DOUBLE AND TRIPLE INTEGRATION\n",
    "#Evaluate the integral ∫_0^1∫_0^x(x^2+y^2)dydx\n",
    "from sympy import *\n",
    "x,y,z = symbols('x y z')\n",
    "w1 = integrate (x ** 2+y ** 2 ,(y,0,x) ,(x,0,1))\n",
    "print(w1)"
   ]
  },
  {
   "cell_type": "code",
   "execution_count": null,
   "id": "38e87db0",
   "metadata": {},
   "outputs": [],
   "source": [
    "#Evaluate the integral ∫_0^3∫_0^3-x∫_0^3-x-y(xyz)dzdydx\n",
    "from sympy import *\n",
    "x = Symbol('x')\n",
    "y = Symbol('y')\n",
    "z = Symbol('z')\n",
    "w2 = integrate ((x*y*z) ,(z,0,3-x-y) ,(y,0,3-x) ,(x,0,3))\n",
    "print(w2)"
   ]
  },
  {
   "cell_type": "code",
   "execution_count": null,
   "id": "568b6318",
   "metadata": {},
   "outputs": [],
   "source": [
    "#Evaluate the integral ∫_0^3∫_0^3-x∫_0^3-x-y(xyz)dzdydx\n",
    "from sympy import *\n",
    "x= Symbol ('x')\n",
    "y= Symbol ('y')\n",
    "z= Symbol ('z')\n",
    "w3= integrate (x ** 2+y ** 2,y,x)\n",
    "pprint (w3)\n",
    "w4= integrate (x ** 2+y ** 2,x,y)\n",
    "print(w4)"
   ]
  },
  {
   "cell_type": "code",
   "execution_count": null,
   "id": "24c78065",
   "metadata": {},
   "outputs": [],
   "source": [
    "#Prove that ∫∫(x^2+y^2)dydx = ∫∫(x^2+y^2)dxdy\n",
    "from sympy import *\n",
    "x= Symbol ('x')\n",
    "y= Symbol ('y')\n",
    "z= Symbol ('z')\n",
    "w3= integrate (x ** 2+y ** 2,y,x)\n",
    "display(w3)\n",
    "w4 = integrate (x ** 2+y ** 2,x,y)\n",
    "display(w4)"
   ]
  },
  {
   "cell_type": "code",
   "execution_count": null,
   "id": "556d5544",
   "metadata": {},
   "outputs": [],
   "source": [
    "'''AREA AND VOLUME'''\n",
    "from sympy import *\n",
    "x = Symbol ('x')\n",
    "y = Symbol ('y')\n",
    "a = 4\n",
    "b = 6\n",
    "w3 = 4* integrate (1 ,(y,0 ,(b/a)* sqrt (a ** 2-x ** 2)) ,(x,0,a))\n",
    "display(w3)"
   ]
  },
  {
   "cell_type": "code",
   "execution_count": null,
   "id": "0725baf6",
   "metadata": {},
   "outputs": [],
   "source": [
    "#Find the area of the cardioid r = a(1 + cosθ) by double integration\n",
    "from sympy import *\n",
    "r = Symbol ('r')\n",
    "t = Symbol ('t')\n",
    "a = Symbol ('a')\n",
    "w3 = 2* integrate (r ,(r,0,a*(1+cos (t))) ,(t,0,pi))\n",
    "display(w3)"
   ]
  },
  {
   "cell_type": "code",
   "execution_count": null,
   "id": "3ccb0dec",
   "metadata": {},
   "outputs": [],
   "source": [
    "#Find the volume of the tetrahedron bounded by the planes x=0,y=0 and z=0, x/a+y/b+z/c = 1\n",
    "from sympy import *\n",
    "x = Symbol ('x')\n",
    "y = Symbol ('y')\n",
    "z = Symbol ('z')\n",
    "a = Symbol ('a')\n",
    "b = Symbol ('b')\n",
    "c = Symbol ('c')\n",
    "w2 = integrate (1 ,(z,0,c*(1-x/a-y/b)) ,(y,0,b*(1-x/a)) ,(x,0,a))\n",
    "display(w2)"
   ]
  },
  {
   "cell_type": "code",
   "execution_count": null,
   "id": "1854f9e5",
   "metadata": {},
   "outputs": [],
   "source": [
    "'''CENTER OF GRAVITY'''\n",
    "#Find the center of gravity of cardioid . Plot the graph of cardioid and mark the center of gravity.\n",
    "import numpy as np\n",
    "import matplotlib . pyplot as plt\n",
    "import math\n",
    "from sympy import *\n",
    "r = Symbol ('r')\n",
    "t = Symbol ('t')\n",
    "a = Symbol ('a')\n",
    "I1 = integrate (cos (t)*r ** 2 ,(r,0,a*(1+cos (t))) ,(t,-pi ,pi))\n",
    "I2 = integrate (r ,(r,0,a*(1+cos (t))) ,(t,-pi ,pi))\n",
    "I = I1/I2\n",
    "print (I)\n",
    "I = I.subs (a,5)\n",
    "plt.axes ( projection = 'polar')\n",
    "a = 5\n",
    "rad = np.arange (0, (2 * np.pi), 0.01)\n",
    "for i in rad :\n",
    "    r = a + (a*np.cos(i))\n",
    "    plt.polar (i,r,'g.')\n",
    "plt.polar (0,I,'r.')\n",
    "plt.show ()"
   ]
  },
  {
   "cell_type": "markdown",
   "id": "45f5fbbe",
   "metadata": {},
   "source": [
    "## LAB 7: Evaluation of improper integrals, Beta and Gamma functions"
   ]
  },
  {
   "cell_type": "code",
   "execution_count": null,
   "id": "6828aead",
   "metadata": {},
   "outputs": [],
   "source": [
    "from sympy import *\n",
    "x= symbols ('x')\n",
    "w1= integrate (exp (-x) ,(x,0, float ('inf ')))\n",
    "display(simplify (w1))"
   ]
  },
  {
   "cell_type": "code",
   "execution_count": null,
   "id": "b72e7d9b",
   "metadata": {},
   "outputs": [],
   "source": [
    "#Evaluate Γ(5) by using definition\n",
    "from sympy import *\n",
    "x = symbols ('x')\n",
    "w1 = integrate (exp (-x)*x ** 4 ,(x,0, float ('inf ')))\n",
    "display(simplify (w1))"
   ]
  },
  {
   "cell_type": "code",
   "execution_count": null,
   "id": "192d79da",
   "metadata": {},
   "outputs": [],
   "source": [
    "from sympy import *\n",
    "t,s= symbols ('t,s')\n",
    "w1= integrate (exp (-s*t)*cos (4*t) ,(t,0,oo))\n",
    "display(simplify (w1))"
   ]
  },
  {
   "cell_type": "code",
   "execution_count": null,
   "id": "8de5d762",
   "metadata": {},
   "outputs": [],
   "source": [
    "#Find Beta(3,5), Gamma(5)\n",
    "from sympy import beta , gamma\n",
    "m= input ('m :');\n",
    "n= input ('n :');\n",
    "m= float (m);\n",
    "n= float (n);\n",
    "s= beta (m,n);\n",
    "t= gamma (n)\n",
    "print('gamma (',n,') is %3.3f '%t)\n",
    "print('Beta (',m,n,') is %3.3f '%s)"
   ]
  },
  {
   "cell_type": "code",
   "execution_count": null,
   "id": "b59513cd",
   "metadata": {},
   "outputs": [],
   "source": [
    "#Calculate Beta(5/2,7/2) and Gamma(5/2).\n",
    "from sympy import beta , gamma\n",
    "m= float ( input ('m : '));\n",
    "n= float ( input ('n :'));\n",
    "s= beta (m,n);\n",
    "t= gamma (n)\n",
    "print('gamma (',n,') is %3.3f '%t)\n",
    "print('Beta (',m,n,') is %3.3f '%s)"
   ]
  },
  {
   "cell_type": "code",
   "execution_count": null,
   "id": "f6667f9b",
   "metadata": {},
   "outputs": [],
   "source": [
    "#Verify that Beta(m, n) = Gamma(m)Gamma(n)/Gamma(m + n) for m=5 and n=7\n",
    "from sympy import beta , gamma\n",
    "m = 5;\n",
    "n = 7;\n",
    "m = float (m);\n",
    "n = float (n);\n",
    "s = beta (m,n);\n",
    "t = ( gamma (m)* gamma (n))/ gamma (m+n);\n",
    "print (s,t)\n",
    "if (abs (s-t)<=0.00001):\n",
    "    print ('beta and gamma are related ')\n",
    "else :\n",
    "    print ('given values are wrong ')"
   ]
  },
  {
   "cell_type": "markdown",
   "id": "126bc08f",
   "metadata": {},
   "source": [
    "## MECHANICAL AND OTHER ENGINEERING STREAMS"
   ]
  },
  {
   "cell_type": "markdown",
   "id": "061e260e",
   "metadata": {},
   "source": [
    "## LAB 6: Solution of second order ordinary differential equation and plotting the solution curve"
   ]
  },
  {
   "cell_type": "code",
   "execution_count": null,
   "id": "36c4fd20",
   "metadata": {},
   "outputs": [],
   "source": [
    "#Solve: y′′ − 5y′ + 6y = cos(4x).\n",
    "from sympy import *\n",
    "x= Symbol ('x')\n",
    "y= Function (\"y\")(x)\n",
    "C1 ,C2= symbols ('C1 ,C2 ')\n",
    "y1= Derivative (y,x)\n",
    "y2= Derivative (y1 ,x)\n",
    "print (\" Differential Equation :\\n\")\n",
    "diff1 =Eq(y2-5*y1+6*y-cos(4*x),0)\n",
    "display ( diff1 )\n",
    "print (\"\\n\\n General solution : \\n\")\n",
    "z = dsolve ( diff1 )\n",
    "display (z)\n",
    "PS = z.subs ({C1:1,C2:2})\n",
    "print (\"\\n\\n Particular Solution :\\n\")\n",
    "display(PS)"
   ]
  },
  {
   "cell_type": "code",
   "execution_count": null,
   "id": "f06a52dc",
   "metadata": {},
   "outputs": [],
   "source": [
    "#Plot the solution curve (particular solution) of the above differential equation.\n",
    "import matplotlib . pyplot as plt\n",
    "import numpy as np\n",
    "x1 = np.linspace (0,2, 1000 )\n",
    "y1 = 2*np.exp (3*x1+np.exp (2*x1)-np.sin (4*x1)/25-np.cos (4*x1)/50)\n",
    "plt.plot(x1 ,y1)\n",
    "plt.title(\" Solution curve \")\n",
    "plt.show()"
   ]
  },
  {
   "cell_type": "code",
   "execution_count": null,
   "id": "4c4089e3",
   "metadata": {},
   "outputs": [],
   "source": [
    "#Plot the solution curves of y′′ + 2y′ + 2y = cos(2x), y(0) = 0, y′(0) = 0\n",
    "import numpy as np\n",
    "from scipy . integrate import odeint\n",
    "import matplotlib . pyplot as plt\n",
    "def dU_dx (U, x):\n",
    "    return [U[1], -2*U[1] - 2*U[0] + np.cos (2*x)]\n",
    "U0 = [0, 0]\n",
    "xs = np. linspace (0, 10 , 200 )\n",
    "Us = odeint (dU_dx , U0 , xs)\n",
    "ys = Us[:,0]\n",
    "ys1 = Us[:,1]\n",
    "plt.xlabel(\"x\")\n",
    "plt.ylabel(\"y\")\n",
    "plt.title(\" Solution curves \")\n",
    "plt.plot(xs ,ys , label ='y');\n",
    "plt.plot(xs ,ys1 , label ='z');\n",
    "plt.legend()\n",
    "plt.show()"
   ]
  },
  {
   "cell_type": "code",
   "execution_count": null,
   "id": "7df6849b",
   "metadata": {},
   "outputs": [],
   "source": [
    "#Solve: 3d2x/dt2 + 2dx/dt − 2x = cos(2x) with x(0) = 0; x′(0) = 0 and plot the solution curve.\n",
    "import numpy as np\n",
    "from scipy . integrate import odeint\n",
    "import matplotlib . pyplot as plt\n",
    "def f(u,x):\n",
    "    return (u[1],-2*u[1]+2*u[0]+np.cos (2*x))\n",
    "y0=[0,0]\n",
    "xs=np. linspace (1,10 ,200 )\n",
    "us= odeint (f,y0 ,xs)\n",
    "ys=us[:,0]\n",
    "plt.plot(xs ,ys ,'r-')\n",
    "plt.xlabel('t values ')\n",
    "plt.ylabel('x values ')\n",
    "plt.title('Solution curve ')\n",
    "plt.show()"
   ]
  },
  {
   "cell_type": "markdown",
   "id": "699e8137",
   "metadata": {},
   "source": [
    "## LAB 7: Solution of differential equation of oscillations of a spring with various load"
   ]
  },
  {
   "cell_type": "code",
   "execution_count": null,
   "id": "465fc173",
   "metadata": {},
   "outputs": [],
   "source": [
    "#Solve d2x/dt2 + 64x = 0, x(0) = 1/4 , x′(0) = 1 and plot the solution curve.\n",
    "import numpy as np\n",
    "from scipy . integrate import odeint\n",
    "import matplotlib . pyplot as plt\n",
    "def f(u,x):\n",
    "    return (u[1],-64*u[0])\n",
    "y0=[1/4,1]\n",
    "xs=np. linspace (0,5,50)\n",
    "us= odeint (f,y0 ,xs)\n",
    "ys=us[:,0]\n",
    "print(ys)\n",
    "plt.plot(xs ,ys ,'r-')\n",
    "plt.xlabel('Time ')\n",
    "plt.ylabel('Amplitude ')\n",
    "plt.title('Solution of free and undamed case ')\n",
    "plt.grid(True)\n",
    "plt.show()"
   ]
  },
  {
   "cell_type": "code",
   "execution_count": null,
   "id": "8e004792",
   "metadata": {},
   "outputs": [],
   "source": [
    "#Solve 9d2x/dt2 + 2dx/dt + 1.2x = 0, x(0) = 1.5, x′(0) = 2.5 and plot the solution curve.\n",
    "import numpy as np\n",
    "from scipy . integrate import odeint\n",
    "import matplotlib . pyplot as plt\n",
    "def f(u,x):\n",
    "    return (u[1],-(1/9)*(1.2*u[1]+2*u[0]))\n",
    "y0 = [2.5,1.5]\n",
    "xs = np.linspace (0,20*np.pi , 2000 )\n",
    "us = odeint (f,y0 ,xs)\n",
    "print (us)\n",
    "ys=us[:,0]\n",
    "plt.plot (xs ,ys ,'r-')\n",
    "plt.xlabel('Time ')\n",
    "plt.ylabel('Amplitude ')\n",
    "plt.title('Solution of free and damped case ')\n",
    "plt.grid(True)\n",
    "plt.show()"
   ]
  },
  {
   "cell_type": "markdown",
   "id": "1d42a9fa",
   "metadata": {},
   "source": [
    "## LAB 8: Numerical solution of system of equations, test for consistency and graphical representation of the solution."
   ]
  },
  {
   "cell_type": "code",
   "execution_count": null,
   "id": "d2491d40",
   "metadata": {},
   "outputs": [],
   "source": [
    "'''HOMOGENOUS EQUATIONS'''\n",
    "#Solution for the system of linear equations\n",
    "#Check whether the following system of homogenous linear equation has non-trivial solution.\n",
    "#x1 + 2x2 − x3 = 0, 2x1 + x2 + 4x3 = 0, 3x1 + 3x2 + 4x3 = 0.\n",
    "import numpy as np\n",
    "A = np.matrix([[1,2,-1],[2,1,4],[3,3,4]])\n",
    "B = np.matrix([[0],[0],[0]])\n",
    "r = np.linalg.matrix_rank(A)\n",
    "n = A.shape[1]\n",
    "if(r==n):\n",
    "    print (\" System has trivial solution \")\n",
    "else:\n",
    "    print (\" System has\", n-r, \"non - trivial solution (s)\")"
   ]
  },
  {
   "cell_type": "code",
   "execution_count": null,
   "id": "40d01ff9",
   "metadata": {},
   "outputs": [],
   "source": [
    "#Check whether the following system of homogenous linear equation has non-trivial solution.\n",
    "#x1 + 2x2 − x3 = 0, 2x1 + x2 + 4x3 = 0, x1 − x2 + 5x3 = 0.\n",
    "import numpy as np\n",
    "A = np.matrix ([[1,2,-1],[2,1,4],[1,-1,5]])\n",
    "B = np.matrix ([[0],[0],[0]])\n",
    "r = np.linalg.matrix_rank(A)\n",
    "n = A.shape[1]\n",
    "if(r==n):\n",
    "    print(\" System has trivial solution \")\n",
    "else:\n",
    "    print(\" System has\", n-r, \"non - trivial solution (s)\")"
   ]
  },
  {
   "cell_type": "code",
   "execution_count": null,
   "id": "4ee9638b",
   "metadata": {},
   "outputs": [],
   "source": [
    "'''NON HOMOGENOUS EQUATIONS'''\n",
    "#Examine the consistency of the following system of equations and solve if consistent.\n",
    "#x1 + 2x2 − x3 = 1, 2x1 + x2 + 4x3 = 2, 3x1 + 3x2 + 4x3 = 1.\n",
    "A = np.matrix ([[1,2,-1],[2,1,4],[3,3,4]])\n",
    "B = np.matrix ([[1],[2],[1]])\n",
    "AB = np.concatenate((A,B), axis =1)\n",
    "rA = np.linalg.matrix_rank(A)\n",
    "rAB = np. linalg.matrix_rank(AB)\n",
    "n=A.shape[1]\n",
    "if(rA == rAB ):\n",
    "    if(rA == n):\n",
    "        print(\"The system has unique solution \")\n",
    "        print(np. linalg . solve (A,B))\n",
    "    else:\n",
    "        print(\"The system has infinitely many solutions \")\n",
    "else:\n",
    "    print(\"The system of equations is inconsistent \")"
   ]
  },
  {
   "cell_type": "code",
   "execution_count": null,
   "id": "8fe7ee5f",
   "metadata": {},
   "outputs": [],
   "source": [
    "#Examine the consistency of the following system of equations and solve if consistent.\n",
    "#x1 + 2x2 − x3 = 1, 2x1 + x2 + 5x3 = 2, 3x1 + 3x2 + 4x3 = 1.\n",
    "A = np.matrix([[1,2,-1],[2,1,5],[3,3,4]])\n",
    "B = np.matrix([[1],[2],[1]])\n",
    "AB = np.concatenate((A,B), axis =1)\n",
    "rA = np.linalg.matrix_rank (A)\n",
    "rAB =np.linalg.matrix_rank (AB)\n",
    "n=A.shape [1]\n",
    "if (rA==rAB ):\n",
    "    if (rA==n):\n",
    "        print (\"The system has unique solution \")\n",
    "        print (np. linalg . solve (A,B))\n",
    "    else:\n",
    "        print (\"The system has infinitely many solutions \")\n",
    "else :\n",
    "    print (\"The system of equations is inconsistent \")"
   ]
  },
  {
   "cell_type": "code",
   "execution_count": null,
   "id": "32224d00",
   "metadata": {},
   "outputs": [],
   "source": [
    "'''ALTERNATE METHOD: USING SYMPY MODULE'''\n",
    "import sympy as sp\n",
    "x, y, z = sp.symbols('x y z')\n",
    "A = sp.Matrix ([[1,2,-1],[2,1,5],[3,3,4]])\n",
    "B = sp.Matrix ([[1],[2],[1]])\n",
    "AB = A.col_insert (A.shape [1],B)\n",
    "rA = A.rank()\n",
    "rAB = AB.rank()\n",
    "n = A.shape [1]\n",
    "print (\"The coefficient matrix is\")\n",
    "sp. pprint (A)\n",
    "print (f\"The rank of the coefficient matrix is {rA}\")\n",
    "print (\"The augmented matrix is\")\n",
    "sp. pprint (AB)\n",
    "print (f\"The rank of the augmented matrix is {rAB}\")\n",
    "print (f\"The number of unkowns are {n}\")\n",
    "if (rA == rAB):\n",
    "    if (rA == n):\n",
    "        print (\"The system has unique solution \")\n",
    "    else:\n",
    "        print (\"The system has infinitely many solutions \")\n",
    "        print (sp. solve_linear_system (AB ,x,y,z))\n",
    "else:\n",
    "    print (\"The system of equations is inconsistent \")"
   ]
  },
  {
   "cell_type": "code",
   "execution_count": null,
   "id": "8ab106c9",
   "metadata": {},
   "outputs": [],
   "source": [
    "#GRAPHICAL REPRESENTATION OF A SOLUTION\n",
    "#Obain the solution of 3x + 5y = 1; x + y = 1 graphically.\n",
    "from sympy import *\n",
    "import numpy as np\n",
    "import matplotlib . pyplot as plt\n",
    "x,y= symbols ('x,y')\n",
    "sol = solve ([3*x+5*y-1,x+y-1],[x,y])\n",
    "p=sol[x]\n",
    "q=sol[y]\n",
    "print ('Point of intersection is A (', p ,',', q, ')\\n')\n",
    "x = np.arange (-10 , 10 , 0.001)\n",
    "y1 = (1-3*x)/5\n",
    "y2 = 1-x\n",
    "plt.plot (x,y1 ,x,y2)\n",
    "plt.plot (p,q, marker = 'o')\n",
    "plt.annotate ('A', xy=(p,q), xytext =(p+0.5, q))\n",
    "plt.xlim (-5,7)\n",
    "plt.ylim (-7,7)\n",
    "plt.axhline (y=0)\n",
    "plt.axvline (x=0)\n",
    "plt.title (\"$3x+5y=1; x+y=1$\")\n",
    "plt.xlabel (\" Values of x\")\n",
    "plt.ylabel (\" Values of y \")\n",
    "plt.legend (['$3x+5y=1$ ', '$x+y=1$ '])\n",
    "plt.grid ()\n",
    "plt.show ()"
   ]
  },
  {
   "cell_type": "code",
   "execution_count": null,
   "id": "33618ff9",
   "metadata": {},
   "outputs": [],
   "source": [
    "#Obtain the solution of 2x + y = 7; 3x − y = 3 graphically.\n",
    "from sympy import *\n",
    "import numpy as np\n",
    "import matplotlib . pyplot as plt\n",
    "x,y= symbols ('x,y')\n",
    "sol = solve ([2*x+y-7,3*x-y-3],[x,y])\n",
    "p = sol[x]\n",
    "q = sol[y]\n",
    "print('Point of intersection is A (', p ,',', q, ')\\n' )\n",
    "x = np.arange (-10 , 10 , 0.001)\n",
    "y1 = 7-2*x\n",
    "y2 = 3*x-3\n",
    "plt.plot (x,y1 ,'r')\n",
    "plt.plot (x,y2 ,'g')\n",
    "plt.plot (p,q, marker = 'o')\n",
    "plt.annotate ('A', xy=(p,q), xytext =(p+0.5, q))\n",
    "plt.xlim (-5,7)\n",
    "plt.ylim (-7,7)\n",
    "plt.axhline (y=0)\n",
    "plt.axvline (x=0)\n",
    "plt.title (\"$2x+y=7; 3x -y=3$\")\n",
    "plt.xlabel (\" Values of x\")\n",
    "plt.ylabel (\" Values of y \")\n",
    "plt.legend (['$2x+y=7$ ', '$3x -y-3$ '])\n",
    "plt.grid ()\n",
    "plt.show ()"
   ]
  },
  {
   "cell_type": "markdown",
   "id": "285971e1",
   "metadata": {},
   "source": [
    "## LAB 9: Solution of system of linear equations by Gauss-Seidel method."
   ]
  },
  {
   "cell_type": "code",
   "execution_count": null,
   "id": "4198b1cc",
   "metadata": {},
   "outputs": [],
   "source": [
    "#Solve the system of equations using Gauss-Seidel method: 20x+y−2z = 17; 3x+20y−z =−18; 2x − 3y + 20z = 25.\n",
    "f1 = lambda x,y,z: (17-y+2*z)/20\n",
    "f2 = lambda x,y,z: (-18-3*x+z)/20\n",
    "f3 = lambda x,y,z: (25-2*x+3*y)/20\n",
    "x0 = 0\n",
    "y0 = 0\n",
    "z0 = 0\n",
    "count = 1\n",
    "e = float ( input ('Enter tolerable error : '))\n",
    "print ('\\n Count \\tx\\ty\\tz\\n')\n",
    "condition = True\n",
    "while condition :\n",
    "    x1 = f1(x0 ,y0 ,z0)\n",
    "    y1 = f2(x1 ,y0 ,z0)\n",
    "    z1 = f3(x1 ,y1 ,z0)\n",
    "    print ('%d\\t%0.4f\\t%0.4f\\t%0.4f\\n' %(count , x1 ,y1 ,z1))\n",
    "    e1 = abs(x0-x1);\n",
    "    e2 = abs(y0-y1);\n",
    "    e3 = abs(z0-z1);\n",
    "    count += 1\n",
    "    x0 = x1\n",
    "    y0 = y1\n",
    "    z0 = z1\n",
    "    condition = e1>e and e2>e and e3>e\n",
    "print ('\\n Solution : x= %0.3f , y= %0.3f and z = %0.3f\\n'% (x1 ,y1 ,z1))"
   ]
  },
  {
   "cell_type": "code",
   "execution_count": null,
   "id": "8fca3958",
   "metadata": {},
   "outputs": [],
   "source": [
    "#Solve x+2y−z = 3; 3x−y+2z = 1; 2x−2y+6z = 2 by Gauss-Seidel Iteration method.\n",
    "f1 = lambda x,y,z: (1+y-2*z)/3\n",
    "f2 = lambda x,y,z: (3-x+z)/2\n",
    "f3 = lambda x,y,z: (2-2*x+2*y)/6\n",
    "x0 ,y0 ,z0 = 0,0,0\n",
    "e = float ( input ('Enter tolerable error : '))\n",
    "print ('\\n Iteration \\t x\\t y\\t z\\n')\n",
    "for i in range (0,25):\n",
    "    x1 = f1(x0 ,y0 ,z0)\n",
    "    y1 = f2(x1 ,y0 ,z0)\n",
    "    z1 = f3(x1 ,y1 ,z0)\n",
    "    print ('%d\\t%0.4f\\t%0.4f\\t%0.4f\\n' %(i, x1 ,y1 ,z1))\n",
    "    e1 = abs(x0-x1);\n",
    "    e2 = abs(y0-y1);\n",
    "    e3 = abs(z0-z1);\n",
    "    x0 = x1\n",
    "    y0 = y1\n",
    "    z0 = z1\n",
    "    if e1>e and e2>e and e3>e:\n",
    "        continue\n",
    "    else:\n",
    "        break\n",
    "print('\\n Solution : x = %0.3f , y = %0.3f and z = %0.3f\\n'% (x1 ,y1 ,z1))"
   ]
  },
  {
   "cell_type": "code",
   "execution_count": null,
   "id": "b2129b47",
   "metadata": {},
   "outputs": [],
   "source": [
    "from numpy import *\n",
    "def seidel (a, x ,b):\n",
    "    n = len(a)\n",
    "    for j in range (0, n):\n",
    "        d = b[j]\n",
    "    for i in range (0, n):\n",
    "        if(j != i):\n",
    "            d=d-a[j][i] * x[i]\n",
    "    x[j] = d / a[j][j]\n",
    "    return x\n",
    "a= array ([[20.0,1.0,-2.0],[ 3.0,20.0,-1.0],[2.0,-3.0,20.0]])\n",
    "x= array ([[0.0],[0.0],[0.0]])\n",
    "b= array ([[17.0],[-18.0],[25.0]])\n",
    "for i in range (0, 25):\n",
    "    x = seidel (a, x, b)\n",
    "print (x)"
   ]
  },
  {
   "cell_type": "code",
   "execution_count": 25,
   "id": "dd3f3736",
   "metadata": {},
   "outputs": [
    {
     "name": "stdout",
     "output_type": "stream",
     "text": [
      "[[1. ]\n",
      " [0. ]\n",
      " [1.1]]\n"
     ]
    }
   ],
   "source": [
    "#Solve the system of equations 10x + y + z = 12; x + 10y + z = 12; x + y + 10z = 12 by Gauss-Seidel method.\n",
    "from numpy import *\n",
    "import sys\n",
    "def seidel (a, x ,b):\n",
    "    n = len(a)\n",
    "    for j in range (0, n):\n",
    "        d = b[j]\n",
    "    for i in range (0, n):\n",
    "        if(j != i):\n",
    "            d=d-a[j][i] * x[i]\n",
    "    x[j] = d/a[j][j]\n",
    "    return x\n",
    "a = array ([[10.0,1.0,1.0],[ 1.0,10.0,1.0],[1.0,1.0,10.0]])\n",
    "x = array ([[1.0],[0.0],[0.0]])\n",
    "b= array ([[12.0],[12.0],[12.0]])\n",
    "for i in range (0,len (a)):\n",
    "    asum =0\n",
    "    for j in range (0,len(a)):\n",
    "        if (i!=j):\n",
    "            asum = asum + abs(a[i][j])\n",
    "    if(asum <=a[i][i]):\n",
    "        continue\n",
    "    else:\n",
    "        sys.exit (\"The system is not diagonally dominant \")\n",
    "for i in range (0, 25):\n",
    "    x = seidel (a, x, b)\n",
    "print (x)\n",
    "# Note here that the inputs if float gives the output in float ."
   ]
  },
  {
   "cell_type": "code",
   "execution_count": null,
   "id": "b09431a4",
   "metadata": {},
   "outputs": [],
   "source": [
    "#Apply Gauss-Siedel method to solve the system of equations: 5x−y−z = −3; x−5y+z =−9; 2x + y − 4z = −15.\n",
    "import numpy as np\n",
    "from scipy . linalg import solve\n",
    "def gauss (A, b, x, n):\n",
    "    L = np. tril (A)\n",
    "    U = A - L\n",
    "    for i in range (n):\n",
    "        xnew = np.dot (np. linalg .inv (L), b - np.dot (U, x))\n",
    "        x= xnew\n",
    "        print (x)\n",
    "    return x\n",
    "    ''' ___MAIN___ '''\n",
    "A = np.array ([[5.0, -1.0, -1.0], [1.0, -5.0, 1.0], [2.0, 1.0, -4.0]])\n",
    "b = [-3.0,-9.0,-15.0]\n",
    "x = [1, 0, 1]\n",
    "n = 20\n",
    "gauss(A, b, x, n)\n",
    "solve(A, b)"
   ]
  },
  {
   "cell_type": "markdown",
   "id": "be8eb753",
   "metadata": {},
   "source": [
    "## LAB 10: Compute eigenvalues and corresponding eigenvectors. Find dominant and corresponding eigenvector by Rayliegh power method."
   ]
  },
  {
   "cell_type": "code",
   "execution_count": null,
   "id": "cbdfa49f",
   "metadata": {},
   "outputs": [],
   "source": [
    "#Obtain the eigen values and eigen vectors for the given matrix.\n",
    "'''4 3 2\n",
    "1 4 1\n",
    "3 10 4'''\n",
    "import numpy as np\n",
    "I = np.array ([[4,3,2],[1,4,1],[3,10 ,4]])\n",
    "print (\"\\n Given matrix : \\n\", I)\n",
    "w,v = np.linalg.eig (I)\n",
    "print (\"\\n Eigen values : \\n\", w)\n",
    "print (\"\\n Eigen vectors : \\n\", v)\n",
    "print (\" Eigen value :\\n \", w[0])\n",
    "print (\"\\n Corresponding Eigen vector :\", v[:,0])"
   ]
  },
  {
   "cell_type": "code",
   "execution_count": null,
   "id": "249f2461",
   "metadata": {},
   "outputs": [],
   "source": [
    "#Obtain the eigen values and eigen vectors for the given matrix.\n",
    "'''A =\n",
    "1 −3 3\n",
    "3 −5 3\n",
    "6 −6 4'''\n",
    "import numpy as np\n",
    "I = np.array ([[1,-3,3],[3,-5,3],[6,-6,4]])\n",
    "print (\"\\n Given matrix : \\n\", I)\n",
    "w,v = np.linalg.eig (I)\n",
    "print (\"\\n Eigen values : \\n\", w)\n",
    "print (\"\\n Eigen vectors : \\n\", v)"
   ]
  },
  {
   "cell_type": "code",
   "execution_count": null,
   "id": "f7174e32",
   "metadata": {},
   "outputs": [],
   "source": [
    "'''RAYLEIGH POWER'''\n",
    "#Compute the numerically largest eigenvalue of P =\n",
    "'''6 −2 2\n",
    "−2 3 −1\n",
    "2 −1 3\n",
    "by power method.'''\n",
    "import numpy as np\n",
    "def normalize(x):\n",
    "    fac = abs(x).max()\n",
    "    x_n = x / x.max()\n",
    "    return fac, x_n\n",
    "x = np. array ([1, 1,1])\n",
    "a = np. array ([[6,-2,2 ],\n",
    "[-2,3,-1],[2,-1,3]])\n",
    "for i in range (10):\n",
    "    x = np.dot(a, x)\n",
    "    lambda_1 , x = normalize (x)\n",
    "print ('Eigenvalue :', lambda_1 )\n",
    "print (' Eigenvector :', x)"
   ]
  },
  {
   "cell_type": "code",
   "execution_count": null,
   "id": "52ba5361",
   "metadata": {},
   "outputs": [],
   "source": [
    "#Compute the numerically largest eigenvalue of P =\n",
    "'''1 1 3\n",
    "1 5 1\n",
    "3 1 1\n",
    "by power method.'''\n",
    "import numpy as np\n",
    "def normalize (x):\n",
    "    fac = abs(x).max()\n",
    "    x_n = x / x.max()\n",
    "    return fac , x_n\n",
    "x = np. array ([1, 1,1])\n",
    "a = np. array ([[1,1,3 ],\n",
    "[1,5,1],[3,1,1]])\n",
    "for i in range (10):\n",
    "    x = np.dot(a, x)\n",
    "    lambda_1 , x = normalize (x)\n",
    "print ('Eigenvalue :', lambda_1 )\n",
    "print (' Eigenvector :', x)"
   ]
  }
 ],
 "metadata": {
  "kernelspec": {
   "display_name": "Python 3 (ipykernel)",
   "language": "python",
   "name": "python3"
  },
  "language_info": {
   "codemirror_mode": {
    "name": "ipython",
    "version": 3
   },
   "file_extension": ".py",
   "mimetype": "text/x-python",
   "name": "python",
   "nbconvert_exporter": "python",
   "pygments_lexer": "ipython3",
   "version": "3.11.7"
  }
 },
 "nbformat": 4,
 "nbformat_minor": 5
}
